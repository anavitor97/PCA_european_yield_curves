{
 "cells": [
  {
   "cell_type": "markdown",
   "metadata": {
    "collapsed": false
   },
   "source": [
    "# Part 1: Stationary dataset, first differences taken"
   ]
  },
  {
   "cell_type": "markdown",
   "metadata": {
    "collapsed": false
   },
   "source": [
    "## Demonstrating shift/slope/curvature with the first three PCs"
   ]
  },
  {
   "cell_type": "markdown",
   "metadata": {
    "collapsed": false
   },
   "source": [
    "### Dataset used: 2004 to 2020, average of AAA rated bonds, forward curve, daily data"
   ]
  },
  {
   "cell_type": "markdown",
   "metadata": {
    "collapsed": false
   },
   "source": [
    "Here in the first section I am just showing how the PC1 correlates to the shift, the PC2 correlates to the slope and how the PC3 correlates to the curvature.\n",
    "\n",
    "I have sourced the data from the same source of the author Milan Lazarevic from his paper \"Principal component analysis in negative interest rate environment\" published in 2019 in the Acta Oeconomica Vol 69. \n",
    "\n",
    "You can find it here under daily data: https://ec.europa.eu/eurostat/data/database \n",
    "The folder to look for is >Data navigation tree> Database by themes > Economy and finance > Interest rates (irt)> Euro yield curves daily data \n"
   ]
  },
  {
   "attachments": {
   },
   "cell_type": "markdown",
   "metadata": {
    "collapsed": false
   },
   "source": [
    "<img src=\"attachment:screenshot%202020-09-30%20at%2018.16.53.png\" style=\"max-width:100%\">"
   ]
  },
  {
   "cell_type": "markdown",
   "metadata": {
    "collapsed": false
   },
   "source": [
    "### Data set picking and elaboration"
   ]
  },
  {
   "cell_type": "markdown",
   "metadata": {
    "collapsed": false
   },
   "source": [
    "I have, as the author, picked the forward curve instead of the spot curve and the average of the AAA rated bonds instead of the average of the entire euro area. \n",
    "\n",
    "My decision to pick the AAA average instead of the entire average of the entire eurozone is just to ensure consistency when I will later compare my result to his paper results in Parts 2 and 3. \n",
    "\n",
    "Parts 2 and 3 will deal with PCA applied in a positive vs a negative interest rate environment \n",
    "\n",
    "The decision to pick the forward curve instead of the spot curve comes from the critique that Lekkos provided in his paper of 2000. \n",
    "\n",
    "As Lazarevic states at page 109 \"Data from the forward rate yield curve were used as the basis, instead of those from the zero-coupon rates, in accordance with the conclusions of Lord – Pelsser (2007) based on the criticism of Lekkos (2000). He pointed out the inadequacy of PCA’s approach to the yield curves of previous authors, primarily by Litterman – Scheinkman (1991) and Steeley (1990), in terms of choosing a zero-coupon rate. The rationale of Lekkos is that on the basis of these data we get a distorted picture (overestimation). The key argument is that zero yield represents the average of continuously compounded forward rates.\".\n",
    "\n",
    "The maturities picked are 1y, 2y, 3y, 4y, 5y, 7y, 10, 15y, 20y and 30y, as the author Milan Lazarevic. \n",
    "\n",
    "Before using these in R, I have worked on them one step prior on Excel. Meaning that I downloaded the daily data of the forward curve for the AAA rated bonds in Excel and took the first difference to get stationarity. He does this as well by stating this at page 114 \"Therefore, it is recommended by Lardic et al. (2003) that the PCA is to be implemented on interest rate changes, since the use of the first differences provides evidence for stationarity of the time series com- prising the yield curve.\".\n"
   ]
  },
  {
   "cell_type": "markdown",
   "metadata": {
    "collapsed": false
   },
   "source": [
    "## Code"
   ]
  },
  {
   "cell_type": "code",
   "execution_count": 5,
   "metadata": {
    "collapsed": false
   },
   "outputs": [
   ],
   "source": [
    "#Loading the dataset\n",
    "\n",
    "library(\"readxl\")\n",
    "library(\"dplyr\")\n",
    "library(\"stargazer\") # for nice  tables\n",
    "\n"
   ]
  },
  {
   "cell_type": "markdown",
   "metadata": {
    "collapsed": false
   },
   "source": [
    "#### Loading data: This dataset has the first differences taken"
   ]
  },
  {
   "cell_type": "code",
   "execution_count": 6,
   "metadata": {
    "collapsed": false
   },
   "outputs": [
    {
     "data": {
      "text/html": [
       "<table class=\"dataframe\">\n",
       "<caption>A tibble: 6 × 11</caption>\n",
       "<thead>\n",
       "\t<tr><th scope=col>Date</th><th scope=col>oney</th><th scope=col>twoy</th><th scope=col>threey</th><th scope=col>foury</th><th scope=col>fivey</th><th scope=col>seveny</th><th scope=col>teny</th><th scope=col>fifteeny</th><th scope=col>twentyy</th><th scope=col>thirtyy</th></tr>\n",
       "\t<tr><th scope=col>&lt;chr&gt;</th><th scope=col>&lt;dbl&gt;</th><th scope=col>&lt;dbl&gt;</th><th scope=col>&lt;dbl&gt;</th><th scope=col>&lt;dbl&gt;</th><th scope=col>&lt;dbl&gt;</th><th scope=col>&lt;dbl&gt;</th><th scope=col>&lt;dbl&gt;</th><th scope=col>&lt;dbl&gt;</th><th scope=col>&lt;dbl&gt;</th><th scope=col>&lt;dbl&gt;</th></tr>\n",
       "</thead>\n",
       "<tbody>\n",
       "\t<tr><td>2004M09D07</td><td> 0.05</td><td> 0.04</td><td> 0.01</td><td> 0.00</td><td>-0.01</td><td>-0.02</td><td>-0.03</td><td>-0.02</td><td>-0.02</td><td>-0.02</td></tr>\n",
       "\t<tr><td>2004M09D08</td><td> 0.03</td><td> 0.04</td><td> 0.04</td><td> 0.03</td><td> 0.02</td><td> 0.01</td><td> 0.01</td><td>-0.01</td><td> 0.00</td><td> 0.00</td></tr>\n",
       "\t<tr><td>2004M09D09</td><td>-0.07</td><td>-0.10</td><td>-0.10</td><td>-0.09</td><td>-0.08</td><td>-0.06</td><td>-0.04</td><td>-0.02</td><td>-0.02</td><td>-0.01</td></tr>\n",
       "\t<tr><td>2004M09D10</td><td>-0.07</td><td>-0.07</td><td>-0.06</td><td>-0.04</td><td>-0.04</td><td>-0.02</td><td>-0.02</td><td>-0.02</td><td>-0.02</td><td>-0.02</td></tr>\n",
       "\t<tr><td>2004M09D13</td><td> 0.06</td><td> 0.05</td><td> 0.04</td><td> 0.01</td><td> 0.01</td><td> 0.00</td><td> 0.00</td><td> 0.01</td><td> 0.01</td><td> 0.00</td></tr>\n",
       "\t<tr><td>2004M09D14</td><td>-0.02</td><td>-0.02</td><td>-0.02</td><td>-0.01</td><td>-0.01</td><td>-0.01</td><td> 0.00</td><td> 0.00</td><td> 0.00</td><td> 0.01</td></tr>\n",
       "</tbody>\n",
       "</table>\n"
      ],
      "text/latex": [
       "A tibble: 6 × 11\n",
       "\\begin{tabular}{lllllllllll}\n",
       " Date & oney & twoy & threey & foury & fivey & seveny & teny & fifteeny & twentyy & thirtyy\\\\\n",
       " <chr> & <dbl> & <dbl> & <dbl> & <dbl> & <dbl> & <dbl> & <dbl> & <dbl> & <dbl> & <dbl>\\\\\n",
       "\\hline\n",
       "\t 2004M09D07 &  0.05 &  0.04 &  0.01 &  0.00 & -0.01 & -0.02 & -0.03 & -0.02 & -0.02 & -0.02\\\\\n",
       "\t 2004M09D08 &  0.03 &  0.04 &  0.04 &  0.03 &  0.02 &  0.01 &  0.01 & -0.01 &  0.00 &  0.00\\\\\n",
       "\t 2004M09D09 & -0.07 & -0.10 & -0.10 & -0.09 & -0.08 & -0.06 & -0.04 & -0.02 & -0.02 & -0.01\\\\\n",
       "\t 2004M09D10 & -0.07 & -0.07 & -0.06 & -0.04 & -0.04 & -0.02 & -0.02 & -0.02 & -0.02 & -0.02\\\\\n",
       "\t 2004M09D13 &  0.06 &  0.05 &  0.04 &  0.01 &  0.01 &  0.00 &  0.00 &  0.01 &  0.01 &  0.00\\\\\n",
       "\t 2004M09D14 & -0.02 & -0.02 & -0.02 & -0.01 & -0.01 & -0.01 &  0.00 &  0.00 &  0.00 &  0.01\\\\\n",
       "\\end{tabular}\n"
      ],
      "text/markdown": [
       "\n",
       "A tibble: 6 × 11\n",
       "\n",
       "| Date &lt;chr&gt; | oney &lt;dbl&gt; | twoy &lt;dbl&gt; | threey &lt;dbl&gt; | foury &lt;dbl&gt; | fivey &lt;dbl&gt; | seveny &lt;dbl&gt; | teny &lt;dbl&gt; | fifteeny &lt;dbl&gt; | twentyy &lt;dbl&gt; | thirtyy &lt;dbl&gt; |\n",
       "|---|---|---|---|---|---|---|---|---|---|---|\n",
       "| 2004M09D07 |  0.05 |  0.04 |  0.01 |  0.00 | -0.01 | -0.02 | -0.03 | -0.02 | -0.02 | -0.02 |\n",
       "| 2004M09D08 |  0.03 |  0.04 |  0.04 |  0.03 |  0.02 |  0.01 |  0.01 | -0.01 |  0.00 |  0.00 |\n",
       "| 2004M09D09 | -0.07 | -0.10 | -0.10 | -0.09 | -0.08 | -0.06 | -0.04 | -0.02 | -0.02 | -0.01 |\n",
       "| 2004M09D10 | -0.07 | -0.07 | -0.06 | -0.04 | -0.04 | -0.02 | -0.02 | -0.02 | -0.02 | -0.02 |\n",
       "| 2004M09D13 |  0.06 |  0.05 |  0.04 |  0.01 |  0.01 |  0.00 |  0.00 |  0.01 |  0.01 |  0.00 |\n",
       "| 2004M09D14 | -0.02 | -0.02 | -0.02 | -0.01 | -0.01 | -0.01 |  0.00 |  0.00 |  0.00 |  0.01 |\n",
       "\n"
      ],
      "text/plain": [
       "  Date       oney  twoy  threey foury fivey seveny teny  fifteeny twentyy\n",
       "1 2004M09D07  0.05  0.04  0.01   0.00 -0.01 -0.02  -0.03 -0.02    -0.02  \n",
       "2 2004M09D08  0.03  0.04  0.04   0.03  0.02  0.01   0.01 -0.01     0.00  \n",
       "3 2004M09D09 -0.07 -0.10 -0.10  -0.09 -0.08 -0.06  -0.04 -0.02    -0.02  \n",
       "4 2004M09D10 -0.07 -0.07 -0.06  -0.04 -0.04 -0.02  -0.02 -0.02    -0.02  \n",
       "5 2004M09D13  0.06  0.05  0.04   0.01  0.01  0.00   0.00  0.01     0.01  \n",
       "6 2004M09D14 -0.02 -0.02 -0.02  -0.01 -0.01 -0.01   0.00  0.00     0.00  \n",
       "  thirtyy\n",
       "1 -0.02  \n",
       "2  0.00  \n",
       "3 -0.01  \n",
       "4 -0.02  \n",
       "5  0.00  \n",
       "6  0.01  "
      ]
     },
     "execution_count": 6,
     "metadata": {
     },
     "output_type": "execute_result"
    }
   ],
   "source": [
    "\n",
    "data <- read_excel(\"fw_2004to2020_diff.xlsx\")\n",
    "head(data)\n"
   ]
  },
  {
   "cell_type": "markdown",
   "metadata": {
    "collapsed": false
   },
   "source": [
    "## Testing for Stationarity"
   ]
  },
  {
   "cell_type": "markdown",
   "metadata": {
    "collapsed": false
   },
   "source": [
    "### Augmented Dickey Fuller test - first differences taken here"
   ]
  },
  {
   "cell_type": "code",
   "execution_count": 7,
   "metadata": {
    "collapsed": false,
    "scrolled": true
   },
   "outputs": [
   ],
   "source": [
    "library(tseries)"
   ]
  },
  {
   "cell_type": "code",
   "execution_count": 4,
   "metadata": {
    "collapsed": false
   },
   "outputs": [
    {
     "name": "stderr",
     "output_type": "stream",
     "text": [
      "Warning message in adf.test(data$oney):\n",
      "“p-value smaller than printed p-value”\n"
     ]
    },
    {
     "data": {
      "text/plain": [
       "\n",
       "\tAugmented Dickey-Fuller Test\n",
       "\n",
       "data:  data$oney\n",
       "Dickey-Fuller = -15.449, Lag order = 15, p-value = 0.01\n",
       "alternative hypothesis: stationary\n"
      ]
     },
     "execution_count": 4,
     "metadata": {
     },
     "output_type": "execute_result"
    }
   ],
   "source": [
    "adfresult1 <- adf.test(data$oney)\n",
    "\n",
    "adfresult1\n"
   ]
  },
  {
   "cell_type": "code",
   "execution_count": 5,
   "metadata": {
    "collapsed": false
   },
   "outputs": [
    {
     "name": "stderr",
     "output_type": "stream",
     "text": [
      "Warning message in adf.test(data$twoy):\n",
      "“p-value smaller than printed p-value”\n"
     ]
    },
    {
     "data": {
      "text/plain": [
       "\n",
       "\tAugmented Dickey-Fuller Test\n",
       "\n",
       "data:  data$twoy\n",
       "Dickey-Fuller = -16.985, Lag order = 15, p-value = 0.01\n",
       "alternative hypothesis: stationary\n"
      ]
     },
     "execution_count": 5,
     "metadata": {
     },
     "output_type": "execute_result"
    }
   ],
   "source": [
    "adfresult2 <- adf.test(data$twoy)\n",
    "\n",
    "\n",
    "adfresult2\n"
   ]
  },
  {
   "cell_type": "code",
   "execution_count": 6,
   "metadata": {
    "collapsed": false
   },
   "outputs": [
    {
     "name": "stderr",
     "output_type": "stream",
     "text": [
      "Warning message in adf.test(data$threey):\n",
      "“p-value smaller than printed p-value”\n"
     ]
    },
    {
     "data": {
      "text/plain": [
       "\n",
       "\tAugmented Dickey-Fuller Test\n",
       "\n",
       "data:  data$threey\n",
       "Dickey-Fuller = -16.854, Lag order = 15, p-value = 0.01\n",
       "alternative hypothesis: stationary\n"
      ]
     },
     "execution_count": 6,
     "metadata": {
     },
     "output_type": "execute_result"
    }
   ],
   "source": [
    "\n",
    "adfresult3 <- adf.test(data$threey)\n",
    "\n",
    "\n",
    "adfresult3\n"
   ]
  },
  {
   "cell_type": "code",
   "execution_count": 7,
   "metadata": {
    "collapsed": false
   },
   "outputs": [
    {
     "name": "stderr",
     "output_type": "stream",
     "text": [
      "Warning message in adf.test(data$foury):\n",
      "“p-value smaller than printed p-value”\n"
     ]
    },
    {
     "data": {
      "text/plain": [
       "\n",
       "\tAugmented Dickey-Fuller Test\n",
       "\n",
       "data:  data$foury\n",
       "Dickey-Fuller = -16.611, Lag order = 15, p-value = 0.01\n",
       "alternative hypothesis: stationary\n"
      ]
     },
     "execution_count": 7,
     "metadata": {
     },
     "output_type": "execute_result"
    }
   ],
   "source": [
    "adfresult4 <- adf.test(data$foury)\n",
    "\n",
    "\n",
    "adfresult4\n"
   ]
  },
  {
   "cell_type": "code",
   "execution_count": 8,
   "metadata": {
    "collapsed": false
   },
   "outputs": [
    {
     "name": "stderr",
     "output_type": "stream",
     "text": [
      "Warning message in adf.test(data$fivey):\n",
      "“p-value smaller than printed p-value”\n"
     ]
    },
    {
     "data": {
      "text/plain": [
       "\n",
       "\tAugmented Dickey-Fuller Test\n",
       "\n",
       "data:  data$fivey\n",
       "Dickey-Fuller = -16.499, Lag order = 15, p-value = 0.01\n",
       "alternative hypothesis: stationary\n"
      ]
     },
     "execution_count": 8,
     "metadata": {
     },
     "output_type": "execute_result"
    }
   ],
   "source": [
    "adfresult5 <- adf.test(data$fivey)\n",
    "\n",
    "\n",
    "\n",
    "\n",
    "adfresult5\n"
   ]
  },
  {
   "cell_type": "code",
   "execution_count": 9,
   "metadata": {
    "collapsed": false
   },
   "outputs": [
    {
     "name": "stderr",
     "output_type": "stream",
     "text": [
      "Warning message in adf.test(data$seveny):\n",
      "“p-value smaller than printed p-value”\n"
     ]
    },
    {
     "data": {
      "text/plain": [
       "\n",
       "\tAugmented Dickey-Fuller Test\n",
       "\n",
       "data:  data$seveny\n",
       "Dickey-Fuller = -16.529, Lag order = 15, p-value = 0.01\n",
       "alternative hypothesis: stationary\n"
      ]
     },
     "execution_count": 9,
     "metadata": {
     },
     "output_type": "execute_result"
    }
   ],
   "source": [
    "adfresult7 <- adf.test(data$seveny)\n",
    "\n",
    "\n",
    "adfresult7\n"
   ]
  },
  {
   "cell_type": "code",
   "execution_count": 10,
   "metadata": {
    "collapsed": false
   },
   "outputs": [
    {
     "name": "stderr",
     "output_type": "stream",
     "text": [
      "Warning message in adf.test(data$teny):\n",
      "“p-value smaller than printed p-value”\n"
     ]
    },
    {
     "data": {
      "text/plain": [
       "\n",
       "\tAugmented Dickey-Fuller Test\n",
       "\n",
       "data:  data$teny\n",
       "Dickey-Fuller = -16.906, Lag order = 15, p-value = 0.01\n",
       "alternative hypothesis: stationary\n"
      ]
     },
     "execution_count": 10,
     "metadata": {
     },
     "output_type": "execute_result"
    }
   ],
   "source": [
    "adfresult10 <- adf.test(data$teny)\n",
    "\n",
    "\n",
    "adfresult10\n"
   ]
  },
  {
   "cell_type": "code",
   "execution_count": 11,
   "metadata": {
    "collapsed": false
   },
   "outputs": [
    {
     "name": "stderr",
     "output_type": "stream",
     "text": [
      "Warning message in adf.test(data$fifteeny):\n",
      "“p-value smaller than printed p-value”\n"
     ]
    },
    {
     "data": {
      "text/plain": [
       "\n",
       "\tAugmented Dickey-Fuller Test\n",
       "\n",
       "data:  data$fifteeny\n",
       "Dickey-Fuller = -17.652, Lag order = 15, p-value = 0.01\n",
       "alternative hypothesis: stationary\n"
      ]
     },
     "execution_count": 11,
     "metadata": {
     },
     "output_type": "execute_result"
    }
   ],
   "source": [
    "adfresult15 <- adf.test(data$fifteeny)\n",
    "\n",
    "adfresult15\n"
   ]
  },
  {
   "cell_type": "code",
   "execution_count": 12,
   "metadata": {
    "collapsed": false
   },
   "outputs": [
    {
     "name": "stderr",
     "output_type": "stream",
     "text": [
      "Warning message in adf.test(data$twentyy):\n",
      "“p-value smaller than printed p-value”\n"
     ]
    },
    {
     "data": {
      "text/plain": [
       "\n",
       "\tAugmented Dickey-Fuller Test\n",
       "\n",
       "data:  data$twentyy\n",
       "Dickey-Fuller = -18.652, Lag order = 15, p-value = 0.01\n",
       "alternative hypothesis: stationary\n"
      ]
     },
     "execution_count": 12,
     "metadata": {
     },
     "output_type": "execute_result"
    }
   ],
   "source": [
    "adfresult20 <- adf.test(data$twentyy)\n",
    "adfresult20\n"
   ]
  },
  {
   "cell_type": "code",
   "execution_count": 13,
   "metadata": {
    "collapsed": false
   },
   "outputs": [
    {
     "name": "stderr",
     "output_type": "stream",
     "text": [
      "Warning message in adf.test(data$thirtyy):\n",
      "“p-value smaller than printed p-value”\n"
     ]
    },
    {
     "data": {
      "text/plain": [
       "\n",
       "\tAugmented Dickey-Fuller Test\n",
       "\n",
       "data:  data$thirtyy\n",
       "Dickey-Fuller = -18.742, Lag order = 15, p-value = 0.01\n",
       "alternative hypothesis: stationary\n"
      ]
     },
     "execution_count": 13,
     "metadata": {
     },
     "output_type": "execute_result"
    }
   ],
   "source": [
    "adfresult30 <- adf.test(data$thirtyy)\n",
    "\n",
    "adfresult30"
   ]
  },
  {
   "cell_type": "markdown",
   "metadata": {
    "collapsed": false
   },
   "source": [
    "## Autocorrelation Functions"
   ]
  },
  {
   "cell_type": "code",
   "execution_count": 14,
   "metadata": {
    "collapsed": false
   },
   "outputs": [
    {
     "data": {
      "text/html": [
       "<strong>png:</strong> 2"
      ],
      "text/latex": [
       "\\textbf{png:} 2"
      ],
      "text/markdown": [
       "**png:** 2"
      ],
      "text/plain": [
       "png \n",
       "  2 "
      ]
     },
     "execution_count": 14,
     "metadata": {
     },
     "output_type": "execute_result"
    }
   ],
   "source": [
    "#Exporting the image as jpeg\n",
    "\n",
    "jpeg(file=\"ACF in stationary_part1.jpeg\", quality=100)\n",
    "\n",
    "acf(data, lag.max=20)\n",
    "dev.off() "
   ]
  },
  {
   "cell_type": "code",
   "execution_count": 15,
   "metadata": {
    "collapsed": false
   },
   "outputs": [
    {
     "data": {
      "image/png": "[encoded data removed]",
      "text/plain": [
       "Plot with title “fivey”"
      ]
     },
     "execution_count": 15,
     "metadata": {
      "image/png": {
       "height": 420,
       "width": 420
      }
     },
     "output_type": "execute_result"
    },
    {
     "data": {
      "image/png": "[encoded data removed]",
      "text/plain": [
       "Plot with title “fivy & thrt”"
      ]
     },
     "execution_count": 15,
     "metadata": {
      "image/png": {
       "height": 420,
       "width": 420
      }
     },
     "output_type": "execute_result"
    },
    {
     "data": {
      "image/png": "[encoded data removed]",
      "text/plain": [
       "Plot with title “thrt & fivy”"
      ]
     },
     "execution_count": 15,
     "metadata": {
      "image/png": {
       "height": 420,
       "width": 420
      }
     },
     "output_type": "execute_result"
    },
    {
     "data": {
      "image/png": "[encoded data removed]",
      "text/plain": [
       "Plot with title “thirtyy”"
      ]
     },
     "execution_count": 15,
     "metadata": {
      "image/png": {
       "height": 420,
       "width": 420
      }
     },
     "output_type": "execute_result"
    }
   ],
   "source": [
    "acf(data, lag.max=20)\n"
   ]
  },
  {
   "cell_type": "code",
   "execution_count": 16,
   "metadata": {
    "collapsed": false
   },
   "outputs": [
    {
     "data": {
      "text/html": [
       "<strong>png:</strong> 2"
      ],
      "text/latex": [
       "\\textbf{png:} 2"
      ],
      "text/markdown": [
       "**png:** 2"
      ],
      "text/plain": [
       "png \n",
       "  2 "
      ]
     },
     "execution_count": 16,
     "metadata": {
     },
     "output_type": "execute_result"
    }
   ],
   "source": [
    "#Exporting the image as jpeg\n",
    "\n",
    "jpeg(file=\"ACF in stationary_part1.jpeg\")\n",
    "\n",
    "\n",
    "acf(data, lag.max=20)\n",
    "dev.off() \n"
   ]
  },
  {
   "cell_type": "code",
   "execution_count": 17,
   "metadata": {
    "collapsed": false
   },
   "outputs": [
    {
     "data": {
      "image/png": "[encoded data removed]",
      "text/plain": [
       "Plot with title “Series  data$oney”"
      ]
     },
     "execution_count": 17,
     "metadata": {
      "image/png": {
       "height": 420,
       "width": 420
      }
     },
     "output_type": "execute_result"
    }
   ],
   "source": [
    "acf(data$oney, lag.max=500)\n",
    "\n"
   ]
  },
  {
   "cell_type": "code",
   "execution_count": 18,
   "metadata": {
    "collapsed": false
   },
   "outputs": [
    {
     "data": {
      "text/html": [
       "<strong>png:</strong> 2"
      ],
      "text/latex": [
       "\\textbf{png:} 2"
      ],
      "text/markdown": [
       "**png:** 2"
      ],
      "text/plain": [
       "png \n",
       "  2 "
      ]
     },
     "execution_count": 18,
     "metadata": {
     },
     "output_type": "execute_result"
    }
   ],
   "source": [
    "#Exporting the image as jpeg\n",
    "\n",
    "jpeg(file=\"ACF in stationary_part1_1.jpeg\")\n",
    "\n",
    "acf(data$oney, lag.max=500)\n",
    "\n",
    "dev.off() \n"
   ]
  },
  {
   "cell_type": "code",
   "execution_count": 19,
   "metadata": {
    "collapsed": false
   },
   "outputs": [
    {
     "data": {
      "image/png": "[encoded data removed]",
      "text/plain": [
       "Plot with title “Series  data$oney”"
      ]
     },
     "execution_count": 19,
     "metadata": {
      "image/png": {
       "height": 420,
       "width": 420
      }
     },
     "output_type": "execute_result"
    }
   ],
   "source": [
    "acf(data$oney, lag.max=500)\n"
   ]
  },
  {
   "cell_type": "code",
   "execution_count": 20,
   "metadata": {
    "collapsed": false
   },
   "outputs": [
    {
     "data": {
      "text/html": [
       "<strong>png:</strong> 2"
      ],
      "text/latex": [
       "\\textbf{png:} 2"
      ],
      "text/markdown": [
       "**png:** 2"
      ],
      "text/plain": [
       "png \n",
       "  2 "
      ]
     },
     "execution_count": 20,
     "metadata": {
     },
     "output_type": "execute_result"
    }
   ],
   "source": [
    "#Exporting the image as jpeg\n",
    "\n",
    "jpeg(file=\"ACF in stationary_part1_2.jpeg\")\n",
    "acf(data$twoy, lag.max=500)\n",
    "\n",
    "dev.off() "
   ]
  },
  {
   "cell_type": "code",
   "execution_count": 21,
   "metadata": {
    "collapsed": false
   },
   "outputs": [
    {
     "data": {
      "image/png": "[encoded data removed]",
      "text/plain": [
       "Plot with title “Series  data$twoy”"
      ]
     },
     "execution_count": 21,
     "metadata": {
      "image/png": {
       "height": 420,
       "width": 420
      }
     },
     "output_type": "execute_result"
    }
   ],
   "source": [
    "acf(data$twoy, lag.max=500)\n"
   ]
  },
  {
   "cell_type": "code",
   "execution_count": 22,
   "metadata": {
    "collapsed": false
   },
   "outputs": [
    {
     "data": {
      "text/html": [
       "<strong>png:</strong> 2"
      ],
      "text/latex": [
       "\\textbf{png:} 2"
      ],
      "text/markdown": [
       "**png:** 2"
      ],
      "text/plain": [
       "png \n",
       "  2 "
      ]
     },
     "execution_count": 22,
     "metadata": {
     },
     "output_type": "execute_result"
    }
   ],
   "source": [
    "#Exporting the image as jpeg\n",
    "\n",
    "jpeg(file=\"ACF in stationary_part1_3.jpeg\")\n",
    "acf(data$threey, lag.max=500)\n",
    "\n",
    "dev.off() "
   ]
  },
  {
   "cell_type": "code",
   "execution_count": 23,
   "metadata": {
    "collapsed": false
   },
   "outputs": [
    {
     "data": {
      "image/png": "[encoded data removed]",
      "text/plain": [
       "Plot with title “Series  data$foury”"
      ]
     },
     "execution_count": 23,
     "metadata": {
      "image/png": {
       "height": 420,
       "width": 420
      }
     },
     "output_type": "execute_result"
    }
   ],
   "source": [
    "acf(data$foury, lag.max=500)\n"
   ]
  },
  {
   "cell_type": "code",
   "execution_count": 24,
   "metadata": {
    "collapsed": false
   },
   "outputs": [
    {
     "data": {
      "text/html": [
       "<strong>png:</strong> 2"
      ],
      "text/latex": [
       "\\textbf{png:} 2"
      ],
      "text/markdown": [
       "**png:** 2"
      ],
      "text/plain": [
       "png \n",
       "  2 "
      ]
     },
     "execution_count": 24,
     "metadata": {
     },
     "output_type": "execute_result"
    }
   ],
   "source": [
    "#Exporting the image as jpeg\n",
    "\n",
    "jpeg(file=\"ACF in stationary_part1_4.jpeg\")\n",
    "acf(data$foury, lag.max=500)\n",
    "\n",
    "dev.off() "
   ]
  },
  {
   "cell_type": "code",
   "execution_count": 25,
   "metadata": {
    "collapsed": false
   },
   "outputs": [
    {
     "data": {
      "image/png": "[encoded data removed]",
      "text/plain": [
       "Plot with title “Series  data$fivey”"
      ]
     },
     "execution_count": 25,
     "metadata": {
      "image/png": {
       "height": 420,
       "width": 420
      }
     },
     "output_type": "execute_result"
    }
   ],
   "source": [
    "acf(data$fivey, lag.max=500)\n"
   ]
  },
  {
   "cell_type": "code",
   "execution_count": 26,
   "metadata": {
    "collapsed": false
   },
   "outputs": [
    {
     "data": {
      "text/html": [
       "<strong>png:</strong> 2"
      ],
      "text/latex": [
       "\\textbf{png:} 2"
      ],
      "text/markdown": [
       "**png:** 2"
      ],
      "text/plain": [
       "png \n",
       "  2 "
      ]
     },
     "execution_count": 26,
     "metadata": {
     },
     "output_type": "execute_result"
    }
   ],
   "source": [
    "#Exporting the image as jpeg\n",
    "\n",
    "jpeg(file=\"ACF in stationary_part1_5.jpeg\")\n",
    "acf(data$fivey, lag.max=500)\n",
    "\n",
    "dev.off() "
   ]
  },
  {
   "cell_type": "code",
   "execution_count": 27,
   "metadata": {
    "collapsed": false
   },
   "outputs": [
    {
     "data": {
      "text/html": [
       "<strong>png:</strong> 2"
      ],
      "text/latex": [
       "\\textbf{png:} 2"
      ],
      "text/markdown": [
       "**png:** 2"
      ],
      "text/plain": [
       "png \n",
       "  2 "
      ]
     },
     "execution_count": 27,
     "metadata": {
     },
     "output_type": "execute_result"
    }
   ],
   "source": [
    "#Exporting the image as jpeg\n",
    "\n",
    "jpeg(file=\"ACF in stationary_part1_6.jpeg\")\n",
    "acf(data$seveny, lag.max=500)\n",
    "\n",
    "dev.off() "
   ]
  },
  {
   "cell_type": "code",
   "execution_count": 28,
   "metadata": {
    "collapsed": false
   },
   "outputs": [
    {
     "data": {
      "text/html": [
       "<strong>png:</strong> 2"
      ],
      "text/latex": [
       "\\textbf{png:} 2"
      ],
      "text/markdown": [
       "**png:** 2"
      ],
      "text/plain": [
       "png \n",
       "  2 "
      ]
     },
     "execution_count": 28,
     "metadata": {
     },
     "output_type": "execute_result"
    }
   ],
   "source": [
    "#Exporting the image as jpeg\n",
    "\n",
    "jpeg(file=\"ACF in stationary_part1_7.jpeg\")\n",
    "acf(data$teny, lag.max=500)\n",
    "\n",
    "dev.off() "
   ]
  },
  {
   "cell_type": "code",
   "execution_count": 29,
   "metadata": {
    "collapsed": false
   },
   "outputs": [
    {
     "data": {
      "text/html": [
       "<strong>png:</strong> 2"
      ],
      "text/latex": [
       "\\textbf{png:} 2"
      ],
      "text/markdown": [
       "**png:** 2"
      ],
      "text/plain": [
       "png \n",
       "  2 "
      ]
     },
     "execution_count": 29,
     "metadata": {
     },
     "output_type": "execute_result"
    }
   ],
   "source": [
    "#Exporting the image as jpeg\n",
    "\n",
    "jpeg(file=\"ACF in stationary_part1_8.jpeg\")\n",
    "acf(data$fifteeny, lag.max=500)\n",
    "\n",
    "dev.off() "
   ]
  },
  {
   "cell_type": "code",
   "execution_count": 30,
   "metadata": {
    "collapsed": false
   },
   "outputs": [
    {
     "data": {
      "text/html": [
       "<strong>png:</strong> 2"
      ],
      "text/latex": [
       "\\textbf{png:} 2"
      ],
      "text/markdown": [
       "**png:** 2"
      ],
      "text/plain": [
       "png \n",
       "  2 "
      ]
     },
     "execution_count": 30,
     "metadata": {
     },
     "output_type": "execute_result"
    }
   ],
   "source": [
    "#Exporting the image as jpeg\n",
    "\n",
    "jpeg(file=\"ACF in stationary_part1_9.jpeg\")\n",
    "acf(data$twentyy, lag.max=500)\n",
    "\n",
    "dev.off() "
   ]
  },
  {
   "cell_type": "code",
   "execution_count": 31,
   "metadata": {
    "collapsed": false
   },
   "outputs": [
    {
     "data": {
      "text/html": [
       "<strong>png:</strong> 2"
      ],
      "text/latex": [
       "\\textbf{png:} 2"
      ],
      "text/markdown": [
       "**png:** 2"
      ],
      "text/plain": [
       "png \n",
       "  2 "
      ]
     },
     "execution_count": 31,
     "metadata": {
     },
     "output_type": "execute_result"
    }
   ],
   "source": [
    "#Exporting the image as jpeg\n",
    "\n",
    "jpeg(file=\"ACF in stationary_part1_10.jpeg\")\n",
    "acf(data$thirtyy, lag.max=500)\n",
    "\n",
    "dev.off() "
   ]
  },
  {
   "cell_type": "code",
   "execution_count": 55,
   "metadata": {
    "collapsed": false
   },
   "outputs": [
    {
     "data": {
      "text/html": [
       "<table>\n",
       "<caption>A tibble: 6 × 10</caption>\n",
       "<thead>\n",
       "\t<tr><th scope=col>oney</th><th scope=col>twoy</th><th scope=col>threey</th><th scope=col>foury</th><th scope=col>fivey</th><th scope=col>seveny</th><th scope=col>teny</th><th scope=col>fifteeny</th><th scope=col>twentyy</th><th scope=col>thirtyy</th></tr>\n",
       "\t<tr><th scope=col>&lt;dbl&gt;</th><th scope=col>&lt;dbl&gt;</th><th scope=col>&lt;dbl&gt;</th><th scope=col>&lt;dbl&gt;</th><th scope=col>&lt;dbl&gt;</th><th scope=col>&lt;dbl&gt;</th><th scope=col>&lt;dbl&gt;</th><th scope=col>&lt;dbl&gt;</th><th scope=col>&lt;dbl&gt;</th><th scope=col>&lt;dbl&gt;</th></tr>\n",
       "</thead>\n",
       "<tbody>\n",
       "\t<tr><td> 0.05</td><td> 0.04</td><td> 0.01</td><td> 0.00</td><td>-0.01</td><td>-0.02</td><td>-0.03</td><td>-0.02</td><td>-0.02</td><td>-0.02</td></tr>\n",
       "\t<tr><td> 0.03</td><td> 0.04</td><td> 0.04</td><td> 0.03</td><td> 0.02</td><td> 0.01</td><td> 0.01</td><td>-0.01</td><td> 0.00</td><td> 0.00</td></tr>\n",
       "\t<tr><td>-0.07</td><td>-0.10</td><td>-0.10</td><td>-0.09</td><td>-0.08</td><td>-0.06</td><td>-0.04</td><td>-0.02</td><td>-0.02</td><td>-0.01</td></tr>\n",
       "\t<tr><td>-0.07</td><td>-0.07</td><td>-0.06</td><td>-0.04</td><td>-0.04</td><td>-0.02</td><td>-0.02</td><td>-0.02</td><td>-0.02</td><td>-0.02</td></tr>\n",
       "\t<tr><td> 0.06</td><td> 0.05</td><td> 0.04</td><td> 0.01</td><td> 0.01</td><td> 0.00</td><td> 0.00</td><td> 0.01</td><td> 0.01</td><td> 0.00</td></tr>\n",
       "\t<tr><td>-0.02</td><td>-0.02</td><td>-0.02</td><td>-0.01</td><td>-0.01</td><td>-0.01</td><td> 0.00</td><td> 0.00</td><td> 0.00</td><td> 0.01</td></tr>\n",
       "</tbody>\n",
       "</table>\n"
      ],
      "text/latex": [
       "A tibble: 6 × 10\n",
       "\\begin{tabular}{llllllllll}\n",
       " oney & twoy & threey & foury & fivey & seveny & teny & fifteeny & twentyy & thirtyy\\\\\n",
       " <dbl> & <dbl> & <dbl> & <dbl> & <dbl> & <dbl> & <dbl> & <dbl> & <dbl> & <dbl>\\\\\n",
       "\\hline\n",
       "\t  0.05 &  0.04 &  0.01 &  0.00 & -0.01 & -0.02 & -0.03 & -0.02 & -0.02 & -0.02\\\\\n",
       "\t  0.03 &  0.04 &  0.04 &  0.03 &  0.02 &  0.01 &  0.01 & -0.01 &  0.00 &  0.00\\\\\n",
       "\t -0.07 & -0.10 & -0.10 & -0.09 & -0.08 & -0.06 & -0.04 & -0.02 & -0.02 & -0.01\\\\\n",
       "\t -0.07 & -0.07 & -0.06 & -0.04 & -0.04 & -0.02 & -0.02 & -0.02 & -0.02 & -0.02\\\\\n",
       "\t  0.06 &  0.05 &  0.04 &  0.01 &  0.01 &  0.00 &  0.00 &  0.01 &  0.01 &  0.00\\\\\n",
       "\t -0.02 & -0.02 & -0.02 & -0.01 & -0.01 & -0.01 &  0.00 &  0.00 &  0.00 &  0.01\\\\\n",
       "\\end{tabular}\n"
      ],
      "text/markdown": [
       "\n",
       "A tibble: 6 × 10\n",
       "\n",
       "| oney &lt;dbl&gt; | twoy &lt;dbl&gt; | threey &lt;dbl&gt; | foury &lt;dbl&gt; | fivey &lt;dbl&gt; | seveny &lt;dbl&gt; | teny &lt;dbl&gt; | fifteeny &lt;dbl&gt; | twentyy &lt;dbl&gt; | thirtyy &lt;dbl&gt; |\n",
       "|---|---|---|---|---|---|---|---|---|---|\n",
       "|  0.05 |  0.04 |  0.01 |  0.00 | -0.01 | -0.02 | -0.03 | -0.02 | -0.02 | -0.02 |\n",
       "|  0.03 |  0.04 |  0.04 |  0.03 |  0.02 |  0.01 |  0.01 | -0.01 |  0.00 |  0.00 |\n",
       "| -0.07 | -0.10 | -0.10 | -0.09 | -0.08 | -0.06 | -0.04 | -0.02 | -0.02 | -0.01 |\n",
       "| -0.07 | -0.07 | -0.06 | -0.04 | -0.04 | -0.02 | -0.02 | -0.02 | -0.02 | -0.02 |\n",
       "|  0.06 |  0.05 |  0.04 |  0.01 |  0.01 |  0.00 |  0.00 |  0.01 |  0.01 |  0.00 |\n",
       "| -0.02 | -0.02 | -0.02 | -0.01 | -0.01 | -0.01 |  0.00 |  0.00 |  0.00 |  0.01 |\n",
       "\n"
      ],
      "text/plain": [
       "  oney  twoy  threey foury fivey seveny teny  fifteeny twentyy thirtyy\n",
       "1  0.05  0.04  0.01   0.00 -0.01 -0.02  -0.03 -0.02    -0.02   -0.02  \n",
       "2  0.03  0.04  0.04   0.03  0.02  0.01   0.01 -0.01     0.00    0.00  \n",
       "3 -0.07 -0.10 -0.10  -0.09 -0.08 -0.06  -0.04 -0.02    -0.02   -0.01  \n",
       "4 -0.07 -0.07 -0.06  -0.04 -0.04 -0.02  -0.02 -0.02    -0.02   -0.02  \n",
       "5  0.06  0.05  0.04   0.01  0.01  0.00   0.00  0.01     0.01    0.00  \n",
       "6 -0.02 -0.02 -0.02  -0.01 -0.01 -0.01   0.00  0.00     0.00    0.01  "
      ]
     },
     "execution_count": 55,
     "metadata": {
     },
     "output_type": "execute_result"
    },
    {
     "data": {
      "text/plain": [
       "      oney                 twoy               threey         \n",
       " Min.   :-0.9700000   Min.   :-1.160000   Min.   :-1.360000  \n",
       " 1st Qu.:-0.0200000   1st Qu.:-0.020000   1st Qu.:-0.030000  \n",
       " Median : 0.0000000   Median : 0.000000   Median : 0.000000  \n",
       " Mean   :-0.0008246   Mean   :-0.001003   Mean   :-0.001125  \n",
       " 3rd Qu.: 0.0100000   3rd Qu.: 0.020000   3rd Qu.: 0.020000  \n",
       " Max.   : 0.9800000   Max.   : 1.170000   Max.   : 1.370000  \n",
       "     foury               fivey               seveny         \n",
       " Min.   :-1.510000   Min.   :-1.540000   Min.   :-1.310000  \n",
       " 1st Qu.:-0.030000   1st Qu.:-0.030000   1st Qu.:-0.030000  \n",
       " Median : 0.000000   Median : 0.000000   Median : 0.000000  \n",
       " Mean   :-0.001201   Mean   :-0.001248   Mean   :-0.001277  \n",
       " 3rd Qu.: 0.020000   3rd Qu.: 0.020000   3rd Qu.: 0.020000  \n",
       " Max.   : 1.520000   Max.   : 1.530000   Max.   : 1.300000  \n",
       "      teny              fifteeny           twentyy             thirtyy         \n",
       " Min.   :-0.880000   Min.   :-0.93000   Min.   :-1.590000   Min.   :-2.900000  \n",
       " 1st Qu.:-0.030000   1st Qu.:-0.03000   1st Qu.:-0.030000   1st Qu.:-0.030000  \n",
       " Median : 0.000000   Median : 0.00000   Median : 0.000000   Median : 0.000000  \n",
       " Mean   :-0.001277   Mean   :-0.00127   Mean   :-0.001267   Mean   :-0.001267  \n",
       " 3rd Qu.: 0.020000   3rd Qu.: 0.03000   3rd Qu.: 0.030000   3rd Qu.: 0.030000  \n",
       " Max.   : 0.880000   Max.   : 0.97000   Max.   : 1.670000   Max.   : 2.990000  "
      ]
     },
     "execution_count": 55,
     "metadata": {
     },
     "output_type": "execute_result"
    }
   ],
   "source": [
    "# Selecting all columns apart from \"Date\"\n",
    "\n",
    "data <- select(data, -c(\"Date\"))\n",
    "head(data)\n",
    "summary(data)\n"
   ]
  },
  {
   "cell_type": "code",
   "execution_count": 9,
   "metadata": {
    "collapsed": false
   },
   "outputs": [
    {
     "data": {
      "text/html": [
       "<table class=\"dataframe\">\n",
       "<caption>A matrix: 4087 × 11 of type chr</caption>\n",
       "<thead>\n",
       "\t<tr><th scope=col>Date</th><th scope=col>oney</th><th scope=col>twoy</th><th scope=col>threey</th><th scope=col>foury</th><th scope=col>fivey</th><th scope=col>seveny</th><th scope=col>teny</th><th scope=col>fifteeny</th><th scope=col>twentyy</th><th scope=col>thirtyy</th></tr>\n",
       "</thead>\n",
       "<tbody>\n",
       "\t<tr><td>2004M09D07</td><td> 0.05</td><td> 0.04</td><td> 0.01</td><td> 0.00</td><td>-0.01</td><td>-0.02</td><td>-0.03</td><td>-0.02</td><td>-0.02</td><td>-0.02</td></tr>\n",
       "\t<tr><td>2004M09D08</td><td> 0.03</td><td> 0.04</td><td> 0.04</td><td> 0.03</td><td> 0.02</td><td> 0.01</td><td> 0.01</td><td>-0.01</td><td> 0.00</td><td> 0.00</td></tr>\n",
       "\t<tr><td>2004M09D09</td><td>-0.07</td><td>-0.10</td><td>-0.10</td><td>-0.09</td><td>-0.08</td><td>-0.06</td><td>-0.04</td><td>-0.02</td><td>-0.02</td><td>-0.01</td></tr>\n",
       "\t<tr><td>2004M09D10</td><td>-0.07</td><td>-0.07</td><td>-0.06</td><td>-0.04</td><td>-0.04</td><td>-0.02</td><td>-0.02</td><td>-0.02</td><td>-0.02</td><td>-0.02</td></tr>\n",
       "\t<tr><td>2004M09D13</td><td> 0.06</td><td> 0.05</td><td> 0.04</td><td> 0.01</td><td> 0.01</td><td> 0.00</td><td> 0.00</td><td> 0.01</td><td> 0.01</td><td> 0.00</td></tr>\n",
       "\t<tr><td>2004M09D14</td><td>-0.02</td><td>-0.02</td><td>-0.02</td><td>-0.01</td><td>-0.01</td><td>-0.01</td><td> 0.00</td><td> 0.00</td><td> 0.00</td><td> 0.01</td></tr>\n",
       "\t<tr><td>2004M09D15</td><td> 0.01</td><td> 0.00</td><td> 0.00</td><td> 0.00</td><td> 0.00</td><td> 0.00</td><td>-0.01</td><td>-0.01</td><td>-0.01</td><td>-0.01</td></tr>\n",
       "\t<tr><td>2004M09D16</td><td> 0.01</td><td> 0.02</td><td> 0.01</td><td> 0.01</td><td> 0.00</td><td> 0.00</td><td>-0.01</td><td>-0.01</td><td>-0.01</td><td>-0.02</td></tr>\n",
       "\t<tr><td>2004M09D17</td><td>-0.05</td><td>-0.07</td><td>-0.05</td><td>-0.04</td><td>-0.03</td><td>-0.02</td><td>-0.01</td><td>-0.01</td><td>-0.01</td><td>-0.01</td></tr>\n",
       "\t<tr><td>2004M09D20</td><td> 0.00</td><td> 0.00</td><td>-0.02</td><td>-0.02</td><td>-0.02</td><td>-0.03</td><td>-0.02</td><td>-0.02</td><td>-0.02</td><td>-0.02</td></tr>\n",
       "\t<tr><td>2004M09D21</td><td> 0.01</td><td> 0.01</td><td> 0.02</td><td> 0.00</td><td> 0.00</td><td> 0.01</td><td> 0.00</td><td> 0.00</td><td> 0.00</td><td> 0.01</td></tr>\n",
       "\t<tr><td>2004M09D22</td><td> 0.00</td><td>-0.01</td><td>-0.02</td><td>-0.02</td><td>-0.02</td><td>-0.03</td><td>-0.03</td><td>-0.03</td><td>-0.03</td><td>-0.03</td></tr>\n",
       "\t<tr><td>2004M09D23</td><td>-0.09</td><td>-0.10</td><td>-0.10</td><td>-0.09</td><td>-0.08</td><td>-0.06</td><td>-0.05</td><td>-0.04</td><td>-0.03</td><td>-0.04</td></tr>\n",
       "\t<tr><td>2004M09D24</td><td> 0.06</td><td> 0.07</td><td> 0.06</td><td> 0.06</td><td> 0.05</td><td> 0.03</td><td> 0.02</td><td> 0.02</td><td> 0.01</td><td> 0.01</td></tr>\n",
       "\t<tr><td>2004M09D27</td><td>-0.02</td><td>-0.04</td><td>-0.03</td><td>-0.03</td><td>-0.03</td><td>-0.02</td><td>-0.02</td><td>-0.02</td><td>-0.01</td><td>-0.01</td></tr>\n",
       "\t<tr><td>2004M09D28</td><td>-0.01</td><td>-0.01</td><td>-0.01</td><td> 0.00</td><td> 0.01</td><td> 0.02</td><td> 0.03</td><td> 0.00</td><td>-0.02</td><td>-0.02</td></tr>\n",
       "\t<tr><td>2004M09D29</td><td> 0.05</td><td> 0.05</td><td> 0.04</td><td> 0.03</td><td> 0.03</td><td> 0.03</td><td> 0.03</td><td> 0.04</td><td> 0.04</td><td> 0.04</td></tr>\n",
       "\t<tr><td>2004M09D30</td><td> 0.01</td><td> 0.02</td><td> 0.01</td><td> 0.01</td><td> 0.00</td><td> 0.01</td><td> 0.03</td><td> 0.06</td><td> 0.07</td><td> 0.07</td></tr>\n",
       "\t<tr><td>2004M10D01</td><td>-0.04</td><td>-0.04</td><td>-0.01</td><td> 0.02</td><td> 0.04</td><td> 0.05</td><td> 0.04</td><td> 0.01</td><td> 0.00</td><td> 0.00</td></tr>\n",
       "\t<tr><td>2004M10D04</td><td> 0.04</td><td> 0.05</td><td> 0.06</td><td> 0.04</td><td> 0.04</td><td> 0.02</td><td> 0.00</td><td>-0.01</td><td>-0.01</td><td>-0.02</td></tr>\n",
       "\t<tr><td>2004M10D05</td><td>-0.03</td><td>-0.04</td><td>-0.05</td><td>-0.05</td><td>-0.05</td><td>-0.04</td><td>-0.03</td><td>-0.03</td><td>-0.03</td><td>-0.02</td></tr>\n",
       "\t<tr><td>2004M10D06</td><td>-0.01</td><td> 0.00</td><td>-0.01</td><td> 0.00</td><td>-0.01</td><td>-0.01</td><td>-0.02</td><td>-0.02</td><td>-0.02</td><td>-0.02</td></tr>\n",
       "\t<tr><td>2004M10D07</td><td> 0.00</td><td> 0.00</td><td> 0.01</td><td> 0.01</td><td> 0.02</td><td> 0.02</td><td> 0.02</td><td> 0.02</td><td> 0.02</td><td> 0.01</td></tr>\n",
       "\t<tr><td>2004M10D08</td><td>-0.08</td><td>-0.09</td><td>-0.08</td><td>-0.06</td><td>-0.05</td><td>-0.04</td><td>-0.03</td><td>-0.03</td><td>-0.03</td><td>-0.02</td></tr>\n",
       "\t<tr><td>2004M10D11</td><td> 0.00</td><td>-0.01</td><td> 0.00</td><td> 0.00</td><td> 0.01</td><td> 0.02</td><td> 0.02</td><td> 0.03</td><td> 0.03</td><td> 0.02</td></tr>\n",
       "\t<tr><td>2004M10D12</td><td>-0.04</td><td>-0.05</td><td>-0.05</td><td>-0.05</td><td>-0.05</td><td>-0.05</td><td>-0.03</td><td>-0.04</td><td>-0.03</td><td>-0.03</td></tr>\n",
       "\t<tr><td>2004M10D13</td><td> 0.02</td><td> 0.02</td><td> 0.02</td><td> 0.02</td><td> 0.01</td><td> 0.01</td><td> 0.00</td><td> 0.00</td><td>-0.01</td><td>-0.01</td></tr>\n",
       "\t<tr><td>2004M10D14</td><td>-0.03</td><td>-0.03</td><td>-0.03</td><td>-0.02</td><td>-0.01</td><td>-0.01</td><td>-0.02</td><td>-0.01</td><td>-0.01</td><td>-0.01</td></tr>\n",
       "\t<tr><td>2004M10D15</td><td>-0.05</td><td>-0.04</td><td>-0.02</td><td>-0.01</td><td> 0.00</td><td> 0.00</td><td> 0.00</td><td>-0.01</td><td>-0.02</td><td>-0.01</td></tr>\n",
       "\t<tr><td>2004M10D18</td><td> 0.01</td><td> 0.00</td><td> 0.00</td><td> 0.00</td><td> 0.00</td><td> 0.01</td><td> 0.02</td><td> 0.03</td><td> 0.04</td><td> 0.04</td></tr>\n",
       "\t<tr><td>⋮</td><td>⋮</td><td>⋮</td><td>⋮</td><td>⋮</td><td>⋮</td><td>⋮</td><td>⋮</td><td>⋮</td><td>⋮</td><td>⋮</td></tr>\n",
       "\t<tr><td>2020M08D13</td><td> 0.03</td><td> 0.05</td><td> 0.05</td><td> 0.05</td><td> 0.05</td><td> 0.05</td><td> 0.06</td><td> 0.07</td><td> 0.07</td><td> 0.07</td></tr>\n",
       "\t<tr><td>2020M08D14</td><td> 0.00</td><td>-0.01</td><td>-0.01</td><td> 0.00</td><td> 0.00</td><td> 0.00</td><td>-0.02</td><td>-0.02</td><td>-0.03</td><td>-0.03</td></tr>\n",
       "\t<tr><td>2020M08D17</td><td>-0.02</td><td>-0.02</td><td>-0.01</td><td>-0.02</td><td>-0.01</td><td> 0.00</td><td> 0.01</td><td> 0.00</td><td> 0.01</td><td> 0.01</td></tr>\n",
       "\t<tr><td>2020M08D18</td><td> 0.00</td><td>-0.01</td><td>-0.02</td><td>-0.02</td><td>-0.02</td><td>-0.03</td><td>-0.03</td><td>-0.02</td><td>-0.03</td><td>-0.02</td></tr>\n",
       "\t<tr><td>2020M08D19</td><td>-0.01</td><td>-0.02</td><td>-0.03</td><td>-0.03</td><td>-0.03</td><td>-0.03</td><td>-0.02</td><td>-0.02</td><td>-0.02</td><td>-0.02</td></tr>\n",
       "\t<tr><td>2020M08D20</td><td>-0.01</td><td>-0.01</td><td>-0.02</td><td>-0.03</td><td>-0.05</td><td>-0.06</td><td>-0.07</td><td>-0.06</td><td>-0.05</td><td>-0.06</td></tr>\n",
       "\t<tr><td>2020M08D21</td><td> 0.00</td><td> 0.00</td><td> 0.00</td><td> 0.00</td><td> 0.01</td><td> 0.02</td><td> 0.03</td><td> 0.03</td><td> 0.03</td><td> 0.03</td></tr>\n",
       "\t<tr><td>2020M08D24</td><td> 0.01</td><td> 0.00</td><td> 0.00</td><td> 0.00</td><td> 0.00</td><td>-0.01</td><td>-0.01</td><td>-0.02</td><td>-0.02</td><td>-0.02</td></tr>\n",
       "\t<tr><td>2020M08D25</td><td> 0.03</td><td> 0.05</td><td> 0.07</td><td> 0.07</td><td> 0.07</td><td> 0.08</td><td> 0.08</td><td> 0.09</td><td> 0.09</td><td> 0.09</td></tr>\n",
       "\t<tr><td>2020M08D26</td><td> 0.01</td><td> 0.02</td><td> 0.02</td><td> 0.03</td><td> 0.03</td><td> 0.03</td><td> 0.03</td><td> 0.03</td><td> 0.03</td><td> 0.03</td></tr>\n",
       "\t<tr><td>2020M08D27</td><td>-0.01</td><td>-0.04</td><td>-0.05</td><td>-0.03</td><td> 0.01</td><td> 0.07</td><td> 0.08</td><td> 0.02</td><td> 0.00</td><td>-0.01</td></tr>\n",
       "\t<tr><td>2020M08D28</td><td>-0.02</td><td> 0.01</td><td> 0.02</td><td> 0.01</td><td>-0.02</td><td>-0.05</td><td>-0.04</td><td> 0.02</td><td> 0.04</td><td> 0.05</td></tr>\n",
       "\t<tr><td>2020M08D31</td><td> 0.01</td><td> 0.02</td><td> 0.02</td><td> 0.02</td><td> 0.03</td><td> 0.02</td><td> 0.02</td><td> 0.02</td><td> 0.02</td><td> 0.03</td></tr>\n",
       "\t<tr><td>2020M09D01</td><td>-0.01</td><td>-0.02</td><td>-0.01</td><td> 0.00</td><td> 0.00</td><td> 0.00</td><td> 0.00</td><td> 0.00</td><td> 0.00</td><td>-0.01</td></tr>\n",
       "\t<tr><td>2020M09D02</td><td>-0.01</td><td>-0.04</td><td>-0.07</td><td>-0.07</td><td>-0.07</td><td>-0.05</td><td>-0.06</td><td>-0.09</td><td>-0.11</td><td>-0.12</td></tr>\n",
       "\t<tr><td>2020M09D03</td><td>-0.01</td><td>-0.01</td><td>-0.01</td><td>-0.03</td><td>-0.03</td><td>-0.05</td><td>-0.06</td><td>-0.07</td><td>-0.07</td><td>-0.06</td></tr>\n",
       "\t<tr><td>2020M09D04</td><td> 0.00</td><td> 0.00</td><td> 0.01</td><td> 0.02</td><td> 0.01</td><td> 0.02</td><td> 0.03</td><td> 0.03</td><td> 0.03</td><td> 0.03</td></tr>\n",
       "\t<tr><td>2020M09D07</td><td> 0.02</td><td> 0.00</td><td>-0.01</td><td>-0.01</td><td> 0.01</td><td> 0.03</td><td> 0.02</td><td> 0.01</td><td> 0.00</td><td> 0.00</td></tr>\n",
       "\t<tr><td>2020M09D08</td><td>-0.03</td><td>-0.02</td><td>-0.02</td><td>-0.02</td><td>-0.03</td><td>-0.05</td><td>-0.05</td><td>-0.04</td><td>-0.03</td><td>-0.03</td></tr>\n",
       "\t<tr><td>2020M09D09</td><td> 0.02</td><td> 0.04</td><td> 0.04</td><td> 0.04</td><td> 0.03</td><td> 0.03</td><td> 0.03</td><td> 0.03</td><td> 0.04</td><td> 0.03</td></tr>\n",
       "\t<tr><td>2020M09D10</td><td> 0.02</td><td> 0.03</td><td> 0.04</td><td> 0.03</td><td> 0.03</td><td> 0.03</td><td> 0.02</td><td> 0.03</td><td> 0.03</td><td> 0.03</td></tr>\n",
       "\t<tr><td>2020M09D11</td><td>-0.01</td><td>-0.03</td><td>-0.04</td><td>-0.04</td><td>-0.04</td><td>-0.03</td><td>-0.01</td><td> 0.00</td><td> 0.00</td><td> 0.01</td></tr>\n",
       "\t<tr><td>2020M09D14</td><td>-0.02</td><td>-0.02</td><td>-0.02</td><td>-0.01</td><td>-0.02</td><td>-0.04</td><td>-0.06</td><td>-0.07</td><td>-0.07</td><td>-0.08</td></tr>\n",
       "\t<tr><td>2020M09D15</td><td> 0.01</td><td> 0.01</td><td> 0.01</td><td> 0.01</td><td> 0.01</td><td> 0.01</td><td> 0.02</td><td> 0.02</td><td> 0.02</td><td> 0.02</td></tr>\n",
       "\t<tr><td>2020M09D16</td><td> 0.00</td><td>-0.01</td><td> 0.00</td><td>-0.02</td><td>-0.01</td><td>-0.01</td><td>-0.02</td><td>-0.01</td><td>-0.01</td><td>-0.01</td></tr>\n",
       "\t<tr><td>2020M09D17</td><td>-0.01</td><td> 0.01</td><td>-0.01</td><td> 0.00</td><td>-0.01</td><td>-0.02</td><td>-0.02</td><td>-0.03</td><td>-0.03</td><td>-0.02</td></tr>\n",
       "\t<tr><td>2020M09D18</td><td> 0.00</td><td>-0.01</td><td> 0.00</td><td> 0.00</td><td> 0.00</td><td> 0.00</td><td> 0.01</td><td> 0.01</td><td> 0.01</td><td> 0.01</td></tr>\n",
       "\t<tr><td>2020M09D21</td><td>-0.02</td><td>-0.03</td><td>-0.03</td><td>-0.03</td><td>-0.03</td><td>-0.03</td><td>-0.04</td><td>-0.04</td><td>-0.04</td><td>-0.04</td></tr>\n",
       "\t<tr><td>2020M09D22</td><td> 0.01</td><td> 0.01</td><td> 0.01</td><td> 0.01</td><td> 0.02</td><td> 0.02</td><td> 0.03</td><td> 0.04</td><td> 0.04</td><td> 0.04</td></tr>\n",
       "\t<tr><td>2020M09D23</td><td> 0.00</td><td> 0.00</td><td> 0.01</td><td> 0.01</td><td> 0.00</td><td> 0.01</td><td> 0.01</td><td> 0.00</td><td> 0.00</td><td> 0.00</td></tr>\n",
       "</tbody>\n",
       "</table>\n"
      ],
      "text/latex": [
       "A matrix: 4087 × 11 of type chr\n",
       "\\begin{tabular}{lllllllllll}\n",
       " Date & oney & twoy & threey & foury & fivey & seveny & teny & fifteeny & twentyy & thirtyy\\\\\n",
       "\\hline\n",
       "\t 2004M09D07 &  0.05 &  0.04 &  0.01 &  0.00 & -0.01 & -0.02 & -0.03 & -0.02 & -0.02 & -0.02\\\\\n",
       "\t 2004M09D08 &  0.03 &  0.04 &  0.04 &  0.03 &  0.02 &  0.01 &  0.01 & -0.01 &  0.00 &  0.00\\\\\n",
       "\t 2004M09D09 & -0.07 & -0.10 & -0.10 & -0.09 & -0.08 & -0.06 & -0.04 & -0.02 & -0.02 & -0.01\\\\\n",
       "\t 2004M09D10 & -0.07 & -0.07 & -0.06 & -0.04 & -0.04 & -0.02 & -0.02 & -0.02 & -0.02 & -0.02\\\\\n",
       "\t 2004M09D13 &  0.06 &  0.05 &  0.04 &  0.01 &  0.01 &  0.00 &  0.00 &  0.01 &  0.01 &  0.00\\\\\n",
       "\t 2004M09D14 & -0.02 & -0.02 & -0.02 & -0.01 & -0.01 & -0.01 &  0.00 &  0.00 &  0.00 &  0.01\\\\\n",
       "\t 2004M09D15 &  0.01 &  0.00 &  0.00 &  0.00 &  0.00 &  0.00 & -0.01 & -0.01 & -0.01 & -0.01\\\\\n",
       "\t 2004M09D16 &  0.01 &  0.02 &  0.01 &  0.01 &  0.00 &  0.00 & -0.01 & -0.01 & -0.01 & -0.02\\\\\n",
       "\t 2004M09D17 & -0.05 & -0.07 & -0.05 & -0.04 & -0.03 & -0.02 & -0.01 & -0.01 & -0.01 & -0.01\\\\\n",
       "\t 2004M09D20 &  0.00 &  0.00 & -0.02 & -0.02 & -0.02 & -0.03 & -0.02 & -0.02 & -0.02 & -0.02\\\\\n",
       "\t 2004M09D21 &  0.01 &  0.01 &  0.02 &  0.00 &  0.00 &  0.01 &  0.00 &  0.00 &  0.00 &  0.01\\\\\n",
       "\t 2004M09D22 &  0.00 & -0.01 & -0.02 & -0.02 & -0.02 & -0.03 & -0.03 & -0.03 & -0.03 & -0.03\\\\\n",
       "\t 2004M09D23 & -0.09 & -0.10 & -0.10 & -0.09 & -0.08 & -0.06 & -0.05 & -0.04 & -0.03 & -0.04\\\\\n",
       "\t 2004M09D24 &  0.06 &  0.07 &  0.06 &  0.06 &  0.05 &  0.03 &  0.02 &  0.02 &  0.01 &  0.01\\\\\n",
       "\t 2004M09D27 & -0.02 & -0.04 & -0.03 & -0.03 & -0.03 & -0.02 & -0.02 & -0.02 & -0.01 & -0.01\\\\\n",
       "\t 2004M09D28 & -0.01 & -0.01 & -0.01 &  0.00 &  0.01 &  0.02 &  0.03 &  0.00 & -0.02 & -0.02\\\\\n",
       "\t 2004M09D29 &  0.05 &  0.05 &  0.04 &  0.03 &  0.03 &  0.03 &  0.03 &  0.04 &  0.04 &  0.04\\\\\n",
       "\t 2004M09D30 &  0.01 &  0.02 &  0.01 &  0.01 &  0.00 &  0.01 &  0.03 &  0.06 &  0.07 &  0.07\\\\\n",
       "\t 2004M10D01 & -0.04 & -0.04 & -0.01 &  0.02 &  0.04 &  0.05 &  0.04 &  0.01 &  0.00 &  0.00\\\\\n",
       "\t 2004M10D04 &  0.04 &  0.05 &  0.06 &  0.04 &  0.04 &  0.02 &  0.00 & -0.01 & -0.01 & -0.02\\\\\n",
       "\t 2004M10D05 & -0.03 & -0.04 & -0.05 & -0.05 & -0.05 & -0.04 & -0.03 & -0.03 & -0.03 & -0.02\\\\\n",
       "\t 2004M10D06 & -0.01 &  0.00 & -0.01 &  0.00 & -0.01 & -0.01 & -0.02 & -0.02 & -0.02 & -0.02\\\\\n",
       "\t 2004M10D07 &  0.00 &  0.00 &  0.01 &  0.01 &  0.02 &  0.02 &  0.02 &  0.02 &  0.02 &  0.01\\\\\n",
       "\t 2004M10D08 & -0.08 & -0.09 & -0.08 & -0.06 & -0.05 & -0.04 & -0.03 & -0.03 & -0.03 & -0.02\\\\\n",
       "\t 2004M10D11 &  0.00 & -0.01 &  0.00 &  0.00 &  0.01 &  0.02 &  0.02 &  0.03 &  0.03 &  0.02\\\\\n",
       "\t 2004M10D12 & -0.04 & -0.05 & -0.05 & -0.05 & -0.05 & -0.05 & -0.03 & -0.04 & -0.03 & -0.03\\\\\n",
       "\t 2004M10D13 &  0.02 &  0.02 &  0.02 &  0.02 &  0.01 &  0.01 &  0.00 &  0.00 & -0.01 & -0.01\\\\\n",
       "\t 2004M10D14 & -0.03 & -0.03 & -0.03 & -0.02 & -0.01 & -0.01 & -0.02 & -0.01 & -0.01 & -0.01\\\\\n",
       "\t 2004M10D15 & -0.05 & -0.04 & -0.02 & -0.01 &  0.00 &  0.00 &  0.00 & -0.01 & -0.02 & -0.01\\\\\n",
       "\t 2004M10D18 &  0.01 &  0.00 &  0.00 &  0.00 &  0.00 &  0.01 &  0.02 &  0.03 &  0.04 &  0.04\\\\\n",
       "\t ⋮ & ⋮ & ⋮ & ⋮ & ⋮ & ⋮ & ⋮ & ⋮ & ⋮ & ⋮ & ⋮\\\\\n",
       "\t 2020M08D13 &  0.03 &  0.05 &  0.05 &  0.05 &  0.05 &  0.05 &  0.06 &  0.07 &  0.07 &  0.07\\\\\n",
       "\t 2020M08D14 &  0.00 & -0.01 & -0.01 &  0.00 &  0.00 &  0.00 & -0.02 & -0.02 & -0.03 & -0.03\\\\\n",
       "\t 2020M08D17 & -0.02 & -0.02 & -0.01 & -0.02 & -0.01 &  0.00 &  0.01 &  0.00 &  0.01 &  0.01\\\\\n",
       "\t 2020M08D18 &  0.00 & -0.01 & -0.02 & -0.02 & -0.02 & -0.03 & -0.03 & -0.02 & -0.03 & -0.02\\\\\n",
       "\t 2020M08D19 & -0.01 & -0.02 & -0.03 & -0.03 & -0.03 & -0.03 & -0.02 & -0.02 & -0.02 & -0.02\\\\\n",
       "\t 2020M08D20 & -0.01 & -0.01 & -0.02 & -0.03 & -0.05 & -0.06 & -0.07 & -0.06 & -0.05 & -0.06\\\\\n",
       "\t 2020M08D21 &  0.00 &  0.00 &  0.00 &  0.00 &  0.01 &  0.02 &  0.03 &  0.03 &  0.03 &  0.03\\\\\n",
       "\t 2020M08D24 &  0.01 &  0.00 &  0.00 &  0.00 &  0.00 & -0.01 & -0.01 & -0.02 & -0.02 & -0.02\\\\\n",
       "\t 2020M08D25 &  0.03 &  0.05 &  0.07 &  0.07 &  0.07 &  0.08 &  0.08 &  0.09 &  0.09 &  0.09\\\\\n",
       "\t 2020M08D26 &  0.01 &  0.02 &  0.02 &  0.03 &  0.03 &  0.03 &  0.03 &  0.03 &  0.03 &  0.03\\\\\n",
       "\t 2020M08D27 & -0.01 & -0.04 & -0.05 & -0.03 &  0.01 &  0.07 &  0.08 &  0.02 &  0.00 & -0.01\\\\\n",
       "\t 2020M08D28 & -0.02 &  0.01 &  0.02 &  0.01 & -0.02 & -0.05 & -0.04 &  0.02 &  0.04 &  0.05\\\\\n",
       "\t 2020M08D31 &  0.01 &  0.02 &  0.02 &  0.02 &  0.03 &  0.02 &  0.02 &  0.02 &  0.02 &  0.03\\\\\n",
       "\t 2020M09D01 & -0.01 & -0.02 & -0.01 &  0.00 &  0.00 &  0.00 &  0.00 &  0.00 &  0.00 & -0.01\\\\\n",
       "\t 2020M09D02 & -0.01 & -0.04 & -0.07 & -0.07 & -0.07 & -0.05 & -0.06 & -0.09 & -0.11 & -0.12\\\\\n",
       "\t 2020M09D03 & -0.01 & -0.01 & -0.01 & -0.03 & -0.03 & -0.05 & -0.06 & -0.07 & -0.07 & -0.06\\\\\n",
       "\t 2020M09D04 &  0.00 &  0.00 &  0.01 &  0.02 &  0.01 &  0.02 &  0.03 &  0.03 &  0.03 &  0.03\\\\\n",
       "\t 2020M09D07 &  0.02 &  0.00 & -0.01 & -0.01 &  0.01 &  0.03 &  0.02 &  0.01 &  0.00 &  0.00\\\\\n",
       "\t 2020M09D08 & -0.03 & -0.02 & -0.02 & -0.02 & -0.03 & -0.05 & -0.05 & -0.04 & -0.03 & -0.03\\\\\n",
       "\t 2020M09D09 &  0.02 &  0.04 &  0.04 &  0.04 &  0.03 &  0.03 &  0.03 &  0.03 &  0.04 &  0.03\\\\\n",
       "\t 2020M09D10 &  0.02 &  0.03 &  0.04 &  0.03 &  0.03 &  0.03 &  0.02 &  0.03 &  0.03 &  0.03\\\\\n",
       "\t 2020M09D11 & -0.01 & -0.03 & -0.04 & -0.04 & -0.04 & -0.03 & -0.01 &  0.00 &  0.00 &  0.01\\\\\n",
       "\t 2020M09D14 & -0.02 & -0.02 & -0.02 & -0.01 & -0.02 & -0.04 & -0.06 & -0.07 & -0.07 & -0.08\\\\\n",
       "\t 2020M09D15 &  0.01 &  0.01 &  0.01 &  0.01 &  0.01 &  0.01 &  0.02 &  0.02 &  0.02 &  0.02\\\\\n",
       "\t 2020M09D16 &  0.00 & -0.01 &  0.00 & -0.02 & -0.01 & -0.01 & -0.02 & -0.01 & -0.01 & -0.01\\\\\n",
       "\t 2020M09D17 & -0.01 &  0.01 & -0.01 &  0.00 & -0.01 & -0.02 & -0.02 & -0.03 & -0.03 & -0.02\\\\\n",
       "\t 2020M09D18 &  0.00 & -0.01 &  0.00 &  0.00 &  0.00 &  0.00 &  0.01 &  0.01 &  0.01 &  0.01\\\\\n",
       "\t 2020M09D21 & -0.02 & -0.03 & -0.03 & -0.03 & -0.03 & -0.03 & -0.04 & -0.04 & -0.04 & -0.04\\\\\n",
       "\t 2020M09D22 &  0.01 &  0.01 &  0.01 &  0.01 &  0.02 &  0.02 &  0.03 &  0.04 &  0.04 &  0.04\\\\\n",
       "\t 2020M09D23 &  0.00 &  0.00 &  0.01 &  0.01 &  0.00 &  0.01 &  0.01 &  0.00 &  0.00 &  0.00\\\\\n",
       "\\end{tabular}\n"
      ],
      "text/markdown": [
       "\n",
       "A matrix: 4087 × 11 of type chr\n",
       "\n",
       "| Date | oney | twoy | threey | foury | fivey | seveny | teny | fifteeny | twentyy | thirtyy |\n",
       "|---|---|---|---|---|---|---|---|---|---|---|\n",
       "| 2004M09D07 |  0.05 |  0.04 |  0.01 |  0.00 | -0.01 | -0.02 | -0.03 | -0.02 | -0.02 | -0.02 |\n",
       "| 2004M09D08 |  0.03 |  0.04 |  0.04 |  0.03 |  0.02 |  0.01 |  0.01 | -0.01 |  0.00 |  0.00 |\n",
       "| 2004M09D09 | -0.07 | -0.10 | -0.10 | -0.09 | -0.08 | -0.06 | -0.04 | -0.02 | -0.02 | -0.01 |\n",
       "| 2004M09D10 | -0.07 | -0.07 | -0.06 | -0.04 | -0.04 | -0.02 | -0.02 | -0.02 | -0.02 | -0.02 |\n",
       "| 2004M09D13 |  0.06 |  0.05 |  0.04 |  0.01 |  0.01 |  0.00 |  0.00 |  0.01 |  0.01 |  0.00 |\n",
       "| 2004M09D14 | -0.02 | -0.02 | -0.02 | -0.01 | -0.01 | -0.01 |  0.00 |  0.00 |  0.00 |  0.01 |\n",
       "| 2004M09D15 |  0.01 |  0.00 |  0.00 |  0.00 |  0.00 |  0.00 | -0.01 | -0.01 | -0.01 | -0.01 |\n",
       "| 2004M09D16 |  0.01 |  0.02 |  0.01 |  0.01 |  0.00 |  0.00 | -0.01 | -0.01 | -0.01 | -0.02 |\n",
       "| 2004M09D17 | -0.05 | -0.07 | -0.05 | -0.04 | -0.03 | -0.02 | -0.01 | -0.01 | -0.01 | -0.01 |\n",
       "| 2004M09D20 |  0.00 |  0.00 | -0.02 | -0.02 | -0.02 | -0.03 | -0.02 | -0.02 | -0.02 | -0.02 |\n",
       "| 2004M09D21 |  0.01 |  0.01 |  0.02 |  0.00 |  0.00 |  0.01 |  0.00 |  0.00 |  0.00 |  0.01 |\n",
       "| 2004M09D22 |  0.00 | -0.01 | -0.02 | -0.02 | -0.02 | -0.03 | -0.03 | -0.03 | -0.03 | -0.03 |\n",
       "| 2004M09D23 | -0.09 | -0.10 | -0.10 | -0.09 | -0.08 | -0.06 | -0.05 | -0.04 | -0.03 | -0.04 |\n",
       "| 2004M09D24 |  0.06 |  0.07 |  0.06 |  0.06 |  0.05 |  0.03 |  0.02 |  0.02 |  0.01 |  0.01 |\n",
       "| 2004M09D27 | -0.02 | -0.04 | -0.03 | -0.03 | -0.03 | -0.02 | -0.02 | -0.02 | -0.01 | -0.01 |\n",
       "| 2004M09D28 | -0.01 | -0.01 | -0.01 |  0.00 |  0.01 |  0.02 |  0.03 |  0.00 | -0.02 | -0.02 |\n",
       "| 2004M09D29 |  0.05 |  0.05 |  0.04 |  0.03 |  0.03 |  0.03 |  0.03 |  0.04 |  0.04 |  0.04 |\n",
       "| 2004M09D30 |  0.01 |  0.02 |  0.01 |  0.01 |  0.00 |  0.01 |  0.03 |  0.06 |  0.07 |  0.07 |\n",
       "| 2004M10D01 | -0.04 | -0.04 | -0.01 |  0.02 |  0.04 |  0.05 |  0.04 |  0.01 |  0.00 |  0.00 |\n",
       "| 2004M10D04 |  0.04 |  0.05 |  0.06 |  0.04 |  0.04 |  0.02 |  0.00 | -0.01 | -0.01 | -0.02 |\n",
       "| 2004M10D05 | -0.03 | -0.04 | -0.05 | -0.05 | -0.05 | -0.04 | -0.03 | -0.03 | -0.03 | -0.02 |\n",
       "| 2004M10D06 | -0.01 |  0.00 | -0.01 |  0.00 | -0.01 | -0.01 | -0.02 | -0.02 | -0.02 | -0.02 |\n",
       "| 2004M10D07 |  0.00 |  0.00 |  0.01 |  0.01 |  0.02 |  0.02 |  0.02 |  0.02 |  0.02 |  0.01 |\n",
       "| 2004M10D08 | -0.08 | -0.09 | -0.08 | -0.06 | -0.05 | -0.04 | -0.03 | -0.03 | -0.03 | -0.02 |\n",
       "| 2004M10D11 |  0.00 | -0.01 |  0.00 |  0.00 |  0.01 |  0.02 |  0.02 |  0.03 |  0.03 |  0.02 |\n",
       "| 2004M10D12 | -0.04 | -0.05 | -0.05 | -0.05 | -0.05 | -0.05 | -0.03 | -0.04 | -0.03 | -0.03 |\n",
       "| 2004M10D13 |  0.02 |  0.02 |  0.02 |  0.02 |  0.01 |  0.01 |  0.00 |  0.00 | -0.01 | -0.01 |\n",
       "| 2004M10D14 | -0.03 | -0.03 | -0.03 | -0.02 | -0.01 | -0.01 | -0.02 | -0.01 | -0.01 | -0.01 |\n",
       "| 2004M10D15 | -0.05 | -0.04 | -0.02 | -0.01 |  0.00 |  0.00 |  0.00 | -0.01 | -0.02 | -0.01 |\n",
       "| 2004M10D18 |  0.01 |  0.00 |  0.00 |  0.00 |  0.00 |  0.01 |  0.02 |  0.03 |  0.04 |  0.04 |\n",
       "| ⋮ | ⋮ | ⋮ | ⋮ | ⋮ | ⋮ | ⋮ | ⋮ | ⋮ | ⋮ | ⋮ |\n",
       "| 2020M08D13 |  0.03 |  0.05 |  0.05 |  0.05 |  0.05 |  0.05 |  0.06 |  0.07 |  0.07 |  0.07 |\n",
       "| 2020M08D14 |  0.00 | -0.01 | -0.01 |  0.00 |  0.00 |  0.00 | -0.02 | -0.02 | -0.03 | -0.03 |\n",
       "| 2020M08D17 | -0.02 | -0.02 | -0.01 | -0.02 | -0.01 |  0.00 |  0.01 |  0.00 |  0.01 |  0.01 |\n",
       "| 2020M08D18 |  0.00 | -0.01 | -0.02 | -0.02 | -0.02 | -0.03 | -0.03 | -0.02 | -0.03 | -0.02 |\n",
       "| 2020M08D19 | -0.01 | -0.02 | -0.03 | -0.03 | -0.03 | -0.03 | -0.02 | -0.02 | -0.02 | -0.02 |\n",
       "| 2020M08D20 | -0.01 | -0.01 | -0.02 | -0.03 | -0.05 | -0.06 | -0.07 | -0.06 | -0.05 | -0.06 |\n",
       "| 2020M08D21 |  0.00 |  0.00 |  0.00 |  0.00 |  0.01 |  0.02 |  0.03 |  0.03 |  0.03 |  0.03 |\n",
       "| 2020M08D24 |  0.01 |  0.00 |  0.00 |  0.00 |  0.00 | -0.01 | -0.01 | -0.02 | -0.02 | -0.02 |\n",
       "| 2020M08D25 |  0.03 |  0.05 |  0.07 |  0.07 |  0.07 |  0.08 |  0.08 |  0.09 |  0.09 |  0.09 |\n",
       "| 2020M08D26 |  0.01 |  0.02 |  0.02 |  0.03 |  0.03 |  0.03 |  0.03 |  0.03 |  0.03 |  0.03 |\n",
       "| 2020M08D27 | -0.01 | -0.04 | -0.05 | -0.03 |  0.01 |  0.07 |  0.08 |  0.02 |  0.00 | -0.01 |\n",
       "| 2020M08D28 | -0.02 |  0.01 |  0.02 |  0.01 | -0.02 | -0.05 | -0.04 |  0.02 |  0.04 |  0.05 |\n",
       "| 2020M08D31 |  0.01 |  0.02 |  0.02 |  0.02 |  0.03 |  0.02 |  0.02 |  0.02 |  0.02 |  0.03 |\n",
       "| 2020M09D01 | -0.01 | -0.02 | -0.01 |  0.00 |  0.00 |  0.00 |  0.00 |  0.00 |  0.00 | -0.01 |\n",
       "| 2020M09D02 | -0.01 | -0.04 | -0.07 | -0.07 | -0.07 | -0.05 | -0.06 | -0.09 | -0.11 | -0.12 |\n",
       "| 2020M09D03 | -0.01 | -0.01 | -0.01 | -0.03 | -0.03 | -0.05 | -0.06 | -0.07 | -0.07 | -0.06 |\n",
       "| 2020M09D04 |  0.00 |  0.00 |  0.01 |  0.02 |  0.01 |  0.02 |  0.03 |  0.03 |  0.03 |  0.03 |\n",
       "| 2020M09D07 |  0.02 |  0.00 | -0.01 | -0.01 |  0.01 |  0.03 |  0.02 |  0.01 |  0.00 |  0.00 |\n",
       "| 2020M09D08 | -0.03 | -0.02 | -0.02 | -0.02 | -0.03 | -0.05 | -0.05 | -0.04 | -0.03 | -0.03 |\n",
       "| 2020M09D09 |  0.02 |  0.04 |  0.04 |  0.04 |  0.03 |  0.03 |  0.03 |  0.03 |  0.04 |  0.03 |\n",
       "| 2020M09D10 |  0.02 |  0.03 |  0.04 |  0.03 |  0.03 |  0.03 |  0.02 |  0.03 |  0.03 |  0.03 |\n",
       "| 2020M09D11 | -0.01 | -0.03 | -0.04 | -0.04 | -0.04 | -0.03 | -0.01 |  0.00 |  0.00 |  0.01 |\n",
       "| 2020M09D14 | -0.02 | -0.02 | -0.02 | -0.01 | -0.02 | -0.04 | -0.06 | -0.07 | -0.07 | -0.08 |\n",
       "| 2020M09D15 |  0.01 |  0.01 |  0.01 |  0.01 |  0.01 |  0.01 |  0.02 |  0.02 |  0.02 |  0.02 |\n",
       "| 2020M09D16 |  0.00 | -0.01 |  0.00 | -0.02 | -0.01 | -0.01 | -0.02 | -0.01 | -0.01 | -0.01 |\n",
       "| 2020M09D17 | -0.01 |  0.01 | -0.01 |  0.00 | -0.01 | -0.02 | -0.02 | -0.03 | -0.03 | -0.02 |\n",
       "| 2020M09D18 |  0.00 | -0.01 |  0.00 |  0.00 |  0.00 |  0.00 |  0.01 |  0.01 |  0.01 |  0.01 |\n",
       "| 2020M09D21 | -0.02 | -0.03 | -0.03 | -0.03 | -0.03 | -0.03 | -0.04 | -0.04 | -0.04 | -0.04 |\n",
       "| 2020M09D22 |  0.01 |  0.01 |  0.01 |  0.01 |  0.02 |  0.02 |  0.03 |  0.04 |  0.04 |  0.04 |\n",
       "| 2020M09D23 |  0.00 |  0.00 |  0.01 |  0.01 |  0.00 |  0.01 |  0.01 |  0.00 |  0.00 |  0.00 |\n",
       "\n"
      ],
      "text/plain": [
       "      Date       oney  twoy  threey foury fivey seveny teny  fifteeny twentyy\n",
       " [1,] 2004M09D07  0.05  0.04  0.01   0.00 -0.01 -0.02  -0.03 -0.02    -0.02  \n",
       " [2,] 2004M09D08  0.03  0.04  0.04   0.03  0.02  0.01   0.01 -0.01     0.00  \n",
       " [3,] 2004M09D09 -0.07 -0.10 -0.10  -0.09 -0.08 -0.06  -0.04 -0.02    -0.02  \n",
       " [4,] 2004M09D10 -0.07 -0.07 -0.06  -0.04 -0.04 -0.02  -0.02 -0.02    -0.02  \n",
       " [5,] 2004M09D13  0.06  0.05  0.04   0.01  0.01  0.00   0.00  0.01     0.01  \n",
       " [6,] 2004M09D14 -0.02 -0.02 -0.02  -0.01 -0.01 -0.01   0.00  0.00     0.00  \n",
       " [7,] 2004M09D15  0.01  0.00  0.00   0.00  0.00  0.00  -0.01 -0.01    -0.01  \n",
       " [8,] 2004M09D16  0.01  0.02  0.01   0.01  0.00  0.00  -0.01 -0.01    -0.01  \n",
       " [9,] 2004M09D17 -0.05 -0.07 -0.05  -0.04 -0.03 -0.02  -0.01 -0.01    -0.01  \n",
       "[10,] 2004M09D20  0.00  0.00 -0.02  -0.02 -0.02 -0.03  -0.02 -0.02    -0.02  \n",
       "[11,] 2004M09D21  0.01  0.01  0.02   0.00  0.00  0.01   0.00  0.00     0.00  \n",
       "[12,] 2004M09D22  0.00 -0.01 -0.02  -0.02 -0.02 -0.03  -0.03 -0.03    -0.03  \n",
       "[13,] 2004M09D23 -0.09 -0.10 -0.10  -0.09 -0.08 -0.06  -0.05 -0.04    -0.03  \n",
       "[14,] 2004M09D24  0.06  0.07  0.06   0.06  0.05  0.03   0.02  0.02     0.01  \n",
       "[15,] 2004M09D27 -0.02 -0.04 -0.03  -0.03 -0.03 -0.02  -0.02 -0.02    -0.01  \n",
       "[16,] 2004M09D28 -0.01 -0.01 -0.01   0.00  0.01  0.02   0.03  0.00    -0.02  \n",
       "[17,] 2004M09D29  0.05  0.05  0.04   0.03  0.03  0.03   0.03  0.04     0.04  \n",
       "[18,] 2004M09D30  0.01  0.02  0.01   0.01  0.00  0.01   0.03  0.06     0.07  \n",
       "[19,] 2004M10D01 -0.04 -0.04 -0.01   0.02  0.04  0.05   0.04  0.01     0.00  \n",
       "[20,] 2004M10D04  0.04  0.05  0.06   0.04  0.04  0.02   0.00 -0.01    -0.01  \n",
       "[21,] 2004M10D05 -0.03 -0.04 -0.05  -0.05 -0.05 -0.04  -0.03 -0.03    -0.03  \n",
       "[22,] 2004M10D06 -0.01  0.00 -0.01   0.00 -0.01 -0.01  -0.02 -0.02    -0.02  \n",
       "[23,] 2004M10D07  0.00  0.00  0.01   0.01  0.02  0.02   0.02  0.02     0.02  \n",
       "[24,] 2004M10D08 -0.08 -0.09 -0.08  -0.06 -0.05 -0.04  -0.03 -0.03    -0.03  \n",
       "[25,] 2004M10D11  0.00 -0.01  0.00   0.00  0.01  0.02   0.02  0.03     0.03  \n",
       "[26,] 2004M10D12 -0.04 -0.05 -0.05  -0.05 -0.05 -0.05  -0.03 -0.04    -0.03  \n",
       "[27,] 2004M10D13  0.02  0.02  0.02   0.02  0.01  0.01   0.00  0.00    -0.01  \n",
       "[28,] 2004M10D14 -0.03 -0.03 -0.03  -0.02 -0.01 -0.01  -0.02 -0.01    -0.01  \n",
       "[29,] 2004M10D15 -0.05 -0.04 -0.02  -0.01  0.00  0.00   0.00 -0.01    -0.02  \n",
       "[30,] 2004M10D18  0.01  0.00  0.00   0.00  0.00  0.01   0.02  0.03     0.04  \n",
       "[31,] ⋮          ⋮     ⋮     ⋮      ⋮     ⋮     ⋮      ⋮     ⋮        ⋮      \n",
       "[32,] 2020M08D13  0.03  0.05  0.05   0.05  0.05  0.05   0.06  0.07     0.07  \n",
       "[33,] 2020M08D14  0.00 -0.01 -0.01   0.00  0.00  0.00  -0.02 -0.02    -0.03  \n",
       "[34,] 2020M08D17 -0.02 -0.02 -0.01  -0.02 -0.01  0.00   0.01  0.00     0.01  \n",
       "[35,] 2020M08D18  0.00 -0.01 -0.02  -0.02 -0.02 -0.03  -0.03 -0.02    -0.03  \n",
       "[36,] 2020M08D19 -0.01 -0.02 -0.03  -0.03 -0.03 -0.03  -0.02 -0.02    -0.02  \n",
       "[37,] 2020M08D20 -0.01 -0.01 -0.02  -0.03 -0.05 -0.06  -0.07 -0.06    -0.05  \n",
       "[38,] 2020M08D21  0.00  0.00  0.00   0.00  0.01  0.02   0.03  0.03     0.03  \n",
       "[39,] 2020M08D24  0.01  0.00  0.00   0.00  0.00 -0.01  -0.01 -0.02    -0.02  \n",
       "[40,] 2020M08D25  0.03  0.05  0.07   0.07  0.07  0.08   0.08  0.09     0.09  \n",
       "[41,] 2020M08D26  0.01  0.02  0.02   0.03  0.03  0.03   0.03  0.03     0.03  \n",
       "[42,] 2020M08D27 -0.01 -0.04 -0.05  -0.03  0.01  0.07   0.08  0.02     0.00  \n",
       "[43,] 2020M08D28 -0.02  0.01  0.02   0.01 -0.02 -0.05  -0.04  0.02     0.04  \n",
       "[44,] 2020M08D31  0.01  0.02  0.02   0.02  0.03  0.02   0.02  0.02     0.02  \n",
       "[45,] 2020M09D01 -0.01 -0.02 -0.01   0.00  0.00  0.00   0.00  0.00     0.00  \n",
       "[46,] 2020M09D02 -0.01 -0.04 -0.07  -0.07 -0.07 -0.05  -0.06 -0.09    -0.11  \n",
       "[47,] 2020M09D03 -0.01 -0.01 -0.01  -0.03 -0.03 -0.05  -0.06 -0.07    -0.07  \n",
       "[48,] 2020M09D04  0.00  0.00  0.01   0.02  0.01  0.02   0.03  0.03     0.03  \n",
       "[49,] 2020M09D07  0.02  0.00 -0.01  -0.01  0.01  0.03   0.02  0.01     0.00  \n",
       "[50,] 2020M09D08 -0.03 -0.02 -0.02  -0.02 -0.03 -0.05  -0.05 -0.04    -0.03  \n",
       "[51,] 2020M09D09  0.02  0.04  0.04   0.04  0.03  0.03   0.03  0.03     0.04  \n",
       "[52,] 2020M09D10  0.02  0.03  0.04   0.03  0.03  0.03   0.02  0.03     0.03  \n",
       "[53,] 2020M09D11 -0.01 -0.03 -0.04  -0.04 -0.04 -0.03  -0.01  0.00     0.00  \n",
       "[54,] 2020M09D14 -0.02 -0.02 -0.02  -0.01 -0.02 -0.04  -0.06 -0.07    -0.07  \n",
       "[55,] 2020M09D15  0.01  0.01  0.01   0.01  0.01  0.01   0.02  0.02     0.02  \n",
       "[56,] 2020M09D16  0.00 -0.01  0.00  -0.02 -0.01 -0.01  -0.02 -0.01    -0.01  \n",
       "[57,] 2020M09D17 -0.01  0.01 -0.01   0.00 -0.01 -0.02  -0.02 -0.03    -0.03  \n",
       "[58,] 2020M09D18  0.00 -0.01  0.00   0.00  0.00  0.00   0.01  0.01     0.01  \n",
       "[59,] 2020M09D21 -0.02 -0.03 -0.03  -0.03 -0.03 -0.03  -0.04 -0.04    -0.04  \n",
       "[60,] 2020M09D22  0.01  0.01  0.01   0.01  0.02  0.02   0.03  0.04     0.04  \n",
       "[61,] 2020M09D23  0.00  0.00  0.01   0.01  0.00  0.01   0.01  0.00     0.00  \n",
       "      thirtyy\n",
       " [1,] -0.02  \n",
       " [2,]  0.00  \n",
       " [3,] -0.01  \n",
       " [4,] -0.02  \n",
       " [5,]  0.00  \n",
       " [6,]  0.01  \n",
       " [7,] -0.01  \n",
       " [8,] -0.02  \n",
       " [9,] -0.01  \n",
       "[10,] -0.02  \n",
       "[11,]  0.01  \n",
       "[12,] -0.03  \n",
       "[13,] -0.04  \n",
       "[14,]  0.01  \n",
       "[15,] -0.01  \n",
       "[16,] -0.02  \n",
       "[17,]  0.04  \n",
       "[18,]  0.07  \n",
       "[19,]  0.00  \n",
       "[20,] -0.02  \n",
       "[21,] -0.02  \n",
       "[22,] -0.02  \n",
       "[23,]  0.01  \n",
       "[24,] -0.02  \n",
       "[25,]  0.02  \n",
       "[26,] -0.03  \n",
       "[27,] -0.01  \n",
       "[28,] -0.01  \n",
       "[29,] -0.01  \n",
       "[30,]  0.04  \n",
       "[31,] ⋮      \n",
       "[32,]  0.07  \n",
       "[33,] -0.03  \n",
       "[34,]  0.01  \n",
       "[35,] -0.02  \n",
       "[36,] -0.02  \n",
       "[37,] -0.06  \n",
       "[38,]  0.03  \n",
       "[39,] -0.02  \n",
       "[40,]  0.09  \n",
       "[41,]  0.03  \n",
       "[42,] -0.01  \n",
       "[43,]  0.05  \n",
       "[44,]  0.03  \n",
       "[45,] -0.01  \n",
       "[46,] -0.12  \n",
       "[47,] -0.06  \n",
       "[48,]  0.03  \n",
       "[49,]  0.00  \n",
       "[50,] -0.03  \n",
       "[51,]  0.03  \n",
       "[52,]  0.03  \n",
       "[53,]  0.01  \n",
       "[54,] -0.08  \n",
       "[55,]  0.02  \n",
       "[56,] -0.01  \n",
       "[57,] -0.02  \n",
       "[58,]  0.01  \n",
       "[59,] -0.04  \n",
       "[60,]  0.04  \n",
       "[61,]  0.00  "
      ]
     },
     "execution_count": 9,
     "metadata": {
     },
     "output_type": "execute_result"
    },
    {
     "data": {
      "text/plain": [
       "     Date               oney               twoy              threey         \n",
       " Length:4087        Length:4087        Length:4087        Length:4087       \n",
       " Class :character   Class :character   Class :character   Class :character  \n",
       " Mode  :character   Mode  :character   Mode  :character   Mode  :character  \n",
       "    foury              fivey              seveny              teny          \n",
       " Length:4087        Length:4087        Length:4087        Length:4087       \n",
       " Class :character   Class :character   Class :character   Class :character  \n",
       " Mode  :character   Mode  :character   Mode  :character   Mode  :character  \n",
       "   fifteeny           twentyy            thirtyy         \n",
       " Length:4087        Length:4087        Length:4087       \n",
       " Class :character   Class :character   Class :character  \n",
       " Mode  :character   Mode  :character   Mode  :character  "
      ]
     },
     "execution_count": 9,
     "metadata": {
     },
     "output_type": "execute_result"
    }
   ],
   "source": [
    "# Transforming my data frame to Matrix \n",
    "\n",
    "X <- as.matrix(data)\n",
    "X\n",
    "summary(X)"
   ]
  },
  {
   "cell_type": "markdown",
   "metadata": {
    "collapsed": false
   },
   "source": [
    "## Correlation Matrix"
   ]
  },
  {
   "cell_type": "code",
   "execution_count": 10,
   "metadata": {
    "collapsed": false
   },
   "outputs": [
    {
     "ename": "ERROR",
     "evalue": "Error in cor(X): 'x' must be numeric\n",
     "output_type": "error",
     "traceback": [
      "Error in cor(X): 'x' must be numeric\nTraceback:\n",
      "1. cor(X)",
      "2. stop(\"'x' must be numeric\")"
     ]
    }
   ],
   "source": [
    "R <- cor(X)\n",
    "R\n",
    "\n",
    "stargazer(R, type = 'latex', out = \"corr_matrix1.tex\")\n"
   ]
  },
  {
   "cell_type": "code",
   "execution_count": 35,
   "metadata": {
    "collapsed": false
   },
   "outputs": [
    {
     "data": {
      "text/plain": [
       "eigen() decomposition\n",
       "$values\n",
       " [1] 7.153580601 1.298549398 0.783190500 0.532287252 0.171760534 0.033680942\n",
       " [7] 0.010347208 0.006111843 0.005556292 0.004935429\n",
       "\n",
       "$vectors\n",
       "            [,1]        [,2]         [,3]       [,4]        [,5]        [,6]\n",
       " [1,] -0.2696698 -0.42234620  0.168142745  0.5607583 -0.57385993  0.23448131\n",
       " [2,] -0.3067917 -0.45569305  0.081421044  0.1919071  0.34780966 -0.51602942\n",
       " [3,] -0.3350206 -0.33842415 -0.039055195 -0.1664669  0.40391817  0.02239095\n",
       " [4,] -0.3498365 -0.18364323 -0.142354710 -0.3249854  0.08561513  0.33685036\n",
       " [5,] -0.3511049 -0.04080867 -0.231079601 -0.3427725 -0.17997756  0.27264572\n",
       " [6,] -0.3381675  0.17381339 -0.359954827 -0.1626098 -0.35834359 -0.19578992\n",
       " [7,] -0.3084152  0.35745373 -0.374635073  0.2528929 -0.07092551 -0.41974702\n",
       " [8,] -0.3056085  0.40821821 -0.001821153  0.4161192  0.33746864  0.22773354\n",
       " [9,] -0.3153690  0.32660028  0.414586602  0.0824071  0.17817037  0.30800868\n",
       "[10,] -0.2700493  0.18097602  0.669407495 -0.3571543 -0.26032891 -0.35940755\n",
       "             [,7]        [,8]         [,9]       [,10]\n",
       " [1,] -0.13687969  0.05461942 -0.001425271 -0.01272554\n",
       " [2,]  0.45310985 -0.24582207 -0.018419508  0.03782509\n",
       " [3,] -0.45004181  0.58051519  0.201625563 -0.01241478\n",
       " [4,] -0.17501226 -0.41343970 -0.605174423 -0.17150308\n",
       " [5,]  0.21180270 -0.28488430  0.656074680  0.20245531\n",
       " [6,]  0.38531691  0.50975715 -0.335448147  0.10877261\n",
       " [7,] -0.39823921 -0.23013064  0.161985744 -0.39215896\n",
       " [8,] -0.05679201 -0.05248207 -0.118401249  0.61729790\n",
       " [9,]  0.35569680  0.15579076  0.091432524 -0.57396582\n",
       "[10,] -0.24722252 -0.08752886 -0.034527561  0.22746021\n"
      ]
     },
     "execution_count": 35,
     "metadata": {
     },
     "output_type": "execute_result"
    }
   ],
   "source": [
    "# Spectral Decomposition of the correlation Matrix\n",
    "\n",
    "pcaR <- eigen(R)\n",
    "pcaR\n"
   ]
  },
  {
   "cell_type": "code",
   "execution_count": 11,
   "metadata": {
    "collapsed": false
   },
   "outputs": [
    {
     "ename": "ERROR",
     "evalue": "Error in colMeans(x, na.rm = TRUE): 'x' must be numeric\n",
     "output_type": "error",
     "traceback": [
      "Error in colMeans(x, na.rm = TRUE): 'x' must be numeric\nTraceback:\n",
      "1. prcomp(data, scale = T, center = T)",
      "2. prcomp.default(data, scale = T, center = T)",
      "3. scale(x, center = center, scale = scale.)",
      "4. scale.default(x, center = center, scale = scale.)",
      "5. colMeans(x, na.rm = TRUE)"
     ]
    }
   ],
   "source": [
    "# Using the function prcomp() to obtain principal components\n",
    "\n",
    "pcaData <- prcomp(data, scale = T, center = T)\n",
    "pcaData\n",
    "summary <- summary(pcaData)\n",
    "summary\n"
   ]
  },
  {
   "cell_type": "markdown",
   "metadata": {
    "collapsed": false
   },
   "source": [
    "## Correct signs - arbitrary choice to have the signs so that the first PC is positive\n"
   ]
  },
  {
   "cell_type": "code",
   "execution_count": 37,
   "metadata": {
    "collapsed": false
   },
   "outputs": [
    {
     "data": {
      "text/html": [
       "<table>\n",
       "<caption>A matrix: 10 × 10 of type dbl</caption>\n",
       "<thead>\n",
       "\t<tr><th></th><th scope=col>PC1</th><th scope=col>PC2</th><th scope=col>PC3</th><th scope=col>PC4</th><th scope=col>PC5</th><th scope=col>PC6</th><th scope=col>PC7</th><th scope=col>PC8</th><th scope=col>PC9</th><th scope=col>PC10</th></tr>\n",
       "</thead>\n",
       "<tbody>\n",
       "\t<tr><th scope=row>oney</th><td>0.2696698</td><td> 0.42234620</td><td> 0.168142745</td><td> 0.5607583</td><td> 0.57385993</td><td> 0.23448131</td><td>-0.13687969</td><td>-0.05461942</td><td> 0.001425271</td><td>-0.01272554</td></tr>\n",
       "\t<tr><th scope=row>twoy</th><td>0.3067917</td><td> 0.45569305</td><td> 0.081421044</td><td> 0.1919071</td><td>-0.34780966</td><td>-0.51602942</td><td> 0.45310985</td><td> 0.24582207</td><td> 0.018419508</td><td> 0.03782509</td></tr>\n",
       "\t<tr><th scope=row>threey</th><td>0.3350206</td><td> 0.33842415</td><td>-0.039055195</td><td>-0.1664669</td><td>-0.40391817</td><td> 0.02239095</td><td>-0.45004181</td><td>-0.58051519</td><td>-0.201625563</td><td>-0.01241478</td></tr>\n",
       "\t<tr><th scope=row>foury</th><td>0.3498365</td><td> 0.18364323</td><td>-0.142354710</td><td>-0.3249854</td><td>-0.08561513</td><td> 0.33685036</td><td>-0.17501226</td><td> 0.41343970</td><td> 0.605174423</td><td>-0.17150308</td></tr>\n",
       "\t<tr><th scope=row>fivey</th><td>0.3511049</td><td> 0.04080867</td><td>-0.231079601</td><td>-0.3427725</td><td> 0.17997756</td><td> 0.27264572</td><td> 0.21180270</td><td> 0.28488430</td><td>-0.656074680</td><td> 0.20245531</td></tr>\n",
       "\t<tr><th scope=row>seveny</th><td>0.3381675</td><td>-0.17381339</td><td>-0.359954827</td><td>-0.1626098</td><td> 0.35834359</td><td>-0.19578992</td><td> 0.38531691</td><td>-0.50975715</td><td> 0.335448147</td><td> 0.10877261</td></tr>\n",
       "\t<tr><th scope=row>teny</th><td>0.3084152</td><td>-0.35745373</td><td>-0.374635073</td><td> 0.2528929</td><td> 0.07092551</td><td>-0.41974702</td><td>-0.39823921</td><td> 0.23013064</td><td>-0.161985744</td><td>-0.39215896</td></tr>\n",
       "\t<tr><th scope=row>fifteeny</th><td>0.3056085</td><td>-0.40821821</td><td>-0.001821153</td><td> 0.4161192</td><td>-0.33746864</td><td> 0.22773354</td><td>-0.05679201</td><td> 0.05248207</td><td> 0.118401249</td><td> 0.61729790</td></tr>\n",
       "\t<tr><th scope=row>twentyy</th><td>0.3153690</td><td>-0.32660028</td><td> 0.414586602</td><td> 0.0824071</td><td>-0.17817037</td><td> 0.30800868</td><td> 0.35569680</td><td>-0.15579076</td><td>-0.091432524</td><td>-0.57396582</td></tr>\n",
       "\t<tr><th scope=row>thirtyy</th><td>0.2700493</td><td>-0.18097602</td><td> 0.669407495</td><td>-0.3571543</td><td> 0.26032891</td><td>-0.35940755</td><td>-0.24722252</td><td> 0.08752886</td><td> 0.034527561</td><td> 0.22746021</td></tr>\n",
       "</tbody>\n",
       "</table>\n"
      ],
      "text/latex": [
       "A matrix: 10 × 10 of type dbl\n",
       "\\begin{tabular}{r|llllllllll}\n",
       "  & PC1 & PC2 & PC3 & PC4 & PC5 & PC6 & PC7 & PC8 & PC9 & PC10\\\\\n",
       "\\hline\n",
       "\toney & 0.2696698 &  0.42234620 &  0.168142745 &  0.5607583 &  0.57385993 &  0.23448131 & -0.13687969 & -0.05461942 &  0.001425271 & -0.01272554\\\\\n",
       "\ttwoy & 0.3067917 &  0.45569305 &  0.081421044 &  0.1919071 & -0.34780966 & -0.51602942 &  0.45310985 &  0.24582207 &  0.018419508 &  0.03782509\\\\\n",
       "\tthreey & 0.3350206 &  0.33842415 & -0.039055195 & -0.1664669 & -0.40391817 &  0.02239095 & -0.45004181 & -0.58051519 & -0.201625563 & -0.01241478\\\\\n",
       "\tfoury & 0.3498365 &  0.18364323 & -0.142354710 & -0.3249854 & -0.08561513 &  0.33685036 & -0.17501226 &  0.41343970 &  0.605174423 & -0.17150308\\\\\n",
       "\tfivey & 0.3511049 &  0.04080867 & -0.231079601 & -0.3427725 &  0.17997756 &  0.27264572 &  0.21180270 &  0.28488430 & -0.656074680 &  0.20245531\\\\\n",
       "\tseveny & 0.3381675 & -0.17381339 & -0.359954827 & -0.1626098 &  0.35834359 & -0.19578992 &  0.38531691 & -0.50975715 &  0.335448147 &  0.10877261\\\\\n",
       "\tteny & 0.3084152 & -0.35745373 & -0.374635073 &  0.2528929 &  0.07092551 & -0.41974702 & -0.39823921 &  0.23013064 & -0.161985744 & -0.39215896\\\\\n",
       "\tfifteeny & 0.3056085 & -0.40821821 & -0.001821153 &  0.4161192 & -0.33746864 &  0.22773354 & -0.05679201 &  0.05248207 &  0.118401249 &  0.61729790\\\\\n",
       "\ttwentyy & 0.3153690 & -0.32660028 &  0.414586602 &  0.0824071 & -0.17817037 &  0.30800868 &  0.35569680 & -0.15579076 & -0.091432524 & -0.57396582\\\\\n",
       "\tthirtyy & 0.2700493 & -0.18097602 &  0.669407495 & -0.3571543 &  0.26032891 & -0.35940755 & -0.24722252 &  0.08752886 &  0.034527561 &  0.22746021\\\\\n",
       "\\end{tabular}\n"
      ],
      "text/markdown": [
       "\n",
       "A matrix: 10 × 10 of type dbl\n",
       "\n",
       "| <!--/--> | PC1 | PC2 | PC3 | PC4 | PC5 | PC6 | PC7 | PC8 | PC9 | PC10 |\n",
       "|---|---|---|---|---|---|---|---|---|---|---|\n",
       "| oney | 0.2696698 |  0.42234620 |  0.168142745 |  0.5607583 |  0.57385993 |  0.23448131 | -0.13687969 | -0.05461942 |  0.001425271 | -0.01272554 |\n",
       "| twoy | 0.3067917 |  0.45569305 |  0.081421044 |  0.1919071 | -0.34780966 | -0.51602942 |  0.45310985 |  0.24582207 |  0.018419508 |  0.03782509 |\n",
       "| threey | 0.3350206 |  0.33842415 | -0.039055195 | -0.1664669 | -0.40391817 |  0.02239095 | -0.45004181 | -0.58051519 | -0.201625563 | -0.01241478 |\n",
       "| foury | 0.3498365 |  0.18364323 | -0.142354710 | -0.3249854 | -0.08561513 |  0.33685036 | -0.17501226 |  0.41343970 |  0.605174423 | -0.17150308 |\n",
       "| fivey | 0.3511049 |  0.04080867 | -0.231079601 | -0.3427725 |  0.17997756 |  0.27264572 |  0.21180270 |  0.28488430 | -0.656074680 |  0.20245531 |\n",
       "| seveny | 0.3381675 | -0.17381339 | -0.359954827 | -0.1626098 |  0.35834359 | -0.19578992 |  0.38531691 | -0.50975715 |  0.335448147 |  0.10877261 |\n",
       "| teny | 0.3084152 | -0.35745373 | -0.374635073 |  0.2528929 |  0.07092551 | -0.41974702 | -0.39823921 |  0.23013064 | -0.161985744 | -0.39215896 |\n",
       "| fifteeny | 0.3056085 | -0.40821821 | -0.001821153 |  0.4161192 | -0.33746864 |  0.22773354 | -0.05679201 |  0.05248207 |  0.118401249 |  0.61729790 |\n",
       "| twentyy | 0.3153690 | -0.32660028 |  0.414586602 |  0.0824071 | -0.17817037 |  0.30800868 |  0.35569680 | -0.15579076 | -0.091432524 | -0.57396582 |\n",
       "| thirtyy | 0.2700493 | -0.18097602 |  0.669407495 | -0.3571543 |  0.26032891 | -0.35940755 | -0.24722252 |  0.08752886 |  0.034527561 |  0.22746021 |\n",
       "\n"
      ],
      "text/plain": [
       "         PC1       PC2         PC3          PC4        PC5         PC6        \n",
       "oney     0.2696698  0.42234620  0.168142745  0.5607583  0.57385993  0.23448131\n",
       "twoy     0.3067917  0.45569305  0.081421044  0.1919071 -0.34780966 -0.51602942\n",
       "threey   0.3350206  0.33842415 -0.039055195 -0.1664669 -0.40391817  0.02239095\n",
       "foury    0.3498365  0.18364323 -0.142354710 -0.3249854 -0.08561513  0.33685036\n",
       "fivey    0.3511049  0.04080867 -0.231079601 -0.3427725  0.17997756  0.27264572\n",
       "seveny   0.3381675 -0.17381339 -0.359954827 -0.1626098  0.35834359 -0.19578992\n",
       "teny     0.3084152 -0.35745373 -0.374635073  0.2528929  0.07092551 -0.41974702\n",
       "fifteeny 0.3056085 -0.40821821 -0.001821153  0.4161192 -0.33746864  0.22773354\n",
       "twentyy  0.3153690 -0.32660028  0.414586602  0.0824071 -0.17817037  0.30800868\n",
       "thirtyy  0.2700493 -0.18097602  0.669407495 -0.3571543  0.26032891 -0.35940755\n",
       "         PC7         PC8         PC9          PC10       \n",
       "oney     -0.13687969 -0.05461942  0.001425271 -0.01272554\n",
       "twoy      0.45310985  0.24582207  0.018419508  0.03782509\n",
       "threey   -0.45004181 -0.58051519 -0.201625563 -0.01241478\n",
       "foury    -0.17501226  0.41343970  0.605174423 -0.17150308\n",
       "fivey     0.21180270  0.28488430 -0.656074680  0.20245531\n",
       "seveny    0.38531691 -0.50975715  0.335448147  0.10877261\n",
       "teny     -0.39823921  0.23013064 -0.161985744 -0.39215896\n",
       "fifteeny -0.05679201  0.05248207  0.118401249  0.61729790\n",
       "twentyy   0.35569680 -0.15579076 -0.091432524 -0.57396582\n",
       "thirtyy  -0.24722252  0.08752886  0.034527561  0.22746021"
      ]
     },
     "execution_count": 37,
     "metadata": {
     },
     "output_type": "execute_result"
    },
    {
     "data": {
      "text/html": [
       "<table>\n",
       "<caption>A matrix: 10 × 10 of type dbl</caption>\n",
       "<thead>\n",
       "\t<tr><th></th><th scope=col>PC1</th><th scope=col>PC2</th><th scope=col>PC3</th><th scope=col>PC4</th><th scope=col>PC5</th><th scope=col>PC6</th><th scope=col>PC7</th><th scope=col>PC8</th><th scope=col>PC9</th><th scope=col>PC10</th></tr>\n",
       "</thead>\n",
       "<tbody>\n",
       "\t<tr><th scope=row>oney</th><td>0.2696698</td><td> 0.42234620</td><td> 0.168142745</td><td> 0.5607583</td><td> 0.57385993</td><td> 0.23448131</td><td>-0.13687969</td><td>-0.05461942</td><td> 0.001425271</td><td>-0.01272554</td></tr>\n",
       "\t<tr><th scope=row>twoy</th><td>0.3067917</td><td> 0.45569305</td><td> 0.081421044</td><td> 0.1919071</td><td>-0.34780966</td><td>-0.51602942</td><td> 0.45310985</td><td> 0.24582207</td><td> 0.018419508</td><td> 0.03782509</td></tr>\n",
       "\t<tr><th scope=row>threey</th><td>0.3350206</td><td> 0.33842415</td><td>-0.039055195</td><td>-0.1664669</td><td>-0.40391817</td><td> 0.02239095</td><td>-0.45004181</td><td>-0.58051519</td><td>-0.201625563</td><td>-0.01241478</td></tr>\n",
       "\t<tr><th scope=row>foury</th><td>0.3498365</td><td> 0.18364323</td><td>-0.142354710</td><td>-0.3249854</td><td>-0.08561513</td><td> 0.33685036</td><td>-0.17501226</td><td> 0.41343970</td><td> 0.605174423</td><td>-0.17150308</td></tr>\n",
       "\t<tr><th scope=row>fivey</th><td>0.3511049</td><td> 0.04080867</td><td>-0.231079601</td><td>-0.3427725</td><td> 0.17997756</td><td> 0.27264572</td><td> 0.21180270</td><td> 0.28488430</td><td>-0.656074680</td><td> 0.20245531</td></tr>\n",
       "\t<tr><th scope=row>seveny</th><td>0.3381675</td><td>-0.17381339</td><td>-0.359954827</td><td>-0.1626098</td><td> 0.35834359</td><td>-0.19578992</td><td> 0.38531691</td><td>-0.50975715</td><td> 0.335448147</td><td> 0.10877261</td></tr>\n",
       "\t<tr><th scope=row>teny</th><td>0.3084152</td><td>-0.35745373</td><td>-0.374635073</td><td> 0.2528929</td><td> 0.07092551</td><td>-0.41974702</td><td>-0.39823921</td><td> 0.23013064</td><td>-0.161985744</td><td>-0.39215896</td></tr>\n",
       "\t<tr><th scope=row>fifteeny</th><td>0.3056085</td><td>-0.40821821</td><td>-0.001821153</td><td> 0.4161192</td><td>-0.33746864</td><td> 0.22773354</td><td>-0.05679201</td><td> 0.05248207</td><td> 0.118401249</td><td> 0.61729790</td></tr>\n",
       "\t<tr><th scope=row>twentyy</th><td>0.3153690</td><td>-0.32660028</td><td> 0.414586602</td><td> 0.0824071</td><td>-0.17817037</td><td> 0.30800868</td><td> 0.35569680</td><td>-0.15579076</td><td>-0.091432524</td><td>-0.57396582</td></tr>\n",
       "\t<tr><th scope=row>thirtyy</th><td>0.2700493</td><td>-0.18097602</td><td> 0.669407495</td><td>-0.3571543</td><td> 0.26032891</td><td>-0.35940755</td><td>-0.24722252</td><td> 0.08752886</td><td> 0.034527561</td><td> 0.22746021</td></tr>\n",
       "</tbody>\n",
       "</table>\n"
      ],
      "text/latex": [
       "A matrix: 10 × 10 of type dbl\n",
       "\\begin{tabular}{r|llllllllll}\n",
       "  & PC1 & PC2 & PC3 & PC4 & PC5 & PC6 & PC7 & PC8 & PC9 & PC10\\\\\n",
       "\\hline\n",
       "\toney & 0.2696698 &  0.42234620 &  0.168142745 &  0.5607583 &  0.57385993 &  0.23448131 & -0.13687969 & -0.05461942 &  0.001425271 & -0.01272554\\\\\n",
       "\ttwoy & 0.3067917 &  0.45569305 &  0.081421044 &  0.1919071 & -0.34780966 & -0.51602942 &  0.45310985 &  0.24582207 &  0.018419508 &  0.03782509\\\\\n",
       "\tthreey & 0.3350206 &  0.33842415 & -0.039055195 & -0.1664669 & -0.40391817 &  0.02239095 & -0.45004181 & -0.58051519 & -0.201625563 & -0.01241478\\\\\n",
       "\tfoury & 0.3498365 &  0.18364323 & -0.142354710 & -0.3249854 & -0.08561513 &  0.33685036 & -0.17501226 &  0.41343970 &  0.605174423 & -0.17150308\\\\\n",
       "\tfivey & 0.3511049 &  0.04080867 & -0.231079601 & -0.3427725 &  0.17997756 &  0.27264572 &  0.21180270 &  0.28488430 & -0.656074680 &  0.20245531\\\\\n",
       "\tseveny & 0.3381675 & -0.17381339 & -0.359954827 & -0.1626098 &  0.35834359 & -0.19578992 &  0.38531691 & -0.50975715 &  0.335448147 &  0.10877261\\\\\n",
       "\tteny & 0.3084152 & -0.35745373 & -0.374635073 &  0.2528929 &  0.07092551 & -0.41974702 & -0.39823921 &  0.23013064 & -0.161985744 & -0.39215896\\\\\n",
       "\tfifteeny & 0.3056085 & -0.40821821 & -0.001821153 &  0.4161192 & -0.33746864 &  0.22773354 & -0.05679201 &  0.05248207 &  0.118401249 &  0.61729790\\\\\n",
       "\ttwentyy & 0.3153690 & -0.32660028 &  0.414586602 &  0.0824071 & -0.17817037 &  0.30800868 &  0.35569680 & -0.15579076 & -0.091432524 & -0.57396582\\\\\n",
       "\tthirtyy & 0.2700493 & -0.18097602 &  0.669407495 & -0.3571543 &  0.26032891 & -0.35940755 & -0.24722252 &  0.08752886 &  0.034527561 &  0.22746021\\\\\n",
       "\\end{tabular}\n"
      ],
      "text/markdown": [
       "\n",
       "A matrix: 10 × 10 of type dbl\n",
       "\n",
       "| <!--/--> | PC1 | PC2 | PC3 | PC4 | PC5 | PC6 | PC7 | PC8 | PC9 | PC10 |\n",
       "|---|---|---|---|---|---|---|---|---|---|---|\n",
       "| oney | 0.2696698 |  0.42234620 |  0.168142745 |  0.5607583 |  0.57385993 |  0.23448131 | -0.13687969 | -0.05461942 |  0.001425271 | -0.01272554 |\n",
       "| twoy | 0.3067917 |  0.45569305 |  0.081421044 |  0.1919071 | -0.34780966 | -0.51602942 |  0.45310985 |  0.24582207 |  0.018419508 |  0.03782509 |\n",
       "| threey | 0.3350206 |  0.33842415 | -0.039055195 | -0.1664669 | -0.40391817 |  0.02239095 | -0.45004181 | -0.58051519 | -0.201625563 | -0.01241478 |\n",
       "| foury | 0.3498365 |  0.18364323 | -0.142354710 | -0.3249854 | -0.08561513 |  0.33685036 | -0.17501226 |  0.41343970 |  0.605174423 | -0.17150308 |\n",
       "| fivey | 0.3511049 |  0.04080867 | -0.231079601 | -0.3427725 |  0.17997756 |  0.27264572 |  0.21180270 |  0.28488430 | -0.656074680 |  0.20245531 |\n",
       "| seveny | 0.3381675 | -0.17381339 | -0.359954827 | -0.1626098 |  0.35834359 | -0.19578992 |  0.38531691 | -0.50975715 |  0.335448147 |  0.10877261 |\n",
       "| teny | 0.3084152 | -0.35745373 | -0.374635073 |  0.2528929 |  0.07092551 | -0.41974702 | -0.39823921 |  0.23013064 | -0.161985744 | -0.39215896 |\n",
       "| fifteeny | 0.3056085 | -0.40821821 | -0.001821153 |  0.4161192 | -0.33746864 |  0.22773354 | -0.05679201 |  0.05248207 |  0.118401249 |  0.61729790 |\n",
       "| twentyy | 0.3153690 | -0.32660028 |  0.414586602 |  0.0824071 | -0.17817037 |  0.30800868 |  0.35569680 | -0.15579076 | -0.091432524 | -0.57396582 |\n",
       "| thirtyy | 0.2700493 | -0.18097602 |  0.669407495 | -0.3571543 |  0.26032891 | -0.35940755 | -0.24722252 |  0.08752886 |  0.034527561 |  0.22746021 |\n",
       "\n"
      ],
      "text/plain": [
       "         PC1       PC2         PC3          PC4        PC5         PC6        \n",
       "oney     0.2696698  0.42234620  0.168142745  0.5607583  0.57385993  0.23448131\n",
       "twoy     0.3067917  0.45569305  0.081421044  0.1919071 -0.34780966 -0.51602942\n",
       "threey   0.3350206  0.33842415 -0.039055195 -0.1664669 -0.40391817  0.02239095\n",
       "foury    0.3498365  0.18364323 -0.142354710 -0.3249854 -0.08561513  0.33685036\n",
       "fivey    0.3511049  0.04080867 -0.231079601 -0.3427725  0.17997756  0.27264572\n",
       "seveny   0.3381675 -0.17381339 -0.359954827 -0.1626098  0.35834359 -0.19578992\n",
       "teny     0.3084152 -0.35745373 -0.374635073  0.2528929  0.07092551 -0.41974702\n",
       "fifteeny 0.3056085 -0.40821821 -0.001821153  0.4161192 -0.33746864  0.22773354\n",
       "twentyy  0.3153690 -0.32660028  0.414586602  0.0824071 -0.17817037  0.30800868\n",
       "thirtyy  0.2700493 -0.18097602  0.669407495 -0.3571543  0.26032891 -0.35940755\n",
       "         PC7         PC8         PC9          PC10       \n",
       "oney     -0.13687969 -0.05461942  0.001425271 -0.01272554\n",
       "twoy      0.45310985  0.24582207  0.018419508  0.03782509\n",
       "threey   -0.45004181 -0.58051519 -0.201625563 -0.01241478\n",
       "foury    -0.17501226  0.41343970  0.605174423 -0.17150308\n",
       "fivey     0.21180270  0.28488430 -0.656074680  0.20245531\n",
       "seveny    0.38531691 -0.50975715  0.335448147  0.10877261\n",
       "teny     -0.39823921  0.23013064 -0.161985744 -0.39215896\n",
       "fifteeny -0.05679201  0.05248207  0.118401249  0.61729790\n",
       "twentyy   0.35569680 -0.15579076 -0.091432524 -0.57396582\n",
       "thirtyy  -0.24722252  0.08752886  0.034527561  0.22746021"
      ]
     },
     "execution_count": 37,
     "metadata": {
     },
     "output_type": "execute_result"
    }
   ],
   "source": [
    "- pcaData$rotation\n",
    "rotation <- - pcaData$rotation\n",
    "\n",
    "rotation\n"
   ]
  },
  {
   "cell_type": "markdown",
   "metadata": {
    "collapsed": false
   },
   "source": [
    "## Principal components"
   ]
  },
  {
   "cell_type": "code",
   "execution_count": 38,
   "metadata": {
    "collapsed": false
   },
   "outputs": [
    {
     "data": {
      "text/html": [
       "<table>\n",
       "<caption>A matrix: 10 × 10 of type dbl</caption>\n",
       "<thead>\n",
       "\t<tr><th></th><th scope=col>PC1</th><th scope=col>PC2</th><th scope=col>PC3</th><th scope=col>PC4</th><th scope=col>PC5</th><th scope=col>PC6</th><th scope=col>PC7</th><th scope=col>PC8</th><th scope=col>PC9</th><th scope=col>PC10</th></tr>\n",
       "</thead>\n",
       "<tbody>\n",
       "\t<tr><th scope=row>oney</th><td>-0.2696698</td><td>-0.42234620</td><td>-0.168142745</td><td>-0.5607583</td><td>-0.57385993</td><td>-0.23448131</td><td> 0.13687969</td><td> 0.05461942</td><td>-0.001425271</td><td> 0.01272554</td></tr>\n",
       "\t<tr><th scope=row>twoy</th><td>-0.3067917</td><td>-0.45569305</td><td>-0.081421044</td><td>-0.1919071</td><td> 0.34780966</td><td> 0.51602942</td><td>-0.45310985</td><td>-0.24582207</td><td>-0.018419508</td><td>-0.03782509</td></tr>\n",
       "\t<tr><th scope=row>threey</th><td>-0.3350206</td><td>-0.33842415</td><td> 0.039055195</td><td> 0.1664669</td><td> 0.40391817</td><td>-0.02239095</td><td> 0.45004181</td><td> 0.58051519</td><td> 0.201625563</td><td> 0.01241478</td></tr>\n",
       "\t<tr><th scope=row>foury</th><td>-0.3498365</td><td>-0.18364323</td><td> 0.142354710</td><td> 0.3249854</td><td> 0.08561513</td><td>-0.33685036</td><td> 0.17501226</td><td>-0.41343970</td><td>-0.605174423</td><td> 0.17150308</td></tr>\n",
       "\t<tr><th scope=row>fivey</th><td>-0.3511049</td><td>-0.04080867</td><td> 0.231079601</td><td> 0.3427725</td><td>-0.17997756</td><td>-0.27264572</td><td>-0.21180270</td><td>-0.28488430</td><td> 0.656074680</td><td>-0.20245531</td></tr>\n",
       "\t<tr><th scope=row>seveny</th><td>-0.3381675</td><td> 0.17381339</td><td> 0.359954827</td><td> 0.1626098</td><td>-0.35834359</td><td> 0.19578992</td><td>-0.38531691</td><td> 0.50975715</td><td>-0.335448147</td><td>-0.10877261</td></tr>\n",
       "\t<tr><th scope=row>teny</th><td>-0.3084152</td><td> 0.35745373</td><td> 0.374635073</td><td>-0.2528929</td><td>-0.07092551</td><td> 0.41974702</td><td> 0.39823921</td><td>-0.23013064</td><td> 0.161985744</td><td> 0.39215896</td></tr>\n",
       "\t<tr><th scope=row>fifteeny</th><td>-0.3056085</td><td> 0.40821821</td><td> 0.001821153</td><td>-0.4161192</td><td> 0.33746864</td><td>-0.22773354</td><td> 0.05679201</td><td>-0.05248207</td><td>-0.118401249</td><td>-0.61729790</td></tr>\n",
       "\t<tr><th scope=row>twentyy</th><td>-0.3153690</td><td> 0.32660028</td><td>-0.414586602</td><td>-0.0824071</td><td> 0.17817037</td><td>-0.30800868</td><td>-0.35569680</td><td> 0.15579076</td><td> 0.091432524</td><td> 0.57396582</td></tr>\n",
       "\t<tr><th scope=row>thirtyy</th><td>-0.2700493</td><td> 0.18097602</td><td>-0.669407495</td><td> 0.3571543</td><td>-0.26032891</td><td> 0.35940755</td><td> 0.24722252</td><td>-0.08752886</td><td>-0.034527561</td><td>-0.22746021</td></tr>\n",
       "</tbody>\n",
       "</table>\n"
      ],
      "text/latex": [
       "A matrix: 10 × 10 of type dbl\n",
       "\\begin{tabular}{r|llllllllll}\n",
       "  & PC1 & PC2 & PC3 & PC4 & PC5 & PC6 & PC7 & PC8 & PC9 & PC10\\\\\n",
       "\\hline\n",
       "\toney & -0.2696698 & -0.42234620 & -0.168142745 & -0.5607583 & -0.57385993 & -0.23448131 &  0.13687969 &  0.05461942 & -0.001425271 &  0.01272554\\\\\n",
       "\ttwoy & -0.3067917 & -0.45569305 & -0.081421044 & -0.1919071 &  0.34780966 &  0.51602942 & -0.45310985 & -0.24582207 & -0.018419508 & -0.03782509\\\\\n",
       "\tthreey & -0.3350206 & -0.33842415 &  0.039055195 &  0.1664669 &  0.40391817 & -0.02239095 &  0.45004181 &  0.58051519 &  0.201625563 &  0.01241478\\\\\n",
       "\tfoury & -0.3498365 & -0.18364323 &  0.142354710 &  0.3249854 &  0.08561513 & -0.33685036 &  0.17501226 & -0.41343970 & -0.605174423 &  0.17150308\\\\\n",
       "\tfivey & -0.3511049 & -0.04080867 &  0.231079601 &  0.3427725 & -0.17997756 & -0.27264572 & -0.21180270 & -0.28488430 &  0.656074680 & -0.20245531\\\\\n",
       "\tseveny & -0.3381675 &  0.17381339 &  0.359954827 &  0.1626098 & -0.35834359 &  0.19578992 & -0.38531691 &  0.50975715 & -0.335448147 & -0.10877261\\\\\n",
       "\tteny & -0.3084152 &  0.35745373 &  0.374635073 & -0.2528929 & -0.07092551 &  0.41974702 &  0.39823921 & -0.23013064 &  0.161985744 &  0.39215896\\\\\n",
       "\tfifteeny & -0.3056085 &  0.40821821 &  0.001821153 & -0.4161192 &  0.33746864 & -0.22773354 &  0.05679201 & -0.05248207 & -0.118401249 & -0.61729790\\\\\n",
       "\ttwentyy & -0.3153690 &  0.32660028 & -0.414586602 & -0.0824071 &  0.17817037 & -0.30800868 & -0.35569680 &  0.15579076 &  0.091432524 &  0.57396582\\\\\n",
       "\tthirtyy & -0.2700493 &  0.18097602 & -0.669407495 &  0.3571543 & -0.26032891 &  0.35940755 &  0.24722252 & -0.08752886 & -0.034527561 & -0.22746021\\\\\n",
       "\\end{tabular}\n"
      ],
      "text/markdown": [
       "\n",
       "A matrix: 10 × 10 of type dbl\n",
       "\n",
       "| <!--/--> | PC1 | PC2 | PC3 | PC4 | PC5 | PC6 | PC7 | PC8 | PC9 | PC10 |\n",
       "|---|---|---|---|---|---|---|---|---|---|---|\n",
       "| oney | -0.2696698 | -0.42234620 | -0.168142745 | -0.5607583 | -0.57385993 | -0.23448131 |  0.13687969 |  0.05461942 | -0.001425271 |  0.01272554 |\n",
       "| twoy | -0.3067917 | -0.45569305 | -0.081421044 | -0.1919071 |  0.34780966 |  0.51602942 | -0.45310985 | -0.24582207 | -0.018419508 | -0.03782509 |\n",
       "| threey | -0.3350206 | -0.33842415 |  0.039055195 |  0.1664669 |  0.40391817 | -0.02239095 |  0.45004181 |  0.58051519 |  0.201625563 |  0.01241478 |\n",
       "| foury | -0.3498365 | -0.18364323 |  0.142354710 |  0.3249854 |  0.08561513 | -0.33685036 |  0.17501226 | -0.41343970 | -0.605174423 |  0.17150308 |\n",
       "| fivey | -0.3511049 | -0.04080867 |  0.231079601 |  0.3427725 | -0.17997756 | -0.27264572 | -0.21180270 | -0.28488430 |  0.656074680 | -0.20245531 |\n",
       "| seveny | -0.3381675 |  0.17381339 |  0.359954827 |  0.1626098 | -0.35834359 |  0.19578992 | -0.38531691 |  0.50975715 | -0.335448147 | -0.10877261 |\n",
       "| teny | -0.3084152 |  0.35745373 |  0.374635073 | -0.2528929 | -0.07092551 |  0.41974702 |  0.39823921 | -0.23013064 |  0.161985744 |  0.39215896 |\n",
       "| fifteeny | -0.3056085 |  0.40821821 |  0.001821153 | -0.4161192 |  0.33746864 | -0.22773354 |  0.05679201 | -0.05248207 | -0.118401249 | -0.61729790 |\n",
       "| twentyy | -0.3153690 |  0.32660028 | -0.414586602 | -0.0824071 |  0.17817037 | -0.30800868 | -0.35569680 |  0.15579076 |  0.091432524 |  0.57396582 |\n",
       "| thirtyy | -0.2700493 |  0.18097602 | -0.669407495 |  0.3571543 | -0.26032891 |  0.35940755 |  0.24722252 | -0.08752886 | -0.034527561 | -0.22746021 |\n",
       "\n"
      ],
      "text/plain": [
       "         PC1        PC2         PC3          PC4        PC5         PC6        \n",
       "oney     -0.2696698 -0.42234620 -0.168142745 -0.5607583 -0.57385993 -0.23448131\n",
       "twoy     -0.3067917 -0.45569305 -0.081421044 -0.1919071  0.34780966  0.51602942\n",
       "threey   -0.3350206 -0.33842415  0.039055195  0.1664669  0.40391817 -0.02239095\n",
       "foury    -0.3498365 -0.18364323  0.142354710  0.3249854  0.08561513 -0.33685036\n",
       "fivey    -0.3511049 -0.04080867  0.231079601  0.3427725 -0.17997756 -0.27264572\n",
       "seveny   -0.3381675  0.17381339  0.359954827  0.1626098 -0.35834359  0.19578992\n",
       "teny     -0.3084152  0.35745373  0.374635073 -0.2528929 -0.07092551  0.41974702\n",
       "fifteeny -0.3056085  0.40821821  0.001821153 -0.4161192  0.33746864 -0.22773354\n",
       "twentyy  -0.3153690  0.32660028 -0.414586602 -0.0824071  0.17817037 -0.30800868\n",
       "thirtyy  -0.2700493  0.18097602 -0.669407495  0.3571543 -0.26032891  0.35940755\n",
       "         PC7         PC8         PC9          PC10       \n",
       "oney      0.13687969  0.05461942 -0.001425271  0.01272554\n",
       "twoy     -0.45310985 -0.24582207 -0.018419508 -0.03782509\n",
       "threey    0.45004181  0.58051519  0.201625563  0.01241478\n",
       "foury     0.17501226 -0.41343970 -0.605174423  0.17150308\n",
       "fivey    -0.21180270 -0.28488430  0.656074680 -0.20245531\n",
       "seveny   -0.38531691  0.50975715 -0.335448147 -0.10877261\n",
       "teny      0.39823921 -0.23013064  0.161985744  0.39215896\n",
       "fifteeny  0.05679201 -0.05248207 -0.118401249 -0.61729790\n",
       "twentyy  -0.35569680  0.15579076  0.091432524  0.57396582\n",
       "thirtyy   0.24722252 -0.08752886 -0.034527561 -0.22746021"
      ]
     },
     "execution_count": 38,
     "metadata": {
     },
     "output_type": "execute_result"
    }
   ],
   "source": [
    "pcaData$rotation\n"
   ]
  },
  {
   "cell_type": "markdown",
   "metadata": {
    "collapsed": false
   },
   "source": [
    "## Eigenvalues"
   ]
  },
  {
   "cell_type": "code",
   "execution_count": 39,
   "metadata": {
    "collapsed": false
   },
   "outputs": [
    {
     "data": {
      "text/html": [
       "<style>\n",
       ".list-inline {list-style: none; margin:0; padding: 0}\n",
       ".list-inline>li {display: inline-block}\n",
       ".list-inline>li:not(:last-child)::after {content: \"\\00b7\"; padding: 0 .5ex}\n",
       "</style>\n",
       "<ol class=list-inline><li>7.15358060061002</li><li>1.29854939826255</li><li>0.783190500082389</li><li>0.532287251939221</li><li>0.171760533702377</li><li>0.0336809424291088</li><li>0.0103472082431379</li><li>0.00611184302969995</li><li>0.00555629231748662</li><li>0.00493542938400643</li></ol>\n"
      ],
      "text/latex": [
       "\\begin{enumerate*}\n",
       "\\item 7.15358060061002\n",
       "\\item 1.29854939826255\n",
       "\\item 0.783190500082389\n",
       "\\item 0.532287251939221\n",
       "\\item 0.171760533702377\n",
       "\\item 0.0336809424291088\n",
       "\\item 0.0103472082431379\n",
       "\\item 0.00611184302969995\n",
       "\\item 0.00555629231748662\n",
       "\\item 0.00493542938400643\n",
       "\\end{enumerate*}\n"
      ],
      "text/markdown": [
       "1. 7.15358060061002\n",
       "2. 1.29854939826255\n",
       "3. 0.783190500082389\n",
       "4. 0.532287251939221\n",
       "5. 0.171760533702377\n",
       "6. 0.0336809424291088\n",
       "7. 0.0103472082431379\n",
       "8. 0.00611184302969995\n",
       "9. 0.00555629231748662\n",
       "10. 0.00493542938400643\n",
       "\n",
       "\n"
      ],
      "text/plain": [
       " [1] 7.153580601 1.298549398 0.783190500 0.532287252 0.171760534 0.033680942\n",
       " [7] 0.010347208 0.006111843 0.005556292 0.004935429"
      ]
     },
     "execution_count": 39,
     "metadata": {
     },
     "output_type": "execute_result"
    }
   ],
   "source": [
    "#Eigenvalues\n",
    "pcaR$values\n"
   ]
  },
  {
   "cell_type": "code",
   "execution_count": 40,
   "metadata": {
    "collapsed": false
   },
   "outputs": [
    {
     "data": {
      "text/html": [
       "<table>\n",
       "<caption>A matrix: 4087 × 10 of type dbl</caption>\n",
       "<tbody>\n",
       "\t<tr><td> 0.0082420226</td><td>-0.07483696</td><td> 0.0103789129</td><td> 0.0303152245</td><td>-0.0047532174</td><td> 0.0015618566</td><td> 0.0078691570</td><td>-0.0020547375</td><td>-0.0022732187</td><td> 0.0029014967</td></tr>\n",
       "\t<tr><td>-0.0546895259</td><td>-0.04953006</td><td>-0.0094810045</td><td>-0.0020230149</td><td> 0.0041548406</td><td>-0.0055853790</td><td>-0.0045592861</td><td> 0.0002465160</td><td> 0.0017011334</td><td>-0.0094681827</td></tr>\n",
       "\t<tr><td> 0.1903785043</td><td> 0.08753546</td><td> 0.0369250235</td><td> 0.0081152741</td><td>-0.0116815996</td><td> 0.0022384721</td><td>-0.0026136541</td><td> 0.0001365573</td><td>-0.0017090037</td><td> 0.0036073681</td></tr>\n",
       "\t<tr><td> 0.1192433938</td><td> 0.06180504</td><td>-0.0071404420</td><td>-0.0206213509</td><td>-0.0011578940</td><td> 0.0027691128</td><td> 0.0026195809</td><td> 0.0005781076</td><td>-0.0080452357</td><td>-0.0019982891</td></tr>\n",
       "\t<tr><td>-0.0581397908</td><td>-0.05655872</td><td> 0.0129907205</td><td> 0.0348898622</td><td> 0.0033283798</td><td> 0.0006154287</td><td>-0.0002020092</td><td> 0.0082565159</td><td> 0.0072978462</td><td> 0.0013739737</td></tr>\n",
       "\t<tr><td> 0.0259202403</td><td> 0.02664541</td><td> 0.0098177944</td><td>-0.0069918361</td><td>-0.0016335868</td><td>-0.0025479940</td><td>-0.0040170655</td><td>-0.0067758708</td><td>-0.0011354124</td><td> 0.0006236584</td></tr>\n",
       "\t<tr><td> 0.0092977211</td><td>-0.01695594</td><td>-0.0053939513</td><td> 0.0016649339</td><td>-0.0075824451</td><td> 0.0047789365</td><td> 0.0020967725</td><td> 0.0026897023</td><td>-0.0010191473</td><td> 0.0010864115</td></tr>\n",
       "\t<tr><td>-0.0009861921</td><td>-0.03310024</td><td>-0.0122737044</td><td> 0.0041600957</td><td> 0.0068723701</td><td> 0.0016448369</td><td> 0.0073806539</td><td> 0.0003193044</td><td>-0.0050777504</td><td>-0.0022708675</td></tr>\n",
       "\t<tr><td> 0.0949943218</td><td> 0.06229827</td><td> 0.0005964437</td><td>-0.0105559294</td><td>-0.0085518406</td><td> 0.0079749821</td><td>-0.0059659734</td><td> 0.0024832967</td><td> 0.0015081559</td><td>-0.0015660615</td></tr>\n",
       "\t<tr><td> 0.0548531046</td><td>-0.01942185</td><td> 0.0048976775</td><td> 0.0136774922</td><td> 0.0008715014</td><td>-0.0018957961</td><td> 0.0036366590</td><td>-0.0086495221</td><td> 0.0030031389</td><td>-0.0012065935</td></tr>\n",
       "\t<tr><td>-0.0185471956</td><td>-0.01200098</td><td> 0.0048090607</td><td>-0.0010003238</td><td>-0.0003688642</td><td>-0.0079196367</td><td>-0.0044575907</td><td> 0.0139205601</td><td> 0.0001343064</td><td> 0.0033650279</td></tr>\n",
       "\t<tr><td> 0.0699154414</td><td>-0.02759740</td><td>-0.0029919116</td><td> 0.0078157720</td><td>-0.0044504411</td><td> 0.0056986216</td><td> 0.0025711300</td><td>-0.0040477933</td><td> 0.0021824394</td><td>-0.0003711775</td></tr>\n",
       "\t<tr><td> 0.2162233907</td><td> 0.07554819</td><td> 0.0131168515</td><td>-0.0040606473</td><td>-0.0002163551</td><td> 0.0048937851</td><td> 0.0091018795</td><td> 0.0034630750</td><td>-0.0008108291</td><td>-0.0056466373</td></tr>\n",
       "\t<tr><td>-0.1245819670</td><td>-0.06500016</td><td>-0.0141383649</td><td> 0.0062077074</td><td> 0.0040471696</td><td> 0.0029056280</td><td> 0.0001354240</td><td>-0.0078269862</td><td>-0.0014067843</td><td> 0.0052728183</td></tr>\n",
       "\t<tr><td> 0.0736419339</td><td> 0.01969546</td><td> 0.0096432686</td><td>-0.0012452795</td><td>-0.0090642652</td><td> 0.0052649963</td><td>-0.0026797153</td><td> 0.0070492510</td><td>-0.0015422654</td><td>-0.0050277908</td></tr>\n",
       "\t<tr><td> 0.0012963314</td><td> 0.01580490</td><td>-0.0445339126</td><td> 0.0005398244</td><td>-0.0112299211</td><td>-0.0101622027</td><td>-0.0029541802</td><td>-0.0048159826</td><td> 0.0017554491</td><td>-0.0007614989</td></tr>\n",
       "\t<tr><td>-0.1182906968</td><td>-0.01160269</td><td> 0.0209621731</td><td> 0.0193052304</td><td>-0.0006423289</td><td>-0.0063096064</td><td> 0.0005931703</td><td> 0.0017307434</td><td> 0.0009360677</td><td> 0.0040170535</td></tr>\n",
       "\t<tr><td>-0.0876310218</td><td> 0.05392718</td><td> 0.0624274664</td><td> 0.0162267394</td><td> 0.0148987460</td><td>-0.0088675804</td><td>-0.0024654688</td><td>-0.0028764313</td><td>-0.0060337682</td><td> 0.0008955053</td></tr>\n",
       "\t<tr><td>-0.0269333260</td><td> 0.06027160</td><td>-0.0546836337</td><td>-0.0425061390</td><td>-0.0178634847</td><td> 0.0043788094</td><td>-0.0004085685</td><td>-0.0020634004</td><td> 0.0014400442</td><td>-0.0002864324</td></tr>\n",
       "\t<tr><td>-0.0694178648</td><td>-0.07645346</td><td>-0.0311988231</td><td>-0.0057670157</td><td> 0.0077799950</td><td> 0.0072160121</td><td> 0.0013111540</td><td> 0.0077042579</td><td> 0.0074068333</td><td>-0.0009316376</td></tr>\n",
       "\t<tr><td> 0.1189693326</td><td> 0.01570169</td><td> 0.0121894831</td><td> 0.0083171097</td><td>-0.0059754582</td><td>-0.0064477223</td><td>-0.0008436277</td><td>-0.0007503095</td><td>-0.0017887860</td><td>-0.0004934115</td></tr>\n",
       "\t<tr><td> 0.0369284678</td><td>-0.01918731</td><td>-0.0095312886</td><td>-0.0067743895</td><td> 0.0033949375</td><td> 0.0015309664</td><td> 0.0068291577</td><td>-0.0043130583</td><td>-0.0072180574</td><td>-0.0004335423</td></tr>\n",
       "\t<tr><td>-0.0419223658</td><td> 0.02109463</td><td>-0.0061781051</td><td>-0.0035653285</td><td> 0.0004198906</td><td> 0.0038553577</td><td> 0.0012329378</td><td> 0.0027564844</td><td> 0.0047321068</td><td>-0.0003165560</td></tr>\n",
       "\t<tr><td> 0.1613413950</td><td> 0.07159281</td><td> 0.0023064966</td><td>-0.0210723006</td><td>-0.0076466413</td><td> 0.0035894509</td><td>-0.0014037586</td><td>-0.0044712355</td><td>-0.0007935697</td><td> 0.0003390854</td></tr>\n",
       "\t<tr><td>-0.0374050950</td><td> 0.04043826</td><td> 0.0079543089</td><td> 0.0042715685</td><td>-0.0036006624</td><td> 0.0044601282</td><td> 0.0013511758</td><td> 0.0065505915</td><td> 0.0017760808</td><td> 0.0018277414</td></tr>\n",
       "\t<tr><td> 0.1338722003</td><td> 0.01685200</td><td> 0.0066175300</td><td> 0.0018269049</td><td>-0.0009029169</td><td>-0.0003576019</td><td>-0.0048189531</td><td>-0.0025357452</td><td> 0.0032934314</td><td>-0.0102797140</td></tr>\n",
       "\t<tr><td>-0.0262649156</td><td>-0.03174785</td><td>-0.0153872076</td><td> 0.0029179106</td><td> 0.0007080344</td><td> 0.0028364108</td><td>-0.0012900251</td><td> 0.0010835662</td><td>-0.0058306571</td><td> 0.0034009691</td></tr>\n",
       "\t<tr><td> 0.0563124920</td><td> 0.02252970</td><td>-0.0008868473</td><td>-0.0125040029</td><td>-0.0027997188</td><td> 0.0069007431</td><td> 0.0089913603</td><td>-0.0012144960</td><td> 0.0008190476</td><td> 0.0050724959</td></tr>\n",
       "\t<tr><td> 0.0480178960</td><td> 0.03552600</td><td>-0.0244269235</td><td>-0.0313727987</td><td> 0.0015112907</td><td> 0.0002573551</td><td>-0.0046032413</td><td>-0.0020897007</td><td> 0.0025279145</td><td> 0.0041183354</td></tr>\n",
       "\t<tr><td>-0.0448316620</td><td> 0.03721335</td><td> 0.0338943070</td><td> 0.0105330314</td><td>-0.0039028280</td><td>-0.0032319751</td><td>-0.0028452010</td><td> 0.0021971667</td><td>-0.0014048583</td><td>-0.0022239965</td></tr>\n",
       "\t<tr><td>⋮</td><td>⋮</td><td>⋮</td><td>⋮</td><td>⋮</td><td>⋮</td><td>⋮</td><td>⋮</td><td>⋮</td><td>⋮</td></tr>\n",
       "\t<tr><td>-0.173012943</td><td> 3.064467e-02</td><td> 0.023767120</td><td> 0.001645988</td><td> 1.135147e-02</td><td>-0.0098035703</td><td>-0.0031242154</td><td>-0.0037583543</td><td> 0.0003045547</td><td> 0.0033009127</td></tr>\n",
       "\t<tr><td> 0.036261145</td><td>-2.259956e-02</td><td>-0.025414357</td><td>-0.005392229</td><td>-1.038338e-02</td><td> 0.0103186203</td><td> 0.0058157156</td><td> 0.0002574661</td><td>-0.0044108993</td><td> 0.0056382869</td></tr>\n",
       "\t<tr><td> 0.016448882</td><td> 3.367628e-02</td><td> 0.007650757</td><td>-0.003679748</td><td>-9.615438e-04</td><td>-0.0087678706</td><td>-0.0033396160</td><td> 0.0075178507</td><td> 0.0061122887</td><td>-0.0063589805</td></tr>\n",
       "\t<tr><td> 0.064158864</td><td>-2.170546e-02</td><td> 0.003683952</td><td> 0.008405421</td><td>-3.679044e-03</td><td> 0.0043818815</td><td>-0.0004690153</td><td>-0.0054479026</td><td> 0.0006531513</td><td> 0.0080764035</td></tr>\n",
       "\t<tr><td> 0.074045258</td><td>-4.557623e-04</td><td> 0.005712724</td><td> 0.012574015</td><td>-3.441650e-03</td><td>-0.0002388911</td><td> 0.0000757728</td><td>-0.0031011868</td><td> 0.0008605235</td><td>-0.0020212144</td></tr>\n",
       "\t<tr><td> 0.132702398</td><td>-6.403363e-02</td><td> 0.001147321</td><td> 0.007086708</td><td> 1.354106e-02</td><td> 0.0122595584</td><td> 0.0057125295</td><td> 0.0030839623</td><td>-0.0050905756</td><td>-0.0060427970</td></tr>\n",
       "\t<tr><td>-0.046257657</td><td> 4.126563e-02</td><td> 0.011716244</td><td> 0.005148026</td><td>-3.435110e-03</td><td>-0.0084917116</td><td>-0.0005723430</td><td> 0.0009157757</td><td> 0.0028664676</td><td> 0.0005590047</td></tr>\n",
       "\t<tr><td> 0.021589663</td><td>-2.785202e-02</td><td>-0.012616132</td><td> 0.001877312</td><td>-6.552110e-03</td><td> 0.0049734890</td><td>-0.0022732193</td><td>-0.0025656676</td><td> 0.0029502970</td><td>-0.0027092374</td></tr>\n",
       "\t<tr><td>-0.227866048</td><td> 5.006651e-02</td><td> 0.018869442</td><td>-0.012031504</td><td> 1.047997e-02</td><td>-0.0079077742</td><td>-0.0067608744</td><td> 0.0048911678</td><td>-0.0026985841</td><td> 0.0045075062</td></tr>\n",
       "\t<tr><td>-0.082689472</td><td> 1.657249e-02</td><td> 0.001753206</td><td>-0.006966698</td><td> 1.246314e-03</td><td>-0.0024191419</td><td> 0.0009590760</td><td>-0.0048474732</td><td>-0.0018718846</td><td> 0.0009316953</td></tr>\n",
       "\t<tr><td>-0.013053174</td><td> 9.159144e-02</td><td>-0.062923806</td><td> 0.022103987</td><td>-5.414336e-02</td><td>-0.0293385469</td><td> 0.0095643207</td><td> 0.0069134737</td><td> 0.0028404743</td><td>-0.0072826421</td></tr>\n",
       "\t<tr><td>-0.003835609</td><td> 3.389609e-03</td><td> 0.082868857</td><td>-0.017244109</td><td> 4.910330e-02</td><td> 0.0139975050</td><td>-0.0103236920</td><td>-0.0058541022</td><td>-0.0054405407</td><td> 0.0056283923</td></tr>\n",
       "\t<tr><td>-0.066515505</td><td> 5.748062e-03</td><td> 0.006394998</td><td>-0.009604937</td><td>-4.735362e-04</td><td>-0.0049896984</td><td>-0.0001506263</td><td>-0.0045424283</td><td> 0.0061841709</td><td> 0.0050472690</td></tr>\n",
       "\t<tr><td> 0.014883232</td><td> 1.491180e-02</td><td>-0.009613371</td><td>-0.004209514</td><td>-2.653487e-03</td><td> 0.0113459413</td><td>-0.0007207567</td><td>-0.0005596160</td><td>-0.0012883371</td><td>-0.0027797006</td></tr>\n",
       "\t<tr><td> 0.217500263</td><td>-6.266818e-02</td><td>-0.061357680</td><td> 0.034411792</td><td>-2.640143e-02</td><td>-0.0022094787</td><td> 0.0124518419</td><td> 0.0039431522</td><td>-0.0051306695</td><td>-0.0043082568</td></tr>\n",
       "\t<tr><td> 0.125227731</td><td>-7.353556e-02</td><td>-0.019484242</td><td>-0.006339914</td><td> 2.749909e-03</td><td> 0.0033435038</td><td>-0.0012270736</td><td> 0.0033966988</td><td> 0.0076679116</td><td> 0.0003546354</td></tr>\n",
       "\t<tr><td>-0.056604594</td><td> 3.420852e-02</td><td> 0.008478597</td><td>-0.003016351</td><td> 2.316374e-03</td><td>-0.0015307949</td><td>-0.0085730064</td><td>-0.0015478664</td><td>-0.0072207652</td><td>-0.0029952047</td></tr>\n",
       "\t<tr><td>-0.021425288</td><td> 1.281132e-02</td><td>-0.015443400</td><td> 0.017042720</td><td>-2.696644e-02</td><td>-0.0081676323</td><td> 0.0086577771</td><td> 0.0067380714</td><td> 0.0025599880</td><td> 0.0052021989</td></tr>\n",
       "\t<tr><td> 0.100572242</td><td>-2.466952e-02</td><td> 0.008170401</td><td>-0.013465177</td><td> 1.629773e-02</td><td> 0.0111314226</td><td> 0.0008547612</td><td>-0.0054470216</td><td> 0.0005019063</td><td>-0.0028974672</td></tr>\n",
       "\t<tr><td>-0.104874472</td><td>-2.103749e-03</td><td> 0.007004270</td><td>-0.003276093</td><td> 1.318013e-02</td><td>-0.0034985077</td><td> 0.0014584851</td><td>-0.0001839061</td><td>-0.0033594352</td><td>-0.0061420430</td></tr>\n",
       "\t<tr><td>-0.092070347</td><td>-2.550927e-03</td><td> 0.007214091</td><td>-0.005298310</td><td> 7.773430e-03</td><td>-0.0005893338</td><td>-0.0008970666</td><td> 0.0071521104</td><td> 0.0003423214</td><td> 0.0048559848</td></tr>\n",
       "\t<tr><td> 0.063867617</td><td> 3.343012e-02</td><td> 0.033614592</td><td> 0.020782019</td><td>-8.221646e-03</td><td>-0.0056623195</td><td>-0.0057437837</td><td>-0.0023258764</td><td>-0.0014358835</td><td> 0.0011840182</td></tr>\n",
       "\t<tr><td> 0.125854084</td><td>-6.733326e-02</td><td>-0.043734916</td><td>-0.016612346</td><td> 2.506899e-03</td><td> 0.0206287916</td><td> 0.0075264441</td><td>-0.0047659147</td><td>-0.0023565682</td><td>-0.0046391987</td></tr>\n",
       "\t<tr><td>-0.043494750</td><td> 1.279395e-02</td><td> 0.008921952</td><td> 0.005443606</td><td> 9.393104e-04</td><td>-0.0033227569</td><td>-0.0040481819</td><td>-0.0022795594</td><td> 0.0009821181</td><td>-0.0009032377</td></tr>\n",
       "\t<tr><td> 0.032035943</td><td>-9.407272e-03</td><td> 0.004614200</td><td> 0.003162883</td><td>-9.417783e-04</td><td> 0.0042863226</td><td> 0.0004459122</td><td> 0.0129231007</td><td> 0.0064566662</td><td> 0.0050747880</td></tr>\n",
       "\t<tr><td> 0.043452000</td><td>-3.283056e-02</td><td>-0.009245184</td><td>-0.008214483</td><td> 5.300080e-03</td><td>-0.0070288508</td><td> 0.0045180392</td><td>-0.0129019375</td><td>-0.0037780838</td><td>-0.0015763382</td></tr>\n",
       "\t<tr><td>-0.008926502</td><td> 1.728941e-02</td><td> 0.006261168</td><td> 0.002023578</td><td>-1.634251e-03</td><td> 0.0027261707</td><td>-0.0079966679</td><td> 0.0003147126</td><td> 0.0011890897</td><td>-0.0015919177</td></tr>\n",
       "\t<tr><td> 0.103798713</td><td>-1.714033e-02</td><td>-0.010933671</td><td>-0.002837937</td><td>-4.868839e-03</td><td> 0.0074448369</td><td> 0.0038446100</td><td> 0.0030978560</td><td>-0.0009508178</td><td> 0.0001551239</td></tr>\n",
       "\t<tr><td>-0.071292161</td><td> 3.601442e-02</td><td> 0.020908716</td><td> 0.005746152</td><td>-4.695432e-05</td><td>-0.0032249758</td><td>-0.0010257325</td><td>-0.0020165406</td><td> 0.0045783151</td><td> 0.0037032975</td></tr>\n",
       "\t<tr><td>-0.013314398</td><td> 9.199744e-05</td><td>-0.009159998</td><td>-0.004011692</td><td> 6.026419e-04</td><td>-0.0025629562</td><td>-0.0063797637</td><td> 0.0044670200</td><td>-0.0057701126</td><td>-0.0046730422</td></tr>\n",
       "</tbody>\n",
       "</table>\n"
      ],
      "text/latex": [
       "A matrix: 4087 × 10 of type dbl\n",
       "\\begin{tabular}{llllllllll}\n",
       "\t  0.0082420226 & -0.07483696 &  0.0103789129 &  0.0303152245 & -0.0047532174 &  0.0015618566 &  0.0078691570 & -0.0020547375 & -0.0022732187 &  0.0029014967\\\\\n",
       "\t -0.0546895259 & -0.04953006 & -0.0094810045 & -0.0020230149 &  0.0041548406 & -0.0055853790 & -0.0045592861 &  0.0002465160 &  0.0017011334 & -0.0094681827\\\\\n",
       "\t  0.1903785043 &  0.08753546 &  0.0369250235 &  0.0081152741 & -0.0116815996 &  0.0022384721 & -0.0026136541 &  0.0001365573 & -0.0017090037 &  0.0036073681\\\\\n",
       "\t  0.1192433938 &  0.06180504 & -0.0071404420 & -0.0206213509 & -0.0011578940 &  0.0027691128 &  0.0026195809 &  0.0005781076 & -0.0080452357 & -0.0019982891\\\\\n",
       "\t -0.0581397908 & -0.05655872 &  0.0129907205 &  0.0348898622 &  0.0033283798 &  0.0006154287 & -0.0002020092 &  0.0082565159 &  0.0072978462 &  0.0013739737\\\\\n",
       "\t  0.0259202403 &  0.02664541 &  0.0098177944 & -0.0069918361 & -0.0016335868 & -0.0025479940 & -0.0040170655 & -0.0067758708 & -0.0011354124 &  0.0006236584\\\\\n",
       "\t  0.0092977211 & -0.01695594 & -0.0053939513 &  0.0016649339 & -0.0075824451 &  0.0047789365 &  0.0020967725 &  0.0026897023 & -0.0010191473 &  0.0010864115\\\\\n",
       "\t -0.0009861921 & -0.03310024 & -0.0122737044 &  0.0041600957 &  0.0068723701 &  0.0016448369 &  0.0073806539 &  0.0003193044 & -0.0050777504 & -0.0022708675\\\\\n",
       "\t  0.0949943218 &  0.06229827 &  0.0005964437 & -0.0105559294 & -0.0085518406 &  0.0079749821 & -0.0059659734 &  0.0024832967 &  0.0015081559 & -0.0015660615\\\\\n",
       "\t  0.0548531046 & -0.01942185 &  0.0048976775 &  0.0136774922 &  0.0008715014 & -0.0018957961 &  0.0036366590 & -0.0086495221 &  0.0030031389 & -0.0012065935\\\\\n",
       "\t -0.0185471956 & -0.01200098 &  0.0048090607 & -0.0010003238 & -0.0003688642 & -0.0079196367 & -0.0044575907 &  0.0139205601 &  0.0001343064 &  0.0033650279\\\\\n",
       "\t  0.0699154414 & -0.02759740 & -0.0029919116 &  0.0078157720 & -0.0044504411 &  0.0056986216 &  0.0025711300 & -0.0040477933 &  0.0021824394 & -0.0003711775\\\\\n",
       "\t  0.2162233907 &  0.07554819 &  0.0131168515 & -0.0040606473 & -0.0002163551 &  0.0048937851 &  0.0091018795 &  0.0034630750 & -0.0008108291 & -0.0056466373\\\\\n",
       "\t -0.1245819670 & -0.06500016 & -0.0141383649 &  0.0062077074 &  0.0040471696 &  0.0029056280 &  0.0001354240 & -0.0078269862 & -0.0014067843 &  0.0052728183\\\\\n",
       "\t  0.0736419339 &  0.01969546 &  0.0096432686 & -0.0012452795 & -0.0090642652 &  0.0052649963 & -0.0026797153 &  0.0070492510 & -0.0015422654 & -0.0050277908\\\\\n",
       "\t  0.0012963314 &  0.01580490 & -0.0445339126 &  0.0005398244 & -0.0112299211 & -0.0101622027 & -0.0029541802 & -0.0048159826 &  0.0017554491 & -0.0007614989\\\\\n",
       "\t -0.1182906968 & -0.01160269 &  0.0209621731 &  0.0193052304 & -0.0006423289 & -0.0063096064 &  0.0005931703 &  0.0017307434 &  0.0009360677 &  0.0040170535\\\\\n",
       "\t -0.0876310218 &  0.05392718 &  0.0624274664 &  0.0162267394 &  0.0148987460 & -0.0088675804 & -0.0024654688 & -0.0028764313 & -0.0060337682 &  0.0008955053\\\\\n",
       "\t -0.0269333260 &  0.06027160 & -0.0546836337 & -0.0425061390 & -0.0178634847 &  0.0043788094 & -0.0004085685 & -0.0020634004 &  0.0014400442 & -0.0002864324\\\\\n",
       "\t -0.0694178648 & -0.07645346 & -0.0311988231 & -0.0057670157 &  0.0077799950 &  0.0072160121 &  0.0013111540 &  0.0077042579 &  0.0074068333 & -0.0009316376\\\\\n",
       "\t  0.1189693326 &  0.01570169 &  0.0121894831 &  0.0083171097 & -0.0059754582 & -0.0064477223 & -0.0008436277 & -0.0007503095 & -0.0017887860 & -0.0004934115\\\\\n",
       "\t  0.0369284678 & -0.01918731 & -0.0095312886 & -0.0067743895 &  0.0033949375 &  0.0015309664 &  0.0068291577 & -0.0043130583 & -0.0072180574 & -0.0004335423\\\\\n",
       "\t -0.0419223658 &  0.02109463 & -0.0061781051 & -0.0035653285 &  0.0004198906 &  0.0038553577 &  0.0012329378 &  0.0027564844 &  0.0047321068 & -0.0003165560\\\\\n",
       "\t  0.1613413950 &  0.07159281 &  0.0023064966 & -0.0210723006 & -0.0076466413 &  0.0035894509 & -0.0014037586 & -0.0044712355 & -0.0007935697 &  0.0003390854\\\\\n",
       "\t -0.0374050950 &  0.04043826 &  0.0079543089 &  0.0042715685 & -0.0036006624 &  0.0044601282 &  0.0013511758 &  0.0065505915 &  0.0017760808 &  0.0018277414\\\\\n",
       "\t  0.1338722003 &  0.01685200 &  0.0066175300 &  0.0018269049 & -0.0009029169 & -0.0003576019 & -0.0048189531 & -0.0025357452 &  0.0032934314 & -0.0102797140\\\\\n",
       "\t -0.0262649156 & -0.03174785 & -0.0153872076 &  0.0029179106 &  0.0007080344 &  0.0028364108 & -0.0012900251 &  0.0010835662 & -0.0058306571 &  0.0034009691\\\\\n",
       "\t  0.0563124920 &  0.02252970 & -0.0008868473 & -0.0125040029 & -0.0027997188 &  0.0069007431 &  0.0089913603 & -0.0012144960 &  0.0008190476 &  0.0050724959\\\\\n",
       "\t  0.0480178960 &  0.03552600 & -0.0244269235 & -0.0313727987 &  0.0015112907 &  0.0002573551 & -0.0046032413 & -0.0020897007 &  0.0025279145 &  0.0041183354\\\\\n",
       "\t -0.0448316620 &  0.03721335 &  0.0338943070 &  0.0105330314 & -0.0039028280 & -0.0032319751 & -0.0028452010 &  0.0021971667 & -0.0014048583 & -0.0022239965\\\\\n",
       "\t ⋮ & ⋮ & ⋮ & ⋮ & ⋮ & ⋮ & ⋮ & ⋮ & ⋮ & ⋮\\\\\n",
       "\t -0.173012943 &  3.064467e-02 &  0.023767120 &  0.001645988 &  1.135147e-02 & -0.0098035703 & -0.0031242154 & -0.0037583543 &  0.0003045547 &  0.0033009127\\\\\n",
       "\t  0.036261145 & -2.259956e-02 & -0.025414357 & -0.005392229 & -1.038338e-02 &  0.0103186203 &  0.0058157156 &  0.0002574661 & -0.0044108993 &  0.0056382869\\\\\n",
       "\t  0.016448882 &  3.367628e-02 &  0.007650757 & -0.003679748 & -9.615438e-04 & -0.0087678706 & -0.0033396160 &  0.0075178507 &  0.0061122887 & -0.0063589805\\\\\n",
       "\t  0.064158864 & -2.170546e-02 &  0.003683952 &  0.008405421 & -3.679044e-03 &  0.0043818815 & -0.0004690153 & -0.0054479026 &  0.0006531513 &  0.0080764035\\\\\n",
       "\t  0.074045258 & -4.557623e-04 &  0.005712724 &  0.012574015 & -3.441650e-03 & -0.0002388911 &  0.0000757728 & -0.0031011868 &  0.0008605235 & -0.0020212144\\\\\n",
       "\t  0.132702398 & -6.403363e-02 &  0.001147321 &  0.007086708 &  1.354106e-02 &  0.0122595584 &  0.0057125295 &  0.0030839623 & -0.0050905756 & -0.0060427970\\\\\n",
       "\t -0.046257657 &  4.126563e-02 &  0.011716244 &  0.005148026 & -3.435110e-03 & -0.0084917116 & -0.0005723430 &  0.0009157757 &  0.0028664676 &  0.0005590047\\\\\n",
       "\t  0.021589663 & -2.785202e-02 & -0.012616132 &  0.001877312 & -6.552110e-03 &  0.0049734890 & -0.0022732193 & -0.0025656676 &  0.0029502970 & -0.0027092374\\\\\n",
       "\t -0.227866048 &  5.006651e-02 &  0.018869442 & -0.012031504 &  1.047997e-02 & -0.0079077742 & -0.0067608744 &  0.0048911678 & -0.0026985841 &  0.0045075062\\\\\n",
       "\t -0.082689472 &  1.657249e-02 &  0.001753206 & -0.006966698 &  1.246314e-03 & -0.0024191419 &  0.0009590760 & -0.0048474732 & -0.0018718846 &  0.0009316953\\\\\n",
       "\t -0.013053174 &  9.159144e-02 & -0.062923806 &  0.022103987 & -5.414336e-02 & -0.0293385469 &  0.0095643207 &  0.0069134737 &  0.0028404743 & -0.0072826421\\\\\n",
       "\t -0.003835609 &  3.389609e-03 &  0.082868857 & -0.017244109 &  4.910330e-02 &  0.0139975050 & -0.0103236920 & -0.0058541022 & -0.0054405407 &  0.0056283923\\\\\n",
       "\t -0.066515505 &  5.748062e-03 &  0.006394998 & -0.009604937 & -4.735362e-04 & -0.0049896984 & -0.0001506263 & -0.0045424283 &  0.0061841709 &  0.0050472690\\\\\n",
       "\t  0.014883232 &  1.491180e-02 & -0.009613371 & -0.004209514 & -2.653487e-03 &  0.0113459413 & -0.0007207567 & -0.0005596160 & -0.0012883371 & -0.0027797006\\\\\n",
       "\t  0.217500263 & -6.266818e-02 & -0.061357680 &  0.034411792 & -2.640143e-02 & -0.0022094787 &  0.0124518419 &  0.0039431522 & -0.0051306695 & -0.0043082568\\\\\n",
       "\t  0.125227731 & -7.353556e-02 & -0.019484242 & -0.006339914 &  2.749909e-03 &  0.0033435038 & -0.0012270736 &  0.0033966988 &  0.0076679116 &  0.0003546354\\\\\n",
       "\t -0.056604594 &  3.420852e-02 &  0.008478597 & -0.003016351 &  2.316374e-03 & -0.0015307949 & -0.0085730064 & -0.0015478664 & -0.0072207652 & -0.0029952047\\\\\n",
       "\t -0.021425288 &  1.281132e-02 & -0.015443400 &  0.017042720 & -2.696644e-02 & -0.0081676323 &  0.0086577771 &  0.0067380714 &  0.0025599880 &  0.0052021989\\\\\n",
       "\t  0.100572242 & -2.466952e-02 &  0.008170401 & -0.013465177 &  1.629773e-02 &  0.0111314226 &  0.0008547612 & -0.0054470216 &  0.0005019063 & -0.0028974672\\\\\n",
       "\t -0.104874472 & -2.103749e-03 &  0.007004270 & -0.003276093 &  1.318013e-02 & -0.0034985077 &  0.0014584851 & -0.0001839061 & -0.0033594352 & -0.0061420430\\\\\n",
       "\t -0.092070347 & -2.550927e-03 &  0.007214091 & -0.005298310 &  7.773430e-03 & -0.0005893338 & -0.0008970666 &  0.0071521104 &  0.0003423214 &  0.0048559848\\\\\n",
       "\t  0.063867617 &  3.343012e-02 &  0.033614592 &  0.020782019 & -8.221646e-03 & -0.0056623195 & -0.0057437837 & -0.0023258764 & -0.0014358835 &  0.0011840182\\\\\n",
       "\t  0.125854084 & -6.733326e-02 & -0.043734916 & -0.016612346 &  2.506899e-03 &  0.0206287916 &  0.0075264441 & -0.0047659147 & -0.0023565682 & -0.0046391987\\\\\n",
       "\t -0.043494750 &  1.279395e-02 &  0.008921952 &  0.005443606 &  9.393104e-04 & -0.0033227569 & -0.0040481819 & -0.0022795594 &  0.0009821181 & -0.0009032377\\\\\n",
       "\t  0.032035943 & -9.407272e-03 &  0.004614200 &  0.003162883 & -9.417783e-04 &  0.0042863226 &  0.0004459122 &  0.0129231007 &  0.0064566662 &  0.0050747880\\\\\n",
       "\t  0.043452000 & -3.283056e-02 & -0.009245184 & -0.008214483 &  5.300080e-03 & -0.0070288508 &  0.0045180392 & -0.0129019375 & -0.0037780838 & -0.0015763382\\\\\n",
       "\t -0.008926502 &  1.728941e-02 &  0.006261168 &  0.002023578 & -1.634251e-03 &  0.0027261707 & -0.0079966679 &  0.0003147126 &  0.0011890897 & -0.0015919177\\\\\n",
       "\t  0.103798713 & -1.714033e-02 & -0.010933671 & -0.002837937 & -4.868839e-03 &  0.0074448369 &  0.0038446100 &  0.0030978560 & -0.0009508178 &  0.0001551239\\\\\n",
       "\t -0.071292161 &  3.601442e-02 &  0.020908716 &  0.005746152 & -4.695432e-05 & -0.0032249758 & -0.0010257325 & -0.0020165406 &  0.0045783151 &  0.0037032975\\\\\n",
       "\t -0.013314398 &  9.199744e-05 & -0.009159998 & -0.004011692 &  6.026419e-04 & -0.0025629562 & -0.0063797637 &  0.0044670200 & -0.0057701126 & -0.0046730422\\\\\n",
       "\\end{tabular}\n"
      ],
      "text/markdown": [
       "\n",
       "A matrix: 4087 × 10 of type dbl\n",
       "\n",
       "|  0.0082420226 | -0.07483696 |  0.0103789129 |  0.0303152245 | -0.0047532174 |  0.0015618566 |  0.0078691570 | -0.0020547375 | -0.0022732187 |  0.0029014967 |\n",
       "| -0.0546895259 | -0.04953006 | -0.0094810045 | -0.0020230149 |  0.0041548406 | -0.0055853790 | -0.0045592861 |  0.0002465160 |  0.0017011334 | -0.0094681827 |\n",
       "|  0.1903785043 |  0.08753546 |  0.0369250235 |  0.0081152741 | -0.0116815996 |  0.0022384721 | -0.0026136541 |  0.0001365573 | -0.0017090037 |  0.0036073681 |\n",
       "|  0.1192433938 |  0.06180504 | -0.0071404420 | -0.0206213509 | -0.0011578940 |  0.0027691128 |  0.0026195809 |  0.0005781076 | -0.0080452357 | -0.0019982891 |\n",
       "| -0.0581397908 | -0.05655872 |  0.0129907205 |  0.0348898622 |  0.0033283798 |  0.0006154287 | -0.0002020092 |  0.0082565159 |  0.0072978462 |  0.0013739737 |\n",
       "|  0.0259202403 |  0.02664541 |  0.0098177944 | -0.0069918361 | -0.0016335868 | -0.0025479940 | -0.0040170655 | -0.0067758708 | -0.0011354124 |  0.0006236584 |\n",
       "|  0.0092977211 | -0.01695594 | -0.0053939513 |  0.0016649339 | -0.0075824451 |  0.0047789365 |  0.0020967725 |  0.0026897023 | -0.0010191473 |  0.0010864115 |\n",
       "| -0.0009861921 | -0.03310024 | -0.0122737044 |  0.0041600957 |  0.0068723701 |  0.0016448369 |  0.0073806539 |  0.0003193044 | -0.0050777504 | -0.0022708675 |\n",
       "|  0.0949943218 |  0.06229827 |  0.0005964437 | -0.0105559294 | -0.0085518406 |  0.0079749821 | -0.0059659734 |  0.0024832967 |  0.0015081559 | -0.0015660615 |\n",
       "|  0.0548531046 | -0.01942185 |  0.0048976775 |  0.0136774922 |  0.0008715014 | -0.0018957961 |  0.0036366590 | -0.0086495221 |  0.0030031389 | -0.0012065935 |\n",
       "| -0.0185471956 | -0.01200098 |  0.0048090607 | -0.0010003238 | -0.0003688642 | -0.0079196367 | -0.0044575907 |  0.0139205601 |  0.0001343064 |  0.0033650279 |\n",
       "|  0.0699154414 | -0.02759740 | -0.0029919116 |  0.0078157720 | -0.0044504411 |  0.0056986216 |  0.0025711300 | -0.0040477933 |  0.0021824394 | -0.0003711775 |\n",
       "|  0.2162233907 |  0.07554819 |  0.0131168515 | -0.0040606473 | -0.0002163551 |  0.0048937851 |  0.0091018795 |  0.0034630750 | -0.0008108291 | -0.0056466373 |\n",
       "| -0.1245819670 | -0.06500016 | -0.0141383649 |  0.0062077074 |  0.0040471696 |  0.0029056280 |  0.0001354240 | -0.0078269862 | -0.0014067843 |  0.0052728183 |\n",
       "|  0.0736419339 |  0.01969546 |  0.0096432686 | -0.0012452795 | -0.0090642652 |  0.0052649963 | -0.0026797153 |  0.0070492510 | -0.0015422654 | -0.0050277908 |\n",
       "|  0.0012963314 |  0.01580490 | -0.0445339126 |  0.0005398244 | -0.0112299211 | -0.0101622027 | -0.0029541802 | -0.0048159826 |  0.0017554491 | -0.0007614989 |\n",
       "| -0.1182906968 | -0.01160269 |  0.0209621731 |  0.0193052304 | -0.0006423289 | -0.0063096064 |  0.0005931703 |  0.0017307434 |  0.0009360677 |  0.0040170535 |\n",
       "| -0.0876310218 |  0.05392718 |  0.0624274664 |  0.0162267394 |  0.0148987460 | -0.0088675804 | -0.0024654688 | -0.0028764313 | -0.0060337682 |  0.0008955053 |\n",
       "| -0.0269333260 |  0.06027160 | -0.0546836337 | -0.0425061390 | -0.0178634847 |  0.0043788094 | -0.0004085685 | -0.0020634004 |  0.0014400442 | -0.0002864324 |\n",
       "| -0.0694178648 | -0.07645346 | -0.0311988231 | -0.0057670157 |  0.0077799950 |  0.0072160121 |  0.0013111540 |  0.0077042579 |  0.0074068333 | -0.0009316376 |\n",
       "|  0.1189693326 |  0.01570169 |  0.0121894831 |  0.0083171097 | -0.0059754582 | -0.0064477223 | -0.0008436277 | -0.0007503095 | -0.0017887860 | -0.0004934115 |\n",
       "|  0.0369284678 | -0.01918731 | -0.0095312886 | -0.0067743895 |  0.0033949375 |  0.0015309664 |  0.0068291577 | -0.0043130583 | -0.0072180574 | -0.0004335423 |\n",
       "| -0.0419223658 |  0.02109463 | -0.0061781051 | -0.0035653285 |  0.0004198906 |  0.0038553577 |  0.0012329378 |  0.0027564844 |  0.0047321068 | -0.0003165560 |\n",
       "|  0.1613413950 |  0.07159281 |  0.0023064966 | -0.0210723006 | -0.0076466413 |  0.0035894509 | -0.0014037586 | -0.0044712355 | -0.0007935697 |  0.0003390854 |\n",
       "| -0.0374050950 |  0.04043826 |  0.0079543089 |  0.0042715685 | -0.0036006624 |  0.0044601282 |  0.0013511758 |  0.0065505915 |  0.0017760808 |  0.0018277414 |\n",
       "|  0.1338722003 |  0.01685200 |  0.0066175300 |  0.0018269049 | -0.0009029169 | -0.0003576019 | -0.0048189531 | -0.0025357452 |  0.0032934314 | -0.0102797140 |\n",
       "| -0.0262649156 | -0.03174785 | -0.0153872076 |  0.0029179106 |  0.0007080344 |  0.0028364108 | -0.0012900251 |  0.0010835662 | -0.0058306571 |  0.0034009691 |\n",
       "|  0.0563124920 |  0.02252970 | -0.0008868473 | -0.0125040029 | -0.0027997188 |  0.0069007431 |  0.0089913603 | -0.0012144960 |  0.0008190476 |  0.0050724959 |\n",
       "|  0.0480178960 |  0.03552600 | -0.0244269235 | -0.0313727987 |  0.0015112907 |  0.0002573551 | -0.0046032413 | -0.0020897007 |  0.0025279145 |  0.0041183354 |\n",
       "| -0.0448316620 |  0.03721335 |  0.0338943070 |  0.0105330314 | -0.0039028280 | -0.0032319751 | -0.0028452010 |  0.0021971667 | -0.0014048583 | -0.0022239965 |\n",
       "| ⋮ | ⋮ | ⋮ | ⋮ | ⋮ | ⋮ | ⋮ | ⋮ | ⋮ | ⋮ |\n",
       "| -0.173012943 |  3.064467e-02 |  0.023767120 |  0.001645988 |  1.135147e-02 | -0.0098035703 | -0.0031242154 | -0.0037583543 |  0.0003045547 |  0.0033009127 |\n",
       "|  0.036261145 | -2.259956e-02 | -0.025414357 | -0.005392229 | -1.038338e-02 |  0.0103186203 |  0.0058157156 |  0.0002574661 | -0.0044108993 |  0.0056382869 |\n",
       "|  0.016448882 |  3.367628e-02 |  0.007650757 | -0.003679748 | -9.615438e-04 | -0.0087678706 | -0.0033396160 |  0.0075178507 |  0.0061122887 | -0.0063589805 |\n",
       "|  0.064158864 | -2.170546e-02 |  0.003683952 |  0.008405421 | -3.679044e-03 |  0.0043818815 | -0.0004690153 | -0.0054479026 |  0.0006531513 |  0.0080764035 |\n",
       "|  0.074045258 | -4.557623e-04 |  0.005712724 |  0.012574015 | -3.441650e-03 | -0.0002388911 |  0.0000757728 | -0.0031011868 |  0.0008605235 | -0.0020212144 |\n",
       "|  0.132702398 | -6.403363e-02 |  0.001147321 |  0.007086708 |  1.354106e-02 |  0.0122595584 |  0.0057125295 |  0.0030839623 | -0.0050905756 | -0.0060427970 |\n",
       "| -0.046257657 |  4.126563e-02 |  0.011716244 |  0.005148026 | -3.435110e-03 | -0.0084917116 | -0.0005723430 |  0.0009157757 |  0.0028664676 |  0.0005590047 |\n",
       "|  0.021589663 | -2.785202e-02 | -0.012616132 |  0.001877312 | -6.552110e-03 |  0.0049734890 | -0.0022732193 | -0.0025656676 |  0.0029502970 | -0.0027092374 |\n",
       "| -0.227866048 |  5.006651e-02 |  0.018869442 | -0.012031504 |  1.047997e-02 | -0.0079077742 | -0.0067608744 |  0.0048911678 | -0.0026985841 |  0.0045075062 |\n",
       "| -0.082689472 |  1.657249e-02 |  0.001753206 | -0.006966698 |  1.246314e-03 | -0.0024191419 |  0.0009590760 | -0.0048474732 | -0.0018718846 |  0.0009316953 |\n",
       "| -0.013053174 |  9.159144e-02 | -0.062923806 |  0.022103987 | -5.414336e-02 | -0.0293385469 |  0.0095643207 |  0.0069134737 |  0.0028404743 | -0.0072826421 |\n",
       "| -0.003835609 |  3.389609e-03 |  0.082868857 | -0.017244109 |  4.910330e-02 |  0.0139975050 | -0.0103236920 | -0.0058541022 | -0.0054405407 |  0.0056283923 |\n",
       "| -0.066515505 |  5.748062e-03 |  0.006394998 | -0.009604937 | -4.735362e-04 | -0.0049896984 | -0.0001506263 | -0.0045424283 |  0.0061841709 |  0.0050472690 |\n",
       "|  0.014883232 |  1.491180e-02 | -0.009613371 | -0.004209514 | -2.653487e-03 |  0.0113459413 | -0.0007207567 | -0.0005596160 | -0.0012883371 | -0.0027797006 |\n",
       "|  0.217500263 | -6.266818e-02 | -0.061357680 |  0.034411792 | -2.640143e-02 | -0.0022094787 |  0.0124518419 |  0.0039431522 | -0.0051306695 | -0.0043082568 |\n",
       "|  0.125227731 | -7.353556e-02 | -0.019484242 | -0.006339914 |  2.749909e-03 |  0.0033435038 | -0.0012270736 |  0.0033966988 |  0.0076679116 |  0.0003546354 |\n",
       "| -0.056604594 |  3.420852e-02 |  0.008478597 | -0.003016351 |  2.316374e-03 | -0.0015307949 | -0.0085730064 | -0.0015478664 | -0.0072207652 | -0.0029952047 |\n",
       "| -0.021425288 |  1.281132e-02 | -0.015443400 |  0.017042720 | -2.696644e-02 | -0.0081676323 |  0.0086577771 |  0.0067380714 |  0.0025599880 |  0.0052021989 |\n",
       "|  0.100572242 | -2.466952e-02 |  0.008170401 | -0.013465177 |  1.629773e-02 |  0.0111314226 |  0.0008547612 | -0.0054470216 |  0.0005019063 | -0.0028974672 |\n",
       "| -0.104874472 | -2.103749e-03 |  0.007004270 | -0.003276093 |  1.318013e-02 | -0.0034985077 |  0.0014584851 | -0.0001839061 | -0.0033594352 | -0.0061420430 |\n",
       "| -0.092070347 | -2.550927e-03 |  0.007214091 | -0.005298310 |  7.773430e-03 | -0.0005893338 | -0.0008970666 |  0.0071521104 |  0.0003423214 |  0.0048559848 |\n",
       "|  0.063867617 |  3.343012e-02 |  0.033614592 |  0.020782019 | -8.221646e-03 | -0.0056623195 | -0.0057437837 | -0.0023258764 | -0.0014358835 |  0.0011840182 |\n",
       "|  0.125854084 | -6.733326e-02 | -0.043734916 | -0.016612346 |  2.506899e-03 |  0.0206287916 |  0.0075264441 | -0.0047659147 | -0.0023565682 | -0.0046391987 |\n",
       "| -0.043494750 |  1.279395e-02 |  0.008921952 |  0.005443606 |  9.393104e-04 | -0.0033227569 | -0.0040481819 | -0.0022795594 |  0.0009821181 | -0.0009032377 |\n",
       "|  0.032035943 | -9.407272e-03 |  0.004614200 |  0.003162883 | -9.417783e-04 |  0.0042863226 |  0.0004459122 |  0.0129231007 |  0.0064566662 |  0.0050747880 |\n",
       "|  0.043452000 | -3.283056e-02 | -0.009245184 | -0.008214483 |  5.300080e-03 | -0.0070288508 |  0.0045180392 | -0.0129019375 | -0.0037780838 | -0.0015763382 |\n",
       "| -0.008926502 |  1.728941e-02 |  0.006261168 |  0.002023578 | -1.634251e-03 |  0.0027261707 | -0.0079966679 |  0.0003147126 |  0.0011890897 | -0.0015919177 |\n",
       "|  0.103798713 | -1.714033e-02 | -0.010933671 | -0.002837937 | -4.868839e-03 |  0.0074448369 |  0.0038446100 |  0.0030978560 | -0.0009508178 |  0.0001551239 |\n",
       "| -0.071292161 |  3.601442e-02 |  0.020908716 |  0.005746152 | -4.695432e-05 | -0.0032249758 | -0.0010257325 | -0.0020165406 |  0.0045783151 |  0.0037032975 |\n",
       "| -0.013314398 |  9.199744e-05 | -0.009159998 | -0.004011692 |  6.026419e-04 | -0.0025629562 | -0.0063797637 |  0.0044670200 | -0.0057701126 | -0.0046730422 |\n",
       "\n"
      ],
      "text/plain": [
       "      [,1]          [,2]          [,3]          [,4]          [,5]         \n",
       " [1,]  0.0082420226 -0.07483696    0.0103789129  0.0303152245 -0.0047532174\n",
       " [2,] -0.0546895259 -0.04953006   -0.0094810045 -0.0020230149  0.0041548406\n",
       " [3,]  0.1903785043  0.08753546    0.0369250235  0.0081152741 -0.0116815996\n",
       " [4,]  0.1192433938  0.06180504   -0.0071404420 -0.0206213509 -0.0011578940\n",
       " [5,] -0.0581397908 -0.05655872    0.0129907205  0.0348898622  0.0033283798\n",
       " [6,]  0.0259202403  0.02664541    0.0098177944 -0.0069918361 -0.0016335868\n",
       " [7,]  0.0092977211 -0.01695594   -0.0053939513  0.0016649339 -0.0075824451\n",
       " [8,] -0.0009861921 -0.03310024   -0.0122737044  0.0041600957  0.0068723701\n",
       " [9,]  0.0949943218  0.06229827    0.0005964437 -0.0105559294 -0.0085518406\n",
       "[10,]  0.0548531046 -0.01942185    0.0048976775  0.0136774922  0.0008715014\n",
       "[11,] -0.0185471956 -0.01200098    0.0048090607 -0.0010003238 -0.0003688642\n",
       "[12,]  0.0699154414 -0.02759740   -0.0029919116  0.0078157720 -0.0044504411\n",
       "[13,]  0.2162233907  0.07554819    0.0131168515 -0.0040606473 -0.0002163551\n",
       "[14,] -0.1245819670 -0.06500016   -0.0141383649  0.0062077074  0.0040471696\n",
       "[15,]  0.0736419339  0.01969546    0.0096432686 -0.0012452795 -0.0090642652\n",
       "[16,]  0.0012963314  0.01580490   -0.0445339126  0.0005398244 -0.0112299211\n",
       "[17,] -0.1182906968 -0.01160269    0.0209621731  0.0193052304 -0.0006423289\n",
       "[18,] -0.0876310218  0.05392718    0.0624274664  0.0162267394  0.0148987460\n",
       "[19,] -0.0269333260  0.06027160   -0.0546836337 -0.0425061390 -0.0178634847\n",
       "[20,] -0.0694178648 -0.07645346   -0.0311988231 -0.0057670157  0.0077799950\n",
       "[21,]  0.1189693326  0.01570169    0.0121894831  0.0083171097 -0.0059754582\n",
       "[22,]  0.0369284678 -0.01918731   -0.0095312886 -0.0067743895  0.0033949375\n",
       "[23,] -0.0419223658  0.02109463   -0.0061781051 -0.0035653285  0.0004198906\n",
       "[24,]  0.1613413950  0.07159281    0.0023064966 -0.0210723006 -0.0076466413\n",
       "[25,] -0.0374050950  0.04043826    0.0079543089  0.0042715685 -0.0036006624\n",
       "[26,]  0.1338722003  0.01685200    0.0066175300  0.0018269049 -0.0009029169\n",
       "[27,] -0.0262649156 -0.03174785   -0.0153872076  0.0029179106  0.0007080344\n",
       "[28,]  0.0563124920  0.02252970   -0.0008868473 -0.0125040029 -0.0027997188\n",
       "[29,]  0.0480178960  0.03552600   -0.0244269235 -0.0313727987  0.0015112907\n",
       "[30,] -0.0448316620  0.03721335    0.0338943070  0.0105330314 -0.0039028280\n",
       "[31,] ⋮             ⋮             ⋮             ⋮             ⋮            \n",
       "[32,] -0.173012943   3.064467e-02  0.023767120   0.001645988   1.135147e-02\n",
       "[33,]  0.036261145  -2.259956e-02 -0.025414357  -0.005392229  -1.038338e-02\n",
       "[34,]  0.016448882   3.367628e-02  0.007650757  -0.003679748  -9.615438e-04\n",
       "[35,]  0.064158864  -2.170546e-02  0.003683952   0.008405421  -3.679044e-03\n",
       "[36,]  0.074045258  -4.557623e-04  0.005712724   0.012574015  -3.441650e-03\n",
       "[37,]  0.132702398  -6.403363e-02  0.001147321   0.007086708   1.354106e-02\n",
       "[38,] -0.046257657   4.126563e-02  0.011716244   0.005148026  -3.435110e-03\n",
       "[39,]  0.021589663  -2.785202e-02 -0.012616132   0.001877312  -6.552110e-03\n",
       "[40,] -0.227866048   5.006651e-02  0.018869442  -0.012031504   1.047997e-02\n",
       "[41,] -0.082689472   1.657249e-02  0.001753206  -0.006966698   1.246314e-03\n",
       "[42,] -0.013053174   9.159144e-02 -0.062923806   0.022103987  -5.414336e-02\n",
       "[43,] -0.003835609   3.389609e-03  0.082868857  -0.017244109   4.910330e-02\n",
       "[44,] -0.066515505   5.748062e-03  0.006394998  -0.009604937  -4.735362e-04\n",
       "[45,]  0.014883232   1.491180e-02 -0.009613371  -0.004209514  -2.653487e-03\n",
       "[46,]  0.217500263  -6.266818e-02 -0.061357680   0.034411792  -2.640143e-02\n",
       "[47,]  0.125227731  -7.353556e-02 -0.019484242  -0.006339914   2.749909e-03\n",
       "[48,] -0.056604594   3.420852e-02  0.008478597  -0.003016351   2.316374e-03\n",
       "[49,] -0.021425288   1.281132e-02 -0.015443400   0.017042720  -2.696644e-02\n",
       "[50,]  0.100572242  -2.466952e-02  0.008170401  -0.013465177   1.629773e-02\n",
       "[51,] -0.104874472  -2.103749e-03  0.007004270  -0.003276093   1.318013e-02\n",
       "[52,] -0.092070347  -2.550927e-03  0.007214091  -0.005298310   7.773430e-03\n",
       "[53,]  0.063867617   3.343012e-02  0.033614592   0.020782019  -8.221646e-03\n",
       "[54,]  0.125854084  -6.733326e-02 -0.043734916  -0.016612346   2.506899e-03\n",
       "[55,] -0.043494750   1.279395e-02  0.008921952   0.005443606   9.393104e-04\n",
       "[56,]  0.032035943  -9.407272e-03  0.004614200   0.003162883  -9.417783e-04\n",
       "[57,]  0.043452000  -3.283056e-02 -0.009245184  -0.008214483   5.300080e-03\n",
       "[58,] -0.008926502   1.728941e-02  0.006261168   0.002023578  -1.634251e-03\n",
       "[59,]  0.103798713  -1.714033e-02 -0.010933671  -0.002837937  -4.868839e-03\n",
       "[60,] -0.071292161   3.601442e-02  0.020908716   0.005746152  -4.695432e-05\n",
       "[61,] -0.013314398   9.199744e-05 -0.009159998  -0.004011692   6.026419e-04\n",
       "      [,6]          [,7]          [,8]          [,9]          [,10]        \n",
       " [1,]  0.0015618566  0.0078691570 -0.0020547375 -0.0022732187  0.0029014967\n",
       " [2,] -0.0055853790 -0.0045592861  0.0002465160  0.0017011334 -0.0094681827\n",
       " [3,]  0.0022384721 -0.0026136541  0.0001365573 -0.0017090037  0.0036073681\n",
       " [4,]  0.0027691128  0.0026195809  0.0005781076 -0.0080452357 -0.0019982891\n",
       " [5,]  0.0006154287 -0.0002020092  0.0082565159  0.0072978462  0.0013739737\n",
       " [6,] -0.0025479940 -0.0040170655 -0.0067758708 -0.0011354124  0.0006236584\n",
       " [7,]  0.0047789365  0.0020967725  0.0026897023 -0.0010191473  0.0010864115\n",
       " [8,]  0.0016448369  0.0073806539  0.0003193044 -0.0050777504 -0.0022708675\n",
       " [9,]  0.0079749821 -0.0059659734  0.0024832967  0.0015081559 -0.0015660615\n",
       "[10,] -0.0018957961  0.0036366590 -0.0086495221  0.0030031389 -0.0012065935\n",
       "[11,] -0.0079196367 -0.0044575907  0.0139205601  0.0001343064  0.0033650279\n",
       "[12,]  0.0056986216  0.0025711300 -0.0040477933  0.0021824394 -0.0003711775\n",
       "[13,]  0.0048937851  0.0091018795  0.0034630750 -0.0008108291 -0.0056466373\n",
       "[14,]  0.0029056280  0.0001354240 -0.0078269862 -0.0014067843  0.0052728183\n",
       "[15,]  0.0052649963 -0.0026797153  0.0070492510 -0.0015422654 -0.0050277908\n",
       "[16,] -0.0101622027 -0.0029541802 -0.0048159826  0.0017554491 -0.0007614989\n",
       "[17,] -0.0063096064  0.0005931703  0.0017307434  0.0009360677  0.0040170535\n",
       "[18,] -0.0088675804 -0.0024654688 -0.0028764313 -0.0060337682  0.0008955053\n",
       "[19,]  0.0043788094 -0.0004085685 -0.0020634004  0.0014400442 -0.0002864324\n",
       "[20,]  0.0072160121  0.0013111540  0.0077042579  0.0074068333 -0.0009316376\n",
       "[21,] -0.0064477223 -0.0008436277 -0.0007503095 -0.0017887860 -0.0004934115\n",
       "[22,]  0.0015309664  0.0068291577 -0.0043130583 -0.0072180574 -0.0004335423\n",
       "[23,]  0.0038553577  0.0012329378  0.0027564844  0.0047321068 -0.0003165560\n",
       "[24,]  0.0035894509 -0.0014037586 -0.0044712355 -0.0007935697  0.0003390854\n",
       "[25,]  0.0044601282  0.0013511758  0.0065505915  0.0017760808  0.0018277414\n",
       "[26,] -0.0003576019 -0.0048189531 -0.0025357452  0.0032934314 -0.0102797140\n",
       "[27,]  0.0028364108 -0.0012900251  0.0010835662 -0.0058306571  0.0034009691\n",
       "[28,]  0.0069007431  0.0089913603 -0.0012144960  0.0008190476  0.0050724959\n",
       "[29,]  0.0002573551 -0.0046032413 -0.0020897007  0.0025279145  0.0041183354\n",
       "[30,] -0.0032319751 -0.0028452010  0.0021971667 -0.0014048583 -0.0022239965\n",
       "[31,] ⋮             ⋮             ⋮             ⋮             ⋮            \n",
       "[32,] -0.0098035703 -0.0031242154 -0.0037583543  0.0003045547  0.0033009127\n",
       "[33,]  0.0103186203  0.0058157156  0.0002574661 -0.0044108993  0.0056382869\n",
       "[34,] -0.0087678706 -0.0033396160  0.0075178507  0.0061122887 -0.0063589805\n",
       "[35,]  0.0043818815 -0.0004690153 -0.0054479026  0.0006531513  0.0080764035\n",
       "[36,] -0.0002388911  0.0000757728 -0.0031011868  0.0008605235 -0.0020212144\n",
       "[37,]  0.0122595584  0.0057125295  0.0030839623 -0.0050905756 -0.0060427970\n",
       "[38,] -0.0084917116 -0.0005723430  0.0009157757  0.0028664676  0.0005590047\n",
       "[39,]  0.0049734890 -0.0022732193 -0.0025656676  0.0029502970 -0.0027092374\n",
       "[40,] -0.0079077742 -0.0067608744  0.0048911678 -0.0026985841  0.0045075062\n",
       "[41,] -0.0024191419  0.0009590760 -0.0048474732 -0.0018718846  0.0009316953\n",
       "[42,] -0.0293385469  0.0095643207  0.0069134737  0.0028404743 -0.0072826421\n",
       "[43,]  0.0139975050 -0.0103236920 -0.0058541022 -0.0054405407  0.0056283923\n",
       "[44,] -0.0049896984 -0.0001506263 -0.0045424283  0.0061841709  0.0050472690\n",
       "[45,]  0.0113459413 -0.0007207567 -0.0005596160 -0.0012883371 -0.0027797006\n",
       "[46,] -0.0022094787  0.0124518419  0.0039431522 -0.0051306695 -0.0043082568\n",
       "[47,]  0.0033435038 -0.0012270736  0.0033966988  0.0076679116  0.0003546354\n",
       "[48,] -0.0015307949 -0.0085730064 -0.0015478664 -0.0072207652 -0.0029952047\n",
       "[49,] -0.0081676323  0.0086577771  0.0067380714  0.0025599880  0.0052021989\n",
       "[50,]  0.0111314226  0.0008547612 -0.0054470216  0.0005019063 -0.0028974672\n",
       "[51,] -0.0034985077  0.0014584851 -0.0001839061 -0.0033594352 -0.0061420430\n",
       "[52,] -0.0005893338 -0.0008970666  0.0071521104  0.0003423214  0.0048559848\n",
       "[53,] -0.0056623195 -0.0057437837 -0.0023258764 -0.0014358835  0.0011840182\n",
       "[54,]  0.0206287916  0.0075264441 -0.0047659147 -0.0023565682 -0.0046391987\n",
       "[55,] -0.0033227569 -0.0040481819 -0.0022795594  0.0009821181 -0.0009032377\n",
       "[56,]  0.0042863226  0.0004459122  0.0129231007  0.0064566662  0.0050747880\n",
       "[57,] -0.0070288508  0.0045180392 -0.0129019375 -0.0037780838 -0.0015763382\n",
       "[58,]  0.0027261707 -0.0079966679  0.0003147126  0.0011890897 -0.0015919177\n",
       "[59,]  0.0074448369  0.0038446100  0.0030978560 -0.0009508178  0.0001551239\n",
       "[60,] -0.0032249758 -0.0010257325 -0.0020165406  0.0045783151  0.0037032975\n",
       "[61,] -0.0025629562 -0.0063797637  0.0044670200 -0.0057701126 -0.0046730422"
      ]
     },
     "execution_count": 40,
     "metadata": {
     },
     "output_type": "execute_result"
    }
   ],
   "source": [
    "# Calculate the Principal Components\n",
    "factors <- X %*% pcaR$vectors\n",
    "factors\n",
    "\n",
    "# Principal Components from 1 to 5\n",
    "pc1 <- factors[ ,1] \n",
    "pc2 <- factors[ ,2] \n",
    "pc3 <- factors[ ,3] \n",
    "pc4 <- factors[ ,4] \n",
    "pc5 <- factors[ ,5] \n"
   ]
  },
  {
   "cell_type": "markdown",
   "metadata": {
    "collapsed": false
   },
   "source": [
    "## Shift, Slope and Curvature"
   ]
  },
  {
   "cell_type": "markdown",
   "metadata": {
    "collapsed": false
   },
   "source": [
    "With the term **shift** it is here meant the shift of the entire yield curve. If the front end (the front end part of the curve means the short term maturities) shifts lower and lower, the 10y maturity and the rest of the curve will shift accordingly. Being the 10year maturity here in the ‘middle’ of the curve, this will be the maturity chosen to represent the shift of the yield curve. \n",
    "\n",
    "With the term **slope** it is here meant a spread. A spread is the difference between two financial assets, here bonds and their yields. The spread considered for the slope is the common 2s10s spread. This is calculated by the 10year yield minus the 2 year yield. \n",
    "\n",
    "With the term **curvature** it will here be meant the ‘butterfly’ spread. A butterfly spread in financial terms is the spread within a butterfly trade. A butterfly trade consists picking two points on the curve and selling (buying) them while simultaneously picking a point between these two and buying (selling) it. The former trade is performed if one is betting that the curve in the chosen part of the curve is going to flatten and/or its curvature is going to look more convex. The latter is performed if one is betting that the chosen part of the curve is going to steepen and/or its curvature is going to look more concave. The butterfly trade can be expressed in any part of the curve – but the butterfly spread chosen here is to express the curvature of the entire curve, hence the picked butterfly spread here is the 7s15s30s spread. This is calculated by multiplying the 15 years yield by two and subtracting the 15 years yield and the 30 years yield. \n",
    "\n",
    "Accordingly to previous literature: the first PC should represent the shift, the second PC should represent the slope and the third PC should represent the curvature. \n",
    "We can show this here by looking at the absolute value of their respective correlations - if, in absolute values, this is near 1 (and/or above 0.5), we can state that these statement are being illustrated in a satisfactory manner. \n"
   ]
  },
  {
   "cell_type": "code",
   "execution_count": 41,
   "metadata": {
    "collapsed": false
   },
   "outputs": [
    {
     "data": {
      "image/png": "[encoded data removed]",
      "text/plain": [
       "plot without title"
      ]
     },
     "execution_count": 41,
     "metadata": {
      "image/png": {
       "height": 420,
       "width": 420
      }
     },
     "output_type": "execute_result"
    },
    {
     "data": {
      "image/png": "[encoded data removed]",
      "text/plain": [
       "plot without title"
      ]
     },
     "execution_count": 41,
     "metadata": {
      "image/png": {
       "height": 420,
       "width": 420
      }
     },
     "output_type": "execute_result"
    },
    {
     "data": {
      "image/png": "[encoded data removed]",
      "text/plain": [
       "plot without title"
      ]
     },
     "execution_count": 41,
     "metadata": {
      "image/png": {
       "height": 420,
       "width": 420
      }
     },
     "output_type": "execute_result"
    }
   ],
   "source": [
    "shift0 <- (data$teny)\n",
    "plot(shift0)\n",
    "\n",
    "slope0 <- (data$teny - data$twoy)\n",
    "plot(slope0)\n",
    "\n",
    "butterfly0 <- (2*data$fifteeny - data$seveny - data$thirtyy)\n",
    "plot(butterfly0)"
   ]
  },
  {
   "cell_type": "markdown",
   "metadata": {
    "collapsed": false
   },
   "source": [
    "## Correlations of PC1 with Shift, PC2 with Slope, PC3 with Curvature"
   ]
  },
  {
   "cell_type": "code",
   "execution_count": 42,
   "metadata": {
    "collapsed": false,
    "scrolled": true
   },
   "outputs": [
    {
     "data": {
      "text/html": [
       "-0.810897372810956"
      ],
      "text/latex": [
       "-0.810897372810956"
      ],
      "text/markdown": [
       "-0.810897372810956"
      ],
      "text/plain": [
       "[1] -0.8108974"
      ]
     },
     "execution_count": 42,
     "metadata": {
     },
     "output_type": "execute_result"
    },
    {
     "data": {
      "text/html": [
       "0.822053129253417"
      ],
      "text/latex": [
       "0.822053129253417"
      ],
      "text/markdown": [
       "0.822053129253417"
      ],
      "text/plain": [
       "[1] 0.8220531"
      ]
     },
     "execution_count": 42,
     "metadata": {
     },
     "output_type": "execute_result"
    },
    {
     "data": {
      "text/html": [
       "-0.652520777463495"
      ],
      "text/latex": [
       "-0.652520777463495"
      ],
      "text/markdown": [
       "-0.652520777463495"
      ],
      "text/plain": [
       "[1] -0.6525208"
      ]
     },
     "execution_count": 42,
     "metadata": {
     },
     "output_type": "execute_result"
    }
   ],
   "source": [
    "cor(shift0, pc1) \n",
    "cor(slope0, pc2)\n",
    "cor(butterfly0, pc3)\n"
   ]
  },
  {
   "cell_type": "markdown",
   "metadata": {
    "collapsed": false
   },
   "source": [
    "Given how high these correlations are, in absolute terms, this is here shown to be the case. The first PC represents the shift, the second the slope and the third the curvature of an yield curve. "
   ]
  },
  {
   "cell_type": "markdown",
   "metadata": {
    "collapsed": false
   },
   "source": [
    "## Plots"
   ]
  },
  {
   "cell_type": "code",
   "execution_count": 43,
   "metadata": {
    "collapsed": false
   },
   "outputs": [
    {
     "data": {
      "text/html": [
       "<strong>png:</strong> 2"
      ],
      "text/latex": [
       "\\textbf{png:} 2"
      ],
      "text/markdown": [
       "**png:** 2"
      ],
      "text/plain": [
       "png \n",
       "  2 "
      ]
     },
     "execution_count": 43,
     "metadata": {
     },
     "output_type": "execute_result"
    }
   ],
   "source": [
    "#Exporting the image as jpeg\n",
    "\n",
    "jpeg(file=\"PC1_shift_d.jpeg\", quality = 100)\n",
    "\n",
    "\n",
    "yLimits <- c(min(pc1, pc5) , max(pc1, pc5))\n",
    "plot(pc1, type = \"l\", ylim = yLimits, main = \"PC1 and 10y maturity\",\n",
    "     xlab = \"Index\", ylab = \"PC\")\n",
    "lines(shift0, col = \"blue\")\n",
    "legend(\"bottomleft\", legend = c(\"PC 1\", \"10y maturity\"),\n",
    "       col = c(\"black\", \"blue\"), lwd = 1, cex = 0.7)\n",
    "\n",
    "dev.off() \n"
   ]
  },
  {
   "cell_type": "code",
   "execution_count": 44,
   "metadata": {
    "collapsed": false
   },
   "outputs": [
    {
     "data": {
      "image/png": "[encoded data removed]",
      "text/plain": [
       "Plot with title “PC1 and 10y maturity”"
      ]
     },
     "execution_count": 44,
     "metadata": {
      "image/png": {
       "height": 420,
       "width": 420
      }
     },
     "output_type": "execute_result"
    }
   ],
   "source": [
    "yLimits <- c(min(pc1, pc5) , max(pc1, pc5))\n",
    "plot(pc1, type = \"l\", ylim = yLimits, main = \"PC1 and 10y maturity\",\n",
    "     xlab = \"Index\", ylab = \"PC\")\n",
    "lines(shift0, col = \"blue\")\n",
    "legend(\"bottomleft\", legend = c(\"PC 1\", \"10y maturity\"),\n",
    "       col = c(\"black\", \"blue\"), lwd = 1, cex = 0.7)\n",
    "\n"
   ]
  },
  {
   "cell_type": "code",
   "execution_count": 45,
   "metadata": {
    "collapsed": false
   },
   "outputs": [
    {
     "data": {
      "text/html": [
       "<strong>png:</strong> 2"
      ],
      "text/latex": [
       "\\textbf{png:} 2"
      ],
      "text/markdown": [
       "**png:** 2"
      ],
      "text/plain": [
       "png \n",
       "  2 "
      ]
     },
     "execution_count": 45,
     "metadata": {
     },
     "output_type": "execute_result"
    }
   ],
   "source": [
    "#Exporting the image as jpeg\n",
    "\n",
    "jpeg(file=\"PC2_shift_d.jpeg\", quality = 100)\n",
    "\n",
    "\n",
    "\n",
    "yLimits <- c(min(pc1, pc5) , max(pc1, pc5))\n",
    "plot(pc2, type = \"l\", ylim = yLimits, main = \"PC2 and 2y10y spread\",\n",
    "     xlab = \"Index\", ylab = \"PC\")\n",
    "lines(slope0, col = \"red\")\n",
    "legend(\"bottomleft\", legend = c(\"PC 2\", \"2y10y spread\"),\n",
    "       col = c(\"black\", \"red\"), lwd = 1, cex = 0.7)\n",
    "\n",
    "dev.off() "
   ]
  },
  {
   "cell_type": "code",
   "execution_count": 46,
   "metadata": {
    "collapsed": false
   },
   "outputs": [
    {
     "data": {
      "image/png": "[encoded data removed]",
      "text/plain": [
       "Plot with title “PC2 and 2y10y spread”"
      ]
     },
     "execution_count": 46,
     "metadata": {
      "image/png": {
       "height": 420,
       "width": 420
      }
     },
     "output_type": "execute_result"
    }
   ],
   "source": [
    "yLimits <- c(min(pc1, pc5) , max(pc1, pc5))\n",
    "plot(pc2, type = \"l\", ylim = yLimits, main = \"PC2 and 2y10y spread\",\n",
    "     xlab = \"Index\", ylab = \"PC\")\n",
    "lines(slope0, col = \"red\")\n",
    "legend(\"bottomleft\", legend = c(\"PC 2\", \"2y10y spread\"),\n",
    "       col = c(\"black\", \"red\"), lwd = 1, cex = 0.7)\n",
    "\n"
   ]
  },
  {
   "cell_type": "code",
   "execution_count": 47,
   "metadata": {
    "collapsed": false
   },
   "outputs": [
    {
     "data": {
      "text/html": [
       "<strong>png:</strong> 2"
      ],
      "text/latex": [
       "\\textbf{png:} 2"
      ],
      "text/markdown": [
       "**png:** 2"
      ],
      "text/plain": [
       "png \n",
       "  2 "
      ]
     },
     "execution_count": 47,
     "metadata": {
     },
     "output_type": "execute_result"
    }
   ],
   "source": [
    "#Exporting the image as jpeg\n",
    "\n",
    "jpeg(file=\"PC3_shift_d.jpeg\", quality = 100)\n",
    "\n",
    "\n",
    "yLimits <- c(min(pc1, pc5) , max(pc1, pc5))\n",
    "plot(pc3, type = \"l\", ylim = yLimits, main = \"PC3 and Butterfly  spread\",\n",
    "     xlab = \"Index\", ylab = \"PC\")\n",
    "lines(butterfly0, col = \"orange\")\n",
    "legend(\"bottomleft\", legend = c(\"PC 3\", \"Butterfly 7y15y30y\"),\n",
    "       col = c(\"black\", \"orange\"), lwd = 1, cex = 0.7)\n",
    "\n",
    "\n",
    "dev.off() \n"
   ]
  },
  {
   "cell_type": "code",
   "execution_count": 48,
   "metadata": {
    "collapsed": false
   },
   "outputs": [
    {
     "data": {
      "image/png": "[encoded data removed]",
      "text/plain": [
       "Plot with title “PC3 and Butterfly  spread”"
      ]
     },
     "execution_count": 48,
     "metadata": {
      "image/png": {
       "height": 420,
       "width": 420
      }
     },
     "output_type": "execute_result"
    }
   ],
   "source": [
    "yLimits <- c(min(pc1, pc5) , max(pc1, pc5))\n",
    "plot(pc3, type = \"l\", ylim = yLimits, main = \"PC3 and Butterfly  spread\",\n",
    "     xlab = \"Index\", ylab = \"PC\")\n",
    "lines(butterfly0, col = \"orange\")\n",
    "legend(\"bottomleft\", legend = c(\"PC 3\", \"Butterfly 7y15y30y\"),\n",
    "       col = c(\"black\", \"orange\"), lwd = 1, cex = 0.7)\n"
   ]
  },
  {
   "cell_type": "code",
   "execution_count": 49,
   "metadata": {
    "collapsed": false
   },
   "outputs": [
    {
     "data": {
      "image/png": "[encoded data removed]",
      "text/plain": [
       "Plot with title “Principal Components from 1 to 3”"
      ]
     },
     "execution_count": 49,
     "metadata": {
      "image/png": {
       "height": 420,
       "width": 420
      }
     },
     "output_type": "execute_result"
    }
   ],
   "source": [
    "yLimits <- c(min(pc1, pc5) , max(pc1, pc5))\n",
    "plot(pc1, type = \"l\", ylim = yLimits, main = \"Principal Components from 1 to 3\",\n",
    "     xlab = \"Index\", ylab = \"PC\")\n",
    "lines(pc2, col = \"blue\")\n",
    "lines(pc3, col = \"red\")\n",
    "legend(\"bottomleft\", legend = c(\"PC 1\", \"PC 2\", \"PC 3\"),\n",
    "       col = c(\"black\", \"blue\", \"red\"), lwd = 1, cex = 0.7)"
   ]
  },
  {
   "cell_type": "markdown",
   "metadata": {
    "collapsed": false
   },
   "source": [
    "## Loadings of the first three components"
   ]
  },
  {
   "cell_type": "markdown",
   "metadata": {
    "collapsed": false
   },
   "source": [
    "The first component as no sign change. The second component has 1 sign change. The third component has 2 sign changes. \n",
    "\n",
    "Also this can allude to the properties of shift, slope and curvature. "
   ]
  },
  {
   "cell_type": "code",
   "execution_count": 50,
   "metadata": {
    "collapsed": false
   },
   "outputs": [
    {
     "data": {
      "image/png": "[encoded data removed]",
      "text/plain": [
       "Plot with title “Loading of Principal Component 1”"
      ]
     },
     "execution_count": 50,
     "metadata": {
      "image/png": {
       "height": 420,
       "width": 420
      }
     },
     "output_type": "execute_result"
    },
    {
     "data": {
      "image/png": "[encoded data removed]",
      "text/plain": [
       "Plot with title “Loading of the Principal Component 2”"
      ]
     },
     "execution_count": 50,
     "metadata": {
      "image/png": {
       "height": 420,
       "width": 420
      }
     },
     "output_type": "execute_result"
    },
    {
     "data": {
      "text/html": [
       "<strong>png:</strong> 2"
      ],
      "text/latex": [
       "\\textbf{png:} 2"
      ],
      "text/markdown": [
       "**png:** 2"
      ],
      "text/plain": [
       "png \n",
       "  2 "
      ]
     },
     "execution_count": 50,
     "metadata": {
     },
     "output_type": "execute_result"
    },
    {
     "data": {
      "text/html": [
       "<strong>png:</strong> 2"
      ],
      "text/latex": [
       "\\textbf{png:} 2"
      ],
      "text/markdown": [
       "**png:** 2"
      ],
      "text/plain": [
       "png \n",
       "  2 "
      ]
     },
     "execution_count": 50,
     "metadata": {
     },
     "output_type": "execute_result"
    },
    {
     "data": {
      "text/html": [
       "<strong>png:</strong> 2"
      ],
      "text/latex": [
       "\\textbf{png:} 2"
      ],
      "text/markdown": [
       "**png:** 2"
      ],
      "text/plain": [
       "png \n",
       "  2 "
      ]
     },
     "execution_count": 50,
     "metadata": {
     },
     "output_type": "execute_result"
    },
    {
     "data": {
      "image/png": "[encoded data removed]",
      "text/plain": [
       "Plot with title “Loading of the Principal Component 3”"
      ]
     },
     "execution_count": 50,
     "metadata": {
      "image/png": {
       "height": 420,
       "width": 420
      }
     },
     "output_type": "execute_result"
    }
   ],
   "source": [
    "# Plot the loadings of the first three components\n",
    "barplot(-pcaR$vectors[, 1], main = \"Loading of Principal Component 1\",\n",
    "        names.arg = as.character(1:10), xlab = \"Variable No.\", ylab = \"Loading\")\n",
    "barplot(-pcaR$vectors[, 2], main = \"Loading of the Principal Component 2\",\n",
    "        names.arg = as.character(1:10), xlab = \"Variable No.\", ylab = \"Loading\")\n",
    "barplot(-pcaR$vectors[, 3], main = \"Loading of the Principal Component 3\",\n",
    "        names.arg = as.character(1:10), xlab = \"Variable No.\", ylab = \"Loading\")\n",
    "\n",
    "\n",
    "#Exporting the images as jpeg\n",
    "\n",
    "jpeg(file=\"PC1_loadings_d.jpeg\", quality = 100)\n",
    "barplot(-pcaR$vectors[, 1], main = \"Loading of Principal Component 1\",\n",
    "        names.arg = as.character(1:10), xlab = \"Variable No.\", ylab = \"Loading\")\n",
    "dev.off() \n",
    "\n",
    "jpeg(file=\"PC2_loadings_d.jpeg\", quality = 100)\n",
    "barplot(-pcaR$vectors[, 2], main = \"Loading of the Principal Component 2\",\n",
    "        names.arg = as.character(1:10), xlab = \"Variable No.\", ylab = \"Loading\")\n",
    "dev.off() \n",
    "\n",
    "jpeg(file=\"PC3_loadings_d.jpeg\", quality = 100)\n",
    "barplot(-pcaR$vectors[, 3], main = \"Loading of the Principal Component 3\",\n",
    "        names.arg = as.character(1:10), xlab = \"Variable No.\", ylab = \"Loading\")\n",
    "dev.off() \n"
   ]
  },
  {
   "cell_type": "markdown",
   "metadata": {
    "collapsed": false
   },
   "source": [
    "## Explained Variability"
   ]
  },
  {
   "cell_type": "code",
   "execution_count": 51,
   "metadata": {
    "collapsed": false
   },
   "outputs": [
    {
     "data": {
      "text/html": [
       "<style>\n",
       ".list-inline {list-style: none; margin:0; padding: 0}\n",
       ".list-inline>li {display: inline-block}\n",
       ".list-inline>li:not(:last-child)::after {content: \"\\00b7\"; padding: 0 .5ex}\n",
       "</style>\n",
       "<ol class=list-inline><li>71.5358060061002</li><li>12.9854939826256</li><li>7.83190500082388</li><li>5.32287251939223</li><li>1.71760533702377</li><li>0.33680942429109</li><li>0.103472082431382</li><li>0.0611184302970019</li><li>0.0555629231748646</li><li>0.0493542938400641</li></ol>\n"
      ],
      "text/latex": [
       "\\begin{enumerate*}\n",
       "\\item 71.5358060061002\n",
       "\\item 12.9854939826256\n",
       "\\item 7.83190500082388\n",
       "\\item 5.32287251939223\n",
       "\\item 1.71760533702377\n",
       "\\item 0.33680942429109\n",
       "\\item 0.103472082431382\n",
       "\\item 0.0611184302970019\n",
       "\\item 0.0555629231748646\n",
       "\\item 0.0493542938400641\n",
       "\\end{enumerate*}\n"
      ],
      "text/markdown": [
       "1. 71.5358060061002\n",
       "2. 12.9854939826256\n",
       "3. 7.83190500082388\n",
       "4. 5.32287251939223\n",
       "5. 1.71760533702377\n",
       "6. 0.33680942429109\n",
       "7. 0.103472082431382\n",
       "8. 0.0611184302970019\n",
       "9. 0.0555629231748646\n",
       "10. 0.0493542938400641\n",
       "\n",
       "\n"
      ],
      "text/plain": [
       " [1] 71.53580601 12.98549398  7.83190500  5.32287252  1.71760534  0.33680942\n",
       " [7]  0.10347208  0.06111843  0.05556292  0.04935429"
      ]
     },
     "execution_count": 51,
     "metadata": {
     },
     "output_type": "execute_result"
    }
   ],
   "source": [
    "#Relative Variences\n",
    "vars <- pcaData$sdev^2/sum(pcaData$sdev^2)*100\n",
    "vars\n"
   ]
  },
  {
   "cell_type": "code",
   "execution_count": 52,
   "metadata": {
    "collapsed": false
   },
   "outputs": [
    {
     "data": {
      "image/png": "[encoded data removed]",
      "text/plain": [
       "Plot with title “Relative Variance of each Principal Component”"
      ]
     },
     "execution_count": 52,
     "metadata": {
      "image/png": {
       "height": 420,
       "width": 420
      }
     },
     "output_type": "execute_result"
    },
    {
     "data": {
      "image/png": "[encoded data removed]",
      "text/plain": [
       "Plot with title “Cumulative Variance of each Principal Component”"
      ]
     },
     "execution_count": 52,
     "metadata": {
      "image/png": {
       "height": 420,
       "width": 420
      }
     },
     "output_type": "execute_result"
    }
   ],
   "source": [
    "# Barplot of the relative variances\n",
    "barplot(pcaData$sdev^2/sum(pcaData$sdev^2)*100, \n",
    "        names.arg = colnames(pcaData$rotation), \n",
    "        cex.names = 0.7, col = \"lightblue\", xlab = \"Principal Components\",\n",
    "        ylab = \"Relative Variance\",\n",
    "        main = \"Relative Variance of each Principal Component\")\n",
    "\n",
    "# Barplot of the cumulative percentage of the variances \n",
    "barplot(cumsum(pcaData$sdev^2)/sum(pcaData$sdev^2)*100, \n",
    "        names.arg = colnames(pcaData$rotation), \n",
    "        cex.names = 0.7, col = \"lightblue\", xlab = \"Principal Components\",\n",
    "        ylab = \"Relative Variance\",\n",
    "        main = \"Cumulative Variance of each Principal Component\")\n"
   ]
  }
 ],
 "metadata": {
  "kernelspec": {
   "display_name": "R (system-wide)",
   "language": "r",
   "metadata": {
    "cocalc": {
     "description": "R statistical programming language",
     "priority": 10,
     "url": "https://www.r-project.org/"
    }
   },
   "name": "ir",
   "resource_dir": "/ext/jupyter/kernels/ir"
  },
  "language_info": {
   "codemirror_mode": "r",
   "file_extension": ".r",
   "mimetype": "text/x-r-source",
   "name": "R",
   "pygments_lexer": "r",
   "version": "4.1.1"
  }
 },
 "nbformat": 4,
 "nbformat_minor": 4
}